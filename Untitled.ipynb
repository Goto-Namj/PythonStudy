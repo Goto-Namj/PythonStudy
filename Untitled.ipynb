{
 "cells": [
  {
   "cell_type": "code",
   "execution_count": null,
   "metadata": {},
   "outputs": [],
   "source": [
    "def plus_one(arg):\n",
    "    return arg+10\n",
    "\n",
    "def my_map(func, arg_list):\n",
    "    result = []\n",
    "    \n",
    "    for i in arg_list:\n",
    "        result.append(func(i))\n",
    "        \n",
    "    def how(x):\n",
    "        return result*x\n",
    "    \n",
    "    return how\n",
    "\n",
    "num_list = [1, 2, 3, 4, 5]\n",
    "\n",
    "\n",
    "a=my_map(plus_one, num_list)\n",
    "a(3)"
   ]
  },
  {
   "cell_type": "code",
   "execution_count": null,
   "metadata": {},
   "outputs": [],
   "source": [
    "# 일반적인 함수\n",
    "def simple_html_tag(tag, msg):\n",
    "    print ('<{0}> {1} <{0}>'.format(tag, msg))\n",
    "    \n",
    "simple_html_tag('h1', '심플 헤딩 타이틀')\n",
    "\n",
    "print ('-'*30)\n",
    "\n",
    "# 얘가 high뭐시기\n",
    "def html_tag(tag):\n",
    "    \n",
    "    def wrap_text(msg):\n",
    "        print ('<{0}> {1} <{0}>'.format(tag, msg))\n",
    "        \n",
    "    return wrap_text\n",
    "\n",
    "# 이런 식으로 사용\n",
    "print_h1 = html_tag('h1')\n",
    "print_h1('첫번째')\n",
    "\n",
    "html_tag('tag0')('msg1')"
   ]
  },
  {
   "cell_type": "code",
   "execution_count": 4,
   "metadata": {},
   "outputs": [
    {
     "data": {
      "text/plain": [
       "120"
      ]
     },
     "execution_count": 4,
     "metadata": {},
     "output_type": "execute_result"
    }
   ],
   "source": [
    "def a(aa):\n",
    "    return aa+aa\n",
    "\n",
    "# 함수 b는 c보다 밖에서 c에게 명령을 내려서? high-order function이라고 한다.\n",
    "def b(bb,func): # bb변수는 c함수 밖에서 선언되었지만 c에서 사용되었다. 이 변수를 free variable(프리변수)라고한다.\n",
    "                # 이 프리변수가 클로저(튜플)에 담겨서 저장되어있는다.\n",
    "    def c(cc):\n",
    "        return func(bb)+cc\n",
    "    return c\n",
    "\n",
    "d = b(10,a)\n",
    "d(100)"
   ]
  },
  {
   "cell_type": "code",
   "execution_count": 1,
   "metadata": {},
   "outputs": [
    {
     "data": {
      "text/plain": [
       "320"
      ]
     },
     "execution_count": 1,
     "metadata": {},
     "output_type": "execute_result"
    }
   ],
   "source": [
    "def b(func):\n",
    "    \n",
    "    def c(bb,cc):\n",
    "        return func(bb+bb,cc*3)\n",
    "    return c\n",
    "\n",
    "@b\n",
    "def a(aa,bb):\n",
    "    return aa+bb\n",
    "\n",
    "a(10,100)"
   ]
  },
  {
   "cell_type": "code",
   "execution_count": null,
   "metadata": {},
   "outputs": [],
   "source": []
  }
 ],
 "metadata": {
  "kernelspec": {
   "display_name": "Python 3",
   "language": "python",
   "name": "python3"
  },
  "language_info": {
   "codemirror_mode": {
    "name": "ipython",
    "version": 3
   },
   "file_extension": ".py",
   "mimetype": "text/x-python",
   "name": "python",
   "nbconvert_exporter": "python",
   "pygments_lexer": "ipython3",
   "version": "3.7.3"
  }
 },
 "nbformat": 4,
 "nbformat_minor": 2
}
