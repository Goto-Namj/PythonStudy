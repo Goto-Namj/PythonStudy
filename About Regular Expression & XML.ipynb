{
 "cells": [
  {
   "cell_type": "markdown",
   "metadata": {},
   "source": [
    "# 정규 표현식\n",
    "\n",
    "정규 표현식(Regular Expressions)(정규식)은 복잡한 문자열을 처리할 때 사용하는 기법이다.\n",
    "\n",
    "사용하는 이유\n",
    "\n",
    "- 주민등록번호를 포함하고 있는 텍스트가 있다. 이 텍스트에 포함된 모든 주민등록번호의 뒷자리를 * 문자로 변경하시오.\n",
    "\n",
    "정규표현식을 모른다면,\n",
    "1. 전체 텍스트를 공백문자로 나눈다(split).\n",
    "2. 나누어진 단어들이 주민등록번호 형식인지 조사한다.\n",
    "3. 단어가 주민등록번호 형식이라면 뒷자리를 *로 변환한다.\n",
    "4. 나누어진 단어들을 다시 조립한다.\n",
    "\n",
    "아래는 정규 표현식을 모른 상태로 짠 코드이다.\n",
    "```python\n",
    "data=\"\"\"\n",
    "    park 800905-1049118\n",
    "    kim 700905-1059119\n",
    "    \"\"\"\n",
    "\n",
    "result=[]\n",
    "for line in data.split(\"\\n\"):\n",
    "    word_result = []\n",
    "    for word in line.split(\" \"):\n",
    "        if len(word) == 14 and word[:6].isdigit() and word[7:].isdigit():\n",
    "            word = word[:6] + \"-\" + \"*******\"\n",
    "        word_result.append(word)\n",
    "    result.append(\" \".join(word_result))\n",
    "print(\"\\n\".join(result))\n",
    "```\n",
    "이번에는 정규 표현식을 사용해 보겠다.\n",
    "```python\n",
    "import re\n",
    "\n",
    "data = \"\"\"\n",
    "    park 800905-1049118\n",
    "    kim 700905-1059119\n",
    "    \"\"\"\n",
    "\n",
    "pat = re.compile(\"(\\d{6})[-]\\d{7}\")\n",
    "print(pat.sub(\"\\g<1>-*******\",data))\n",
    "```"
   ]
  },
  {
   "cell_type": "markdown",
   "metadata": {},
   "source": [
    "# `메타 문자`\n",
    "\n",
    "그 문자가 가진 뜻이 아닌 특별한 용도로 사용되는 문자를 말한다.\n",
    "\n",
    ". ^ $ * + ? { } [ ] \\ | ( ) 와 같은 것들이 있다"
   ]
  },
  {
   "cell_type": "markdown",
   "metadata": {},
   "source": [
    "---\n",
    "#### [ ]\n",
    "\n",
    "문자 클래스\n",
    "\n",
    "[와 ] 사이의 문자들과 매치 라는 뜻이다.\n",
    "\n",
    "[abc]는 abc중 한개의 문자와 매치를 뜻한다.\n",
    "\n",
    "정규식 [abc]\n",
    "\n",
    "문자열 a bd d\n",
    "\n",
    "매치 여부 y y no\n",
    "\n",
    "정규식[abc]과 일치하는 문자가 하나라도 있으면 매치yes"
   ]
  },
  {
   "cell_type": "markdown",
   "metadata": {},
   "source": [
    "---\n",
    "#### -\n",
    "\n",
    "[ ] 안의 두 문자 사이에 하이픈(-)을 사용하게 되면 두 문자 사이의 범위를 의미한다.\n",
    "\n",
    "- ex)\n",
    "    - [a-zA-Z]=알파벳 모두\n",
    "    - [0-9]=숫자"
   ]
  },
  {
   "cell_type": "markdown",
   "metadata": {},
   "source": [
    "---\n",
    "#### ^\n",
    "\n",
    "^=not\n",
    "\n",
    "- ex)\n",
    "    - [^0-9]=숫자빼고 다  "
   ]
  },
  {
   "cell_type": "markdown",
   "metadata": {},
   "source": [
    "---\n",
    "#### \\\n",
    "\n",
    "- ex)\n",
    "    - [0-9] = \\d\n",
    "    - [^0-9] = \\D \n",
    "    - [a-zA-z0-9] = 문자,숫자(alphanumeric)와 매치 = \\w\n",
    "    - [^a-zA-z0-9] = 문자,숫자(alphanumeric)가 아닌 것과 매치 = \\W\n",
    "    - [ \\t\\n\\r\\f\\v](자세히 보면 처음에 띄어쓰기 되어있음) = whitespace문자와 매치(공백, 탭, 엔터등) = \\s\n",
    "    - [^ \\t\\n\\r\\f\\v] = whitespace문자가 아닌 것과 매치(공백, 탭, 엔터등) = \\S"
   ]
  },
  {
   "cell_type": "markdown",
   "metadata": {},
   "source": [
    "---\n",
    "#### .\n",
    "\n",
    ".은 줄바꿈 문자인 \\n를 제외한 모든 문자와 매치된다.\n",
    "\n",
    "a.b는 a와 b사이에 줄바꿈 문자를 제외한 어떤 문자가 들어가도 모두 매치라는 뜻이다.\n",
    "\n",
    "다음과 같다 \"a + 모든 문자 + b\"\n",
    "\n",
    "정규식 a.b\n",
    "\n",
    "문자열 aab a0b abc\n",
    "\n",
    "매치 여부 yes yes no\n",
    "\n",
    "정규식 a[.]b은 a와 b 사이에 . 문자가 있으면 매치라는 뜻이다."
   ]
  },
  {
   "cell_type": "markdown",
   "metadata": {},
   "source": [
    "---\n",
    "#### *\n",
    "\n",
    "ca*t 은 *문자 바로 앞에있는 a가 0번 이상 반복되면 매치된다.(최대 2억 개 정도 가능하다고 한다.)\n",
    "\n",
    "ct, cat, caaat 모두 매치가 된다. 각각 0,1,3번 반복됐기 때문이다."
   ]
  },
  {
   "cell_type": "markdown",
   "metadata": {},
   "source": [
    "---\n",
    "#### +\n",
    "\n",
    "+는 최소 1번 이상 반복될 때 사용한다."
   ]
  },
  {
   "cell_type": "markdown",
   "metadata": {},
   "source": [
    "---\n",
    "#### {m,n}\n",
    "\n",
    "m회이상 n회이하 반복된 것을 매치할 수 있다. 이 때 m또는 n을 생략할 수도 있다."
   ]
  },
  {
   "cell_type": "markdown",
   "metadata": {},
   "source": [
    "---\n",
    "#### ?\n",
    "\n",
    "{0,1}이라고 생각하면 된다."
   ]
  },
  {
   "cell_type": "markdown",
   "metadata": {},
   "source": [
    "---\n",
    "#### ( )\n",
    "\n",
    "예를 들어 ABC가 반복되는지를 알고싶다면 [ABC+]라고 해야할까?\n",
    "\n",
    "아니다. [ABC+]는 A나 B나 C가연속으로 1번이상 반복되는지 이다.\n",
    "\n",
    "그래서 (와 )로 묶으면 된다. 이렇게 '(ABC)+'"
   ]
  },
  {
   "cell_type": "code",
   "execution_count": null,
   "metadata": {},
   "outputs": [],
   "source": [
    "import re\n",
    "m = re.search('(ABC)+','ABCABCABC OK?')\n",
    "print(m)\n",
    "print(m.group())\n",
    "print(m.group(1))  # 이해 안된다고 해도 아래서 설명할거임 아 그리고 참고로 '(ABC)+' 이지, '(ABC+)'는 아니야"
   ]
  },
  {
   "cell_type": "code",
   "execution_count": null,
   "metadata": {},
   "outputs": [],
   "source": [
    "import re\n",
    "\n",
    "m = re.search(r\"\\w+\\s+\\d+[-]\\d+[-]\\d+\",\"park 010-1234-1234\")\n",
    "print(m)\n",
    "print(m.group()) # group(), group(0)은 에러가 나지 않는다. (1)이상부터 에러가 난다.\n",
    "\n",
    "m = re.search(r\"(\\w+\\s+\\d+[-]\\d+[-]\\d+)\",\"park 010-1234-1234\")\n",
    "print(m)\n",
    "print(m.group(1)) # group(), group(0), gorup(1)은 에러가 나지않는다 그 이후부터 에러가 난다.\n",
    "\n",
    "m = re.search(r\"(\\w+)\\s+(\\d+[-]\\d+[-]\\d+)\",\"park 010-1234-1234\")\n",
    "print(m)\n",
    "print(m.group(1))\n",
    "print(m.group(2))\n",
    "\n",
    "m = re.search(r\"(\\w+)\\s+((\\d+)[-]\\d+[-]\\d+)\",\"park 010-1234-1234\")\n",
    "print(m)\n",
    "print(m.group(2))\n",
    "print(m.group(3))  # ( 이거 기준으로 순서대로 123456.... 알제?"
   ]
  },
  {
   "cell_type": "markdown",
   "metadata": {},
   "source": [
    "#### 그룹핑된 문자열 재참조\n",
    "\n",
    "재참조 메타 문자 \\(숫자)"
   ]
  },
  {
   "cell_type": "code",
   "execution_count": 42,
   "metadata": {},
   "outputs": [
    {
     "name": "stdout",
     "output_type": "stream",
     "text": [
      "the the\n"
     ]
    }
   ],
   "source": [
    "p = re.compile(r'(\\b\\w+)\\s+\\1')   # (\\b\\w+) 는 whitespace와 여러문자들을 그룹화 시켰고 그 뒤에 whitespace가 바로 오고\n",
    "                                  # 그룹화한(\\1)이 또 온다.  (\\1는 1번째 그룹을 재참조)\n",
    "print(p.search('paris in the the spring').group())"
   ]
  },
  {
   "cell_type": "markdown",
   "metadata": {},
   "source": [
    "#### 그룹핑된 문자열에 이름 붙이기\n",
    "\n",
    "긴 정규식에 많은 그룹이 있다. 이 정규식을 수정해보자 다른 코드들도 모두 바뀐다.\n",
    "\n",
    "이 문제를 방지하기위해 인덱스가 아닌 이름으로 참조하는 방법이 있다.\n",
    "\n",
    "(?P<그룹명>...) 밖에서는 group(\"그룹명\") 안에서는 (?P=그룹명)으로 불리운다."
   ]
  },
  {
   "cell_type": "code",
   "execution_count": null,
   "metadata": {},
   "outputs": [],
   "source": [
    "import re\n",
    "m = re.search(r\"(\\w+)\\s+((\\d+)[-]\\d+[-]\\d+)\",\"park 010-1234-1234\")\n",
    "print(m)\n",
    "print(m.group(1))\n",
    "print(m.group(3))\n",
    "\n",
    "# 이 코드는 나왔던 코드이다 이 코드를 고쳐보자\n",
    "\n",
    "import re\n",
    "m = re.search(r\"(?P<name>\\w+)\\s+((\\d+)[-]\\d+[-]\\d+)\",\"park 010-1234-1234\")\n",
    "print(m)\n",
    "print(m.group(\"name\"),m.group(1),sep=' ')\n",
    "print(m.group(3),end='\\n\\n')\n",
    "\n",
    "# 그룹명을 이용해 재참조도 가능하다. (정규식 내에서)\n",
    "\n",
    "p = re.compile(r'(?P<word>\\b\\w+)\\s+(?P=word)')\n",
    "m = p.search('Paris in the the spring')\n",
    "print(m.group())\n",
    "print(p.search('Paris in the the spring').group())"
   ]
  },
  {
   "cell_type": "markdown",
   "metadata": {},
   "source": [
    "#### 전방 탐색\n",
    "\n",
    "- (?=...) 긍정형 전방 탐색\n",
    "    - ...에 해당되는 정규식과 매치되어야 하며 조건이 통과되어도 문자열이 소모되지 않는다.\n",
    "- (?!...) 부정형 전방 탐색\n",
    "    - ...에 해당되는 정규식과 매치되어야 하며 조건이 통과되어도 문자열이 소모되지 않는다."
   ]
  },
  {
   "cell_type": "code",
   "execution_count": null,
   "metadata": {},
   "outputs": [],
   "source": [
    "# 긍정형 전방 탐색\n",
    "import re\n",
    "\n",
    "p = re.compile(\".+:\")\n",
    "m = p.search(\"http://google.com\")\n",
    "print(m.group())\n",
    "\n",
    "# 그룹핑을 사용하지 않고 위 코드에서 http:가 아닌 http를 리턴하는 방법\n",
    "\n",
    "p = re.compile(\".+(?=:)\")    # 위와 같지만, : 에 해당되는 문자열이 소모되지 않아(검색에는 포함되지만 검색결과에선 제외됨)\n",
    "m = p.search(\"http://google.com\")    # 아니.... 위 주석만 보면 소모가 아니라 사용이잖아!!!! 아니면 있는것을 써서 없앤다의 소모가아니라\n",
    "print(m.group())                     # 불러서 모은다의 소모인가..? 그냥 리턴이라고 하지는....\n",
    "                                     # 근데 아래 메타문자들은 출력 잘되는거 아닌가?"
   ]
  },
  {
   "cell_type": "code",
   "execution_count": null,
   "metadata": {},
   "outputs": [],
   "source": [
    "# 부정형 전방 탐색\n",
    "import re\n",
    "\n",
    "def test(p):\n",
    "    print(p.search(\"asdf.\"))\n",
    "    print(p.search(\"asdf.b\"))\n",
    "    print(p.search(\"asdf.ba\"))\n",
    "    print(p.search(\"asdf.bac\"))\n",
    "    print(p.search(\"asdf.exe\"))\n",
    "    print(p.search(\"asdf.bat\"))\n",
    "    print(p.search(\"asdf.batc\"))\n",
    "    print(p.search(\"asdf.ccccc\"),end='\\n\\n')\n",
    "\n",
    "    \n",
    "# .bat 파일을 제외하고 파일명.확장자 파일들과 매치시키려고 한다.\n",
    "\n",
    "p1 = re.compile(\".*[.].*$\")  # \"파일명 + . + 확장자\" 를 나타내는 정규식이다. $ 로 인해 뒤에서부터 찾음\n",
    "p2 = re.compile(\".*[.][^b].*$\")  # .(어떤문자든)*(여러번 반복됨) 그 뒤에 [.] .이 나오고 [^b] b가 아닌게 나오고 .(어떤문자든)*(여러번)\n",
    "                                 # 이러면 확장자가 b로 시작하지 않는것 이라는 의미\n",
    "p3 = re.compile(\".*[.]([^b]..|.[^a].|..[^t])$\") # 확장자가 b..이 아니거나, .a.이 아니거나, ..t가 아닌것\n",
    "                                                # 문제가 있음! asdf.js 이런 두글자 확장자는 오류 생김..\n",
    "# p3 = re.compile(\".*[.](^b^a^t)\") # 이게 아닌 이유는 b도 안들어가고 a도 안들어가고 t도 안들어가는거라서\n",
    "p4 = re.compile(\".*[.]([^b].?.?|.[^a]?.?|..?[^t]?)$\")\n",
    "test(p4)  #  # 0글자 오류(얜 인정), 4글자 이상 오류\n",
    "\n",
    "# 이렇게 오류도 많고, .exe 파일도 제외하라고 하면 멘탈이 펑! 이제 부정형 전방 탐색을 보자\n",
    "\n",
    "\n",
    "# 진짜 부정형 전방 탐색\n",
    "\n",
    "p5 = re.compile(\".*[.](?!bat$).+$\") #간단!\n",
    "test(p5)\n",
    "p5 = re.compile(\".*[.](?!bat$|exe$).+$\")\n",
    "test(p5)"
   ]
  },
  {
   "cell_type": "markdown",
   "metadata": {},
   "source": [
    "#### 문자열 바꾸기\n",
    "\n",
    "이제 뭐하고 싶겠어??? 찾은 부분을 바꿔야지!\n",
    "\n",
    "sub를 사용하자"
   ]
  },
  {
   "cell_type": "code",
   "execution_count": 36,
   "metadata": {},
   "outputs": [
    {
     "name": "stdout",
     "output_type": "stream",
     "text": [
      "color socks and color shoes\n",
      "blue s오cks and red sh오es\n",
      "blue s오cks and red shoes\n",
      "\n",
      "참조구문 사용하기! (\\g 사용!)\n",
      "폰번호 : 010-1234-5678\n",
      "이름 : park\n",
      "폰번호 : 010-1234-5678\n",
      "이름 : park \n",
      "\n",
      "Call 0xffd2 for printing, 0xc000 for user code. \n",
      "\n",
      "('blue s오cks and red shoes', 1)\n"
     ]
    }
   ],
   "source": [
    "# sub\n",
    "\n",
    "import re\n",
    "\n",
    "p = re.compile('blue|white|red')\n",
    "m = p.sub('color','blue socks and red shoes') # sub('얘로 바뀌면 좋겠다 하는거', '문자열')\n",
    "print(m)\n",
    "print(re.sub('o','오','blue socks and red shoes'))\n",
    "print(re.sub('o','오','blue socks and red shoes',count=1)) # sub('얘바좋', '문', count=몇개바꿀지)\n",
    "\n",
    "\n",
    "print(\"\\n참조구문 사용하기! (\\g 사용!)\") # \\g 사용!\n",
    "data = \"park 010-1234-5678\"\n",
    "p = re.compile(r\"(?P<name>\\w+)\\s+(?P<phone>\\d+[-]\\d+[-]\\d+)\")\n",
    "m = p.sub(\"폰번호 : \\g<phone>\\n이름 : \\g<name>\",data)\n",
    "print(m)\n",
    "m = p.sub(\"폰번호 : \\g<2>\\n이름 : \\g<1>\",data)\n",
    "print(m,\"\\n\")\n",
    "\n",
    "\n",
    "# sub 메서드의 입력 인수로 함수 넣기\n",
    "def hexrepl(match):\n",
    "    value = int(match.group())\n",
    "    return hex(value)              # 16진수로 리턴한다.\n",
    "\n",
    "p = re.compile(r'\\d+') # 0~9(숫자) 여러개를 찾는다\n",
    "print(p.sub(hexrepl, 'Call 65490 for printing, 49152 for user code.'),\"\\n\") # 찾은 숫자를 sub(1,2) 의 1인수로 리턴한다.\n",
    "                                                                            # 참조구문 때 처럼 아마 1에서 검사하는듯?\n",
    "                                                                            # 그리고 맞는 값을 리턴 받아 찾은 숫자 대신 넣는다.\n",
    "\n",
    "\n",
    "# subn\n",
    "print(re.subn('o','오','blue socks and red shoes',count=1)) # 튜플로 바꾸기 발생 수 추가 출력"
   ]
  },
  {
   "cell_type": "markdown",
   "metadata": {},
   "source": [
    "#### Greedy vs Non-Greedy\n",
    "\n",
    "greed is good 기억나지? greedy(탐욕스러운) 이게 뭘까?"
   ]
  },
  {
   "cell_type": "code",
   "execution_count": 41,
   "metadata": {},
   "outputs": [
    {
     "name": "stdout",
     "output_type": "stream",
     "text": [
      "31\n",
      "(0, 31)\n",
      "<html><head><title>Title<\title>\n",
      "<html>\n"
     ]
    }
   ],
   "source": [
    "# Greedy\n",
    "\n",
    "import re\n",
    "data = \"<html><head><title>Title<\\title>\"\n",
    "print(len(data))\n",
    "print(re.match('<.*>',data).span()) # match니까 > 나오자 마자 리턴? 하겠지???? ㅎㅎㅎ\n",
    "# 아니다.\n",
    "print(re.match('<.*>',data).group()) # 너무 탐욕스럽다야....\n",
    "\n",
    "\n",
    "# Non-Greedy\n",
    "print(re.match('<.*?>',data).group()) # *은 바로 앞 대상이 0번 이상 반복 되는것  ?는 바로 앞 대상이 0번 이상 1번 이하 반복되는것\n",
    "# 아닌가? 책 보니까 ?가 non-greedy문자래 그냥 욕심 없는 문자라는거겠지?\n",
    "# 사용 예로는 *?, +?, ??, {m.n}? 등이 있대"
   ]
  },
  {
   "cell_type": "markdown",
   "metadata": {},
   "source": [
    "---\n",
    "---\n",
    "# 이전까지는 매치되는 문자열들을 소모시킨다.\n",
    "\n",
    "소모된다면 그 부분은 검색 대상에서 제외되지만 소모되지 않는 경우에는 다음에 또 다시 검색 대상이 된다\n",
    "\n",
    "예제로 나오는 코드가 이해가 안되면 아래로 쭈욱 내리면 **re모듈**에 대해 설명이 나와있다.\n",
    "\n",
    "---\n",
    "---"
   ]
  },
  {
   "cell_type": "markdown",
   "metadata": {},
   "source": [
    "#### |\n",
    "\n",
    "| 메타 문자는 or과 동일한 의미이다."
   ]
  },
  {
   "cell_type": "code",
   "execution_count": null,
   "metadata": {},
   "outputs": [],
   "source": [
    "import re\n",
    "m = re.match('Crow|Servo','CrowHello')\n",
    "print(m)"
   ]
  },
  {
   "cell_type": "code",
   "execution_count": null,
   "metadata": {},
   "outputs": [],
   "source": [
    "import re\n",
    "ch = \"badsojibsdhuibgyuabssdba\"\n",
    "p = re.compile(\"[asd]\")\n",
    "m = p.search(ch)\n",
    "print(m.group())\n",
    "m = p.search(ch)\n",
    "print(m.group())\n",
    "p = re.compile(\"a|s|d\")\n",
    "m = p.search(ch)\n",
    "print(m.group())\n",
    "m = p.search(ch)\n",
    "print(m.group())                        # 으아아아악 소모가 대체 뭐야!!\n",
    "                                        # pop처럼 문자열에서 소모도 아니고..."
   ]
  },
  {
   "cell_type": "markdown",
   "metadata": {},
   "source": [
    "#### ^\n",
    "\n",
    "^ 메타 문자는 문자열의 맨 처음과 일치함을 의미한다.\n",
    "\n",
    "\\A와 같지만, \\A는 re.MULTILINE옵션을 사용할 경우에도 처음과만 매치된다."
   ]
  },
  {
   "cell_type": "code",
   "execution_count": null,
   "metadata": {},
   "outputs": [],
   "source": [
    "import re\n",
    "p = re.compile('^Life')\n",
    "print(p.search('Life is too short'))\n",
    "print(p.search('My Life'))"
   ]
  },
  {
   "cell_type": "markdown",
   "metadata": {},
   "source": [
    "#### $\n",
    "\n",
    "^ 메타 문자와 반대의 경우이다. 즉, $는 문자열의 끝과 매치함을 의미한다.\n",
    "\n",
    "\\Z와 같고, 역시 \\Z는 re.MULTILINE사용시에도 끝과만 매치된다."
   ]
  },
  {
   "cell_type": "code",
   "execution_count": null,
   "metadata": {},
   "outputs": [],
   "source": [
    "import re\n",
    "p = re.compile('Life$')\n",
    "print(p.search('Life is too short'))\n",
    "print(p.search('My Life'))"
   ]
  },
  {
   "cell_type": "markdown",
   "metadata": {},
   "source": [
    "#### \\b\n",
    "\n",
    "\\b는 단어구분자 이다. 보통 단어는 whitespace에 의해 구분이된다."
   ]
  },
  {
   "cell_type": "code",
   "execution_count": null,
   "metadata": {},
   "outputs": [],
   "source": [
    "import re\n",
    "p = re.compile(r'\\bclass\\b')     # r 을 사용한 이유는, \\b는 파이썬 리터럴 규칙에 의해 백스페이스를 의미하기때문이다.\n",
    "print(p.search('no class at all'))\n",
    "print(p.search('class'))\n",
    "print(p.search('the declassifed algorithm'))"
   ]
  },
  {
   "cell_type": "markdown",
   "metadata": {},
   "source": [
    "#### \\B\n",
    "\n",
    "대문자는 소문자의 not이다."
   ]
  },
  {
   "cell_type": "code",
   "execution_count": null,
   "metadata": {},
   "outputs": [],
   "source": [
    "import re\n",
    "p = re.compile(r'\\Bclass\\B')\n",
    "print(p.search('no class at all'))\n",
    "print(p.search('class'))\n",
    "print(p.search('the declassifed algorithm'))"
   ]
  },
  {
   "cell_type": "markdown",
   "metadata": {},
   "source": [
    "# `re 모듈`"
   ]
  },
  {
   "cell_type": "code",
   "execution_count": null,
   "metadata": {},
   "outputs": [],
   "source": [
    "# 기본적인 사용법\n",
    "\n",
    "import re\n",
    "p = re.compile('ab*') # 패턴(정규식을 컴파일한 결과) 객체\n",
    "\n",
    "# 패턴 객체가 지원하는 메서드\n",
    "# match() # 문자열의 처음부터 정규식과 매치되는지 조사한다.\n",
    "# search() # 문자열 전체를 검색하여 정규식과 매치되는지 조사한다.\n",
    "# findall() # 정규식과 매치되는 모든 문자열(substring)을 리스트로 리턴한다.\n",
    "# finditer() # 정규식과 매치되는 모든 문자열(substring)을 반복 가능한 객체로 리턴한다.\n",
    "\n",
    "# match, search는 정규식과 매치될 때 match 객체를, 매치되지 않을 때는 None을 리턴한다."
   ]
  },
  {
   "cell_type": "markdown",
   "metadata": {},
   "source": [
    "#### match"
   ]
  },
  {
   "cell_type": "code",
   "execution_count": null,
   "metadata": {},
   "outputs": [],
   "source": [
    "import re\n",
    "p = re.compile('[a-z]+')\n",
    "m = p.match(\"python\") # 위에서 말했듯이 정규식과 매치될 때 match 객체를 리턴함\n",
    "print(m)\n",
    "m = p.match(\"3python\")\n",
    "print(m) # 얘는 왜 안되고,\n",
    "m = p.match(\"python3\")\n",
    "print(m) # 얘는 왜 되는거지? search와 연관이 있나?"
   ]
  },
  {
   "cell_type": "code",
   "execution_count": null,
   "metadata": {},
   "outputs": [],
   "source": [
    "# match는 match객체 또는 None이 리턴 되기 때문에 보통 아래와 같이 코드를 짠다.\n",
    "import re\n",
    "p = re.compile('[ 가-힣]+')\n",
    "m = p.match(\"조사할 문자열\")\n",
    "if m:\n",
    "    print('Match found: ',m.group())\n",
    "else:\n",
    "    print('No match')"
   ]
  },
  {
   "cell_type": "markdown",
   "metadata": {},
   "source": [
    "#### search"
   ]
  },
  {
   "cell_type": "code",
   "execution_count": null,
   "metadata": {},
   "outputs": [],
   "source": [
    "import re\n",
    "p = re.compile('[a-z]+')\n",
    "m = p.search(\"python\")\n",
    "print(m)\n",
    "m = p.search(\"3python\")\n",
    "print(m) # 아 match는 처음부터 검색하기때문에 처음에 틀리면 None이지만,\n",
    "        # 이 search는 문자열 전체를 검색하기 때문에 3이후의 python이라는 문자열과 매치된다."
   ]
  },
  {
   "cell_type": "markdown",
   "metadata": {},
   "source": [
    "#### findall"
   ]
  },
  {
   "cell_type": "code",
   "execution_count": null,
   "metadata": {},
   "outputs": [],
   "source": [
    "import re\n",
    "p = re.compile('[a-z]+')\n",
    "result = p.findall(\"life is too short\")\n",
    "print(result) # 정규식과 매치해서 맞는 모두를 리스트로 리턴한다.\n",
    "p = re.compile('[ a-z]+')\n",
    "result = p.findall(\"life is too short\")\n",
    "print(result) # 요런 차이가 있다."
   ]
  },
  {
   "cell_type": "markdown",
   "metadata": {},
   "source": [
    "#### finditer"
   ]
  },
  {
   "cell_type": "code",
   "execution_count": null,
   "metadata": {},
   "outputs": [],
   "source": [
    "import re\n",
    "p = re.compile('[a-z]+')\n",
    "result = p.finditer(\"life is too short\")\n",
    "print(result)\n",
    "print(\"그리고\")\n",
    "for r in result:    # 결과로 반복 가능한 객체(ITERator object)를 리턴한다.\n",
    "    print(r)        # 반복 가능한 객체가 포함하는 각각의 요소는 match 객체이다."
   ]
  },
  {
   "cell_type": "markdown",
   "metadata": {},
   "source": [
    "### match 객체의 메서드\n",
    "\n",
    "- group()\n",
    "    - 매치된 문자열을 리턴한다.\n",
    "    - 위에 ( ) 메타 문자에서 자세히 서술한다.\n",
    "- start()\n",
    "    - 매치된 문자열의 시작 위치를 리턴한다.\n",
    "- end()\n",
    "    - 매치된 문자열의 끝 위치를 리턴한다.\n",
    "- span()\n",
    "    - 매치된 문자열의 (시작,끝)에 해당되는 튜플을 리턴한다."
   ]
  },
  {
   "cell_type": "code",
   "execution_count": null,
   "metadata": {},
   "outputs": [],
   "source": [
    "import re\n",
    "def a(m):\n",
    "    print(m.group())\n",
    "    print(m.start(),m.end())\n",
    "    print(m.span())\n",
    "    \n",
    "p = re.compile('[a-z]+')\n",
    "m = p.match(\"python3\")\n",
    "a(m)\n",
    "print(\"\")\n",
    "m = p.search(\"3.14python3\")\n",
    "a(m)"
   ]
  },
  {
   "cell_type": "markdown",
   "metadata": {},
   "source": [
    "#### 만든 패턴 객체를 한 번만 쓸 때"
   ]
  },
  {
   "cell_type": "code",
   "execution_count": null,
   "metadata": {},
   "outputs": [],
   "source": [
    "import re\n",
    "\n",
    "# 이 방법은 p 패턴 객체를 다음과 같이 여러번 사용할 때 쓴다.\n",
    "p = re.compile('[a-z]+')\n",
    "m = p.match(\"python\")\n",
    "m = p.match(\"3python\")\n",
    "\n",
    "# 이 방법은 딱 한줄만 쓸 때 유용하다\n",
    "m = re.match('[a-z]+',\"python\")"
   ]
  },
  {
   "cell_type": "markdown",
   "metadata": {},
   "source": [
    "## 컴파일 옵션\n",
    "\n",
    "- DOTALL (약어는 S)\n",
    "    - 줄바꿈 문자를 포함하여 모든 문자와 매치할 수 있도록 한다.\n",
    "- IGNORECASE (약어는 I)\n",
    "    - 대·소문자에 관계 없이 매치할 수 있도록 한다.\n",
    "- MULTILINE (약어는 M)\n",
    "    - 여러 줄과 매치할 수 있도록 한다. (^,$ 메타 문자의 사용과 관계가 있는 옵션이다)\n",
    "- VEROSE (약어는 X)\n",
    "    - verbose 모드를 사용할 수 있도록 한다. (정규식을 보기 편하게 만들 수도 있고 주석 등을 사용할 수도 있다.)\n",
    "    \n",
    "사용 시 re.DOTALL또는 re.S를 사용할 수 있다 (둘다 같음)"
   ]
  },
  {
   "cell_type": "markdown",
   "metadata": {},
   "source": [
    "#### DOTALL, S\n",
    "\n",
    ". 메타 문자는 줄바꿈 문자(\\n)를 제외한 모든 문자와 매치되는 규칙이 있다.\n",
    "\n",
    "만약 \\n 문자도 포함하여 매치하고 싶다면 사용한다."
   ]
  },
  {
   "cell_type": "code",
   "execution_count": null,
   "metadata": {},
   "outputs": [],
   "source": [
    "import re\n",
    "p = re.compile('a.b')\n",
    "print(p.match('a\\nb'))"
   ]
  },
  {
   "cell_type": "code",
   "execution_count": null,
   "metadata": {},
   "outputs": [],
   "source": [
    "import re\n",
    "p  = re.compile('a.b',re.DOTALL)\n",
    "print(p.match('a\\nb'))"
   ]
  },
  {
   "cell_type": "markdown",
   "metadata": {},
   "source": [
    "#### IGNORECASE, I\n",
    "\n",
    "귀찮게 [a-zA-z]할 필요 없이, 즉 대·소문자 구분 없이 매치하고 싶을 때 사용한다."
   ]
  },
  {
   "cell_type": "code",
   "execution_count": null,
   "metadata": {},
   "outputs": [],
   "source": [
    "import re\n",
    "p = re.compile('[a-z+]')\n",
    "print(p.match('python'))\n",
    "print(p.match('PYTHON'))"
   ]
  },
  {
   "cell_type": "code",
   "execution_count": null,
   "metadata": {},
   "outputs": [],
   "source": [
    "import re\n",
    "p = re.compile('[a-z+]',re.IGNORECASE)\n",
    "print(p.match('python'))\n",
    "print(p.match('PYTHON'))"
   ]
  },
  {
   "cell_type": "markdown",
   "metadata": {},
   "source": [
    "#### MULTILINE, M\n",
    "\n",
    "'^python'인 경우 문자열의 처음은 항상 python으로 시작해야 매치되고, (이 때 [^] 와 ^[]는 다르다!)\n",
    "\n",
    "'python&'인 경우 문자열의 마지막은 항상 python으로 끝나야 매치된다.\n",
    "\n",
    "이 두 옵션은 본디 문자열 전체에 해당하지만, 각 줄마다 적용 시키고 싶을 때 이 모듈을 사용한다."
   ]
  },
  {
   "cell_type": "code",
   "execution_count": null,
   "metadata": {},
   "outputs": [],
   "source": [
    "import re\n",
    "p = re.compile(\"^python\\s\\w+\")\n",
    "              # python이라는 문자열로 시작하고 그 뒤에 whitespace, 그 뒤에 단어가 와야한다는 의미이다.\n",
    "\n",
    "data = \"\"\"python one\n",
    "life is too short\n",
    "python two\n",
    "you need python\n",
    "python three\"\"\"\n",
    "\n",
    "print(p.findall(data))"
   ]
  },
  {
   "cell_type": "code",
   "execution_count": null,
   "metadata": {},
   "outputs": [],
   "source": [
    "import re\n",
    "p = re.compile(\"^python\\s\\w+\",re.MULTILINE) # MULTILINE? 닉값 하죠?\n",
    "\n",
    "data = \"\"\"python one\n",
    "life is too short\n",
    "python two\n",
    "you need python\n",
    "python three\"\"\"\n",
    "\n",
    "print(p.findall(data))"
   ]
  },
  {
   "cell_type": "markdown",
   "metadata": {},
   "source": [
    "#### VERBOSE, X\n",
    "\n",
    "정규식 코드가 복잡하기 때문에, 보기쉽게 할 수 있는 모듈이다"
   ]
  },
  {
   "cell_type": "code",
   "execution_count": null,
   "metadata": {},
   "outputs": [],
   "source": [
    "charref = re.compile(r'&[#](0[0-7]+|[0-9]+|x[0-9a-fA-F]+);') # 어렵지?????\n",
    "\n",
    "# 이렇게 가독성 좋게 쓸 수 있다는 소리야\n",
    "charref = re.compile(r\"\"\"\n",
    "&[#]                  # Start of a numeric entity reference\n",
    "(\n",
    "    0[0-7]+           # Octal form\n",
    "  | [0-9]+            # Decimal form\n",
    "  | x[0-9a-fA-F]+     # Hexadecimal form\n",
    ")\n",
    ";                     # Trailing semicolon\n",
    "\"\"\", re.VERBOSE)"
   ]
  },
  {
   "cell_type": "markdown",
   "metadata": {},
   "source": [
    "## 백슬래시 문제\n",
    "\n",
    "'\\section'이라는 문자열을 찾기 위한 정규식을 만든다면 \\s(whitespace)로 인해서 의도한 대로 매치가 되지 않는다. 즉\n",
    "\n",
    "'[\\t\\n\\r\\f\\v]ection'가 되어버린다. 해결하기 위해서는\n",
    "\n",
    "'\\\\\\\\section'처럼 사용하면 된다. 그런데! __파이썬__ 에서는 \\\\\\\\문자가 ￦로 변경된다. 즉\n",
    "\n",
    "'￦￦￦￦section'처럼 사용해야 올바로 전달이 된다. 그런데 너무 기니까 Raw String이라는 파이썬 문법이 생겨서\n",
    "\n",
    "r'\\\\\\\\section'로 사용하면 된다."
   ]
  },
  {
   "cell_type": "markdown",
   "metadata": {},
   "source": [
    "# `파이썬으로 XML 처리하기`"
   ]
  },
  {
   "cell_type": "code",
   "execution_count": null,
   "metadata": {},
   "outputs": [],
   "source": []
  }
 ],
 "metadata": {
  "kernelspec": {
   "display_name": "Python 3",
   "language": "python",
   "name": "python3"
  },
  "language_info": {
   "codemirror_mode": {
    "name": "ipython",
    "version": 3
   },
   "file_extension": ".py",
   "mimetype": "text/x-python",
   "name": "python",
   "nbconvert_exporter": "python",
   "pygments_lexer": "ipython3",
   "version": "3.7.3"
  }
 },
 "nbformat": 4,
 "nbformat_minor": 2
}
