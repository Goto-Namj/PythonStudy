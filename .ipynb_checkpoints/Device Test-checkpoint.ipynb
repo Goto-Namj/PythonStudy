{
 "cells": [
  {
   "cell_type": "markdown",
   "metadata": {},
   "source": [
    "# 1\n",
    "\n",
    "1~100까지의 수 중 3,6,9중 하나가 들어가면 처음부터 순서대로 숫자 대신 x,y,z를 넣는다."
   ]
  },
  {
   "cell_type": "code",
   "execution_count": null,
   "metadata": {},
   "outputs": [],
   "source": [
    "c,l,l2=0,'xyz',[0,1,2,4,5,7,8,10,3,6,9]\n",
    "for i in range(1,101):\n",
    "    a,b=i%10,i//10\n",
    "    if l2.index(a)-7>0 or l2.index(b)-7>0:\n",
    "        print(l[c],end=' ')\n",
    "        c=(c+1)%3\n",
    "    else:print(i,end=' ')"
   ]
  },
  {
   "cell_type": "markdown",
   "metadata": {},
   "source": [
    "# 2\n",
    "\n",
    "10진수 -> 2,8,16 진수로 변환\n",
    "\n",
    "10진수를 받고 몇 진수로 변환할 것인지 입력하면 출력"
   ]
  },
  {
   "cell_type": "code",
   "execution_count": null,
   "metadata": {},
   "outputs": [],
   "source": [
    "a,b,l=int(input()),int(input()),'ABCDEF'\n",
    "\n",
    "def j(a,b):\n",
    "    r,n=0,1\n",
    "    while a!=1:\n",
    "        r+=a%b*n\n",
    "        a=(a-a%b)//b\n",
    "        n*=10\n",
    "    return r+a%b*n\n",
    "\n",
    "if b!=16:print(j(a,b))\n",
    "else:\n",
    "    n,r=j(a,2),''\n",
    "    while n!=0:\n",
    "        je,t=1,0\n",
    "        for i in range(4):\n",
    "            t+=n%10*je\n",
    "            n//=10\n",
    "            je*=2\n",
    "        if t>9:r=l[t-10]+r\n",
    "        else:r=str(t)+r\n",
    "    print(r)"
   ]
  },
  {
   "cell_type": "markdown",
   "metadata": {},
   "source": [
    "# 3\n",
    "\n",
    "소인수 분해"
   ]
  },
  {
   "cell_type": "code",
   "execution_count": null,
   "metadata": {},
   "outputs": [],
   "source": [
    "a,i=int(input()),2\n",
    "while a!=1:\n",
    "    if a%i==0:\n",
    "        print(i)\n",
    "        a//=i\n",
    "        i-=1\n",
    "    i+=1"
   ]
  },
  {
   "cell_type": "markdown",
   "metadata": {},
   "source": [
    "# 4\n",
    "\n",
    "m이상 n이하의 완전제곱수들의 합과 가장작은 완전제곱수를 구하라"
   ]
  },
  {
   "cell_type": "code",
   "execution_count": null,
   "metadata": {},
   "outputs": [],
   "source": [
    "m,n,s,f=int(input()),int(input()),0,0\n",
    "for i in range(m,n+1):\n",
    "    try:\n",
    "        t=int(str(i**0.5)[:-2])\n",
    "        if f==0:f=t**2\n",
    "        s+=t**2\n",
    "    except:pass\n",
    "if s==0:print(-1)\n",
    "else:print(s,f)"
   ]
  },
  {
   "cell_type": "markdown",
   "metadata": {},
   "source": [
    "# 5\n",
    "\n",
    "주어진 리스트를 sort를 사용하지 않고 내림차순 정렬시켜라"
   ]
  },
  {
   "cell_type": "code",
   "execution_count": null,
   "metadata": {},
   "outputs": [],
   "source": [
    "l=[97,77,3,54,15,7,9,99,88,50,61,2,28]\n",
    "while l:\n",
    "    m=l[0]\n",
    "    for i in l:\n",
    "        if i>m:m=i\n",
    "    print(l.pop(l.index(m)),end=' ')"
   ]
  },
  {
   "cell_type": "markdown",
   "metadata": {},
   "source": [
    "# 6\n",
    "\n",
    "우박수"
   ]
  },
  {
   "cell_type": "code",
   "execution_count": null,
   "metadata": {},
   "outputs": [],
   "source": [
    "def a():\n",
    "    n=int(input())\n",
    "    if n<0:return \"오류입니다\"\n",
    "    while n!=1:\n",
    "        print(n)\n",
    "        if n%2!=0:n=n*3+1\n",
    "        else:n//=2\n",
    "    return n\n",
    "print(a())"
   ]
  }
 ],
 "metadata": {
  "kernelspec": {
   "display_name": "Python 3",
   "language": "python",
   "name": "python3"
  },
  "language_info": {
   "codemirror_mode": {
    "name": "ipython",
    "version": 3
   },
   "file_extension": ".py",
   "mimetype": "text/x-python",
   "name": "python",
   "nbconvert_exporter": "python",
   "pygments_lexer": "ipython3",
   "version": "3.7.3"
  }
 },
 "nbformat": 4,
 "nbformat_minor": 2
}
