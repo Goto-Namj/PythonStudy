{
 "cells": [
  {
   "cell_type": "markdown",
   "metadata": {},
   "source": [
    "# 퍼스트 클래스 함수\n",
    "\n",
    "퍼스트 클래스 함수란, 프로그래밍 언어가 함수 (function) 를 first-class citizen으로 취급하는 것\n",
    "\n",
    "함수 자체를 인자로 다른 함수에 전달하거나, 다른 함수의 결과값으로 리턴 할수있으며,\n",
    "함수를 변수에 할당하거나, 데이터 구조안에 저장할 수 있는 함수를 뜻한다."
   ]
  },
  {
   "cell_type": "markdown",
   "metadata": {},
   "source": [
    "#### 함수를 변수에 할당"
   ]
  },
  {
   "cell_type": "code",
   "execution_count": null,
   "metadata": {},
   "outputs": [],
   "source": [
    "def square(x):\n",
    "    return x * x\n",
    "f = square\n",
    "\n",
    "print(square(5))\n",
    "print(f(5))\n",
    "\n",
    "print(square)\n",
    "print(f)"
   ]
  },
  {
   "cell_type": "code",
   "execution_count": null,
   "metadata": {},
   "outputs": [],
   "source": [
    "def square(x):\n",
    "    return x * x\n",
    "\n",
    "def my_map(func, arg_list):\n",
    "    result = []\n",
    "    for i in arg_list:\n",
    "        result.append(func(i))\n",
    "    return result\n",
    "\n",
    "num_list = [1, 2, 3, 4, 5]\n",
    "\n",
    "print(my_map(square, num_list))"
   ]
  },
  {
   "cell_type": "markdown",
   "metadata": {},
   "source": [
    "아래와 같이 할 수도 있지만, 위와 같이 하는 이유는 함수의 재활용이 용이하기 때문이다."
   ]
  },
  {
   "cell_type": "code",
   "execution_count": null,
   "metadata": {},
   "outputs": [],
   "source": [
    "def simple_square(arg_list):\n",
    "    result = []\n",
    "    for i in arg_list:\n",
    "        result.append(i * i)\n",
    "    return result\n",
    "\n",
    "num_list = [1, 2, 3, 4, 5]\n",
    "\n",
    "print(simple_square(num_list))"
   ]
  },
  {
   "cell_type": "markdown",
   "metadata": {},
   "source": [
    "아래와 같이 말이다."
   ]
  },
  {
   "cell_type": "code",
   "execution_count": null,
   "metadata": {},
   "outputs": [],
   "source": [
    "def square(x):\n",
    "    return x * x\n",
    "\n",
    "def cube(x):\n",
    "    return x * x * x\n",
    "\n",
    "def quad(x):\n",
    "    return x * x * x * x\n",
    "\n",
    "def my_map(func, arg_list):\n",
    "    result = []\n",
    "    for i in arg_list:\n",
    "        result.append(func(i))\n",
    "    return result\n",
    "\n",
    "num_list = [1, 2, 3, 4, 5]\n",
    "\n",
    "print(my_map(square, num_list))\n",
    "print(my_map(cube, num_list))\n",
    "print(my_map(quad, num_list))"
   ]
  },
  {
   "cell_type": "markdown",
   "metadata": {},
   "source": [
    "클로저라는 개념도 있는데 좀 있다가 정리하겠다."
   ]
  },
  {
   "cell_type": "markdown",
   "metadata": {},
   "source": [
    "#### high-order function"
   ]
  },
  {
   "cell_type": "code",
   "execution_count": null,
   "metadata": {},
   "outputs": [],
   "source": [
    "# 일반적인 함수\n",
    "def simple_html_tag(tag, msg):\n",
    "    print ('<{0}> {1} <{0}>'.format(tag, msg))\n",
    "    \n",
    "simple_html_tag('h1', '심플 헤딩 타이틀')\n",
    "\n",
    "print ('-'*30)\n",
    "\n",
    "# 얘가 high뭐시기\n",
    "def html_tag(tag):\n",
    "    \n",
    "    def wrap_text(msg):\n",
    "        print ('<{0}> {1} <{0}>'.format(tag, msg))\n",
    "        \n",
    "    return wrap_text\n",
    "\n",
    "# 이런 식으로 사용\n",
    "print_h1 = html_tag('h1')\n",
    "print_h1('첫번째')\n",
    "\n",
    "html_tag('tag0')('msg1')"
   ]
  },
  {
   "cell_type": "markdown",
   "metadata": {},
   "source": [
    "#### 클로저 (closure), 데코레이터 (decorator) 또는 제너레이터 (generator)"
   ]
  },
  {
   "cell_type": "markdown",
   "metadata": {},
   "source": [
    "## 클로저\n",
    "\n",
    "퍼스트클래스 함수를 지원하는 언어의 네임 바인딩 기술을 말한다.\n",
    "\n",
    "어떤 함수를 함수 자신이 가지고 있는 환경과 함께 저장한 레코드이다.\n",
    "\n",
    "함수가 가진 프리변수(free variable)를 클로저가 만들어지는 당시의 값과 레퍼런스에 맵핑하여 주는 역할을 한다.\n",
    "\n",
    "일반 함수와는 다르게, 자신의 영역 밖에서 호출된 함수의 변수값과 레퍼런스를 복사하고 저장한 뒤, 이 캡처한 값들에 액세스할 수 있게 도와준다."
   ]
  },
  {
   "cell_type": "markdown",
   "metadata": {},
   "source": [
    "###### free variable\n",
    "\n",
    "아래와 같이 해당 코드 블럭(함수-inner_func)안에서 사용되었지만, 그 코드블럭 안에서 정의되지 않은 변수를 뜻한다."
   ]
  },
  {
   "cell_type": "code",
   "execution_count": null,
   "metadata": {},
   "outputs": [],
   "source": [
    "def outer_func():\n",
    "    message = 'Hi'\n",
    "\n",
    "    def inner_func():\n",
    "        print (message)\n",
    "\n",
    "    return inner_func\n",
    "\n",
    "print(outer_func)\n",
    "print(outer_func())\n",
    "print(outer_func()())"
   ]
  },
  {
   "cell_type": "code",
   "execution_count": null,
   "metadata": {},
   "outputs": [],
   "source": [
    "def outer_func():  #1\n",
    "    message = 'Hi'  #3\n",
    "\n",
    "    def inner_func():  #4\n",
    "        print (message)  #6\n",
    "\n",
    "    return inner_func  #5\n",
    "\n",
    "my_func = outer_func()  #2\n",
    "\n",
    "print (my_func)  # inner_func 오브젝트가 들어있다. return해준애가 괄호 열고닫고 안해서 오브젝트 준거임\n",
    "print()\n",
    "print (dir(my_func))  # 클로저 찾기 __closure__\n",
    "print()\n",
    "print (type(my_func.__closure__)) # 찾은 클로저 타입 확인!\n",
    "print()\n",
    "print (my_func.__closure__)  #  튜플인 클로저의 내용물? 아이템? 확인\n",
    "print()\n",
    "print (my_func.__closure__[0])  # 해당 튜플의 첫번째 요소 확인. cell이라는 문자열 오브젝트래\n",
    "print()\n",
    "print (dir(my_func.__closure__[0]))  # 이번에는 cell 문자열 오브젝트 확인. cell_contents가 있음! \n",
    "print()\n",
    "print (my_func.__closure__[0].cell_contents)  # cell_contents에는 바로바로 Hi가 들어있습니다!\n",
    "# 중ㅇ요중ㅇ욪ㅇ줒욪ㅇ웆요 !\n",
    "# Hi 가 의미하는 것은 inner_func()만을 단독으로 실행시켰을 때 문제 되지 않는 부분을 제외한, outer_func로 부터 받은? 애들이다.\n",
    "# 모두가 캡쳐되는 것이 아닌 캡쳐되어야 하는 것만 캡쳐된다."
   ]
  },
  {
   "cell_type": "code",
   "execution_count": null,
   "metadata": {},
   "outputs": [],
   "source": [
    "def outer_func(tag,txt='txtxt'):\n",
    "\n",
    "    def inner_func():\n",
    "        print('<{0}> {1} <{0}>'.format(tag, txt))\n",
    "\n",
    "    return inner_func\n",
    "\n",
    "outer_func('123')()\n",
    "\n",
    "h1_func = outer_func('h1')\n",
    "p_func = outer_func('p')\n",
    "\n",
    "h1_func()\n",
    "p_func()"
   ]
  },
  {
   "cell_type": "code",
   "execution_count": null,
   "metadata": {},
   "outputs": [],
   "source": [
    "def outer_func(tag):\n",
    "\n",
    "    def inner_func(txt):\n",
    "        print('<{0}> {1} <{0}>'.format(tag, txt))\n",
    "\n",
    "    return inner_func\n",
    "\n",
    "outer_func('첫')('번째번째번째')\n",
    "\n",
    "h1_func = outer_func('h1')\n",
    "p_func = outer_func('p')\n",
    "\n",
    "h1_func('h1태그의 안입니다.')\n",
    "p_func('p태그의 안입니다.')"
   ]
  },
  {
   "cell_type": "markdown",
   "metadata": {},
   "source": [
    "## 데코레이터\n",
    "\n",
    "데코레이터와 클로저 예제코드를 보면, 데코레이터는 함수를 다른 함수의 인자로 전달한다는 점이 다르다."
   ]
  },
  {
   "cell_type": "code",
   "execution_count": null,
   "metadata": {},
   "outputs": [],
   "source": [
    "def decorator(original_function):  # 오리지널 펑션을 오브젝트형태로 가져왔음\n",
    "    \n",
    "    def wrapper():\n",
    "        \n",
    "        return original_function()  # 위에서는 오브젝트 형태로 가져왔으니까 () 를 붙여서 함수형태로 리턴했음\n",
    "    \n",
    "    return wrapper\n",
    "\n",
    "def a():\n",
    "    print ('a가 실행됐다.')\n",
    "\n",
    "decorated_a = decorator(a)\n",
    "\n",
    "decorated_a()"
   ]
  },
  {
   "cell_type": "markdown",
   "metadata": {},
   "source": [
    "내가 느끼기에 뭔 느낌이냐면,\n",
    "\n",
    "decorator(a)를 하고 decorator가 wrapper함수를 반환 함으로써 a를 갖고? 있는 wrapper 상태로 decorated_a에 저장된다.\n",
    "\n",
    "그래서 실행하면 a를 담고 있던 wrapper가 a함수를 반환해서 a가 실행되는듯"
   ]
  },
  {
   "cell_type": "markdown",
   "metadata": {},
   "source": [
    "###### 이쯤에서 이해가 된? 것\n",
    "\n",
    "return으로 오브젝트를 리턴하는데, 나는 리턴하는 오브젝트가 함수였다면, 실행되고 함수가 리턴될 줄 알았다.\n",
    "\n",
    "즉 위의 코드에서 return wrapper()한다면, decorator의 return값이 original_function()이 된다는 뜻이였다.\n",
    "\n",
    "그런데 이게 아니라 리턴은 그것을 리턴하는데 리턴 할 것을 실행해야 하기 때문에, 현재의 상태를 어디에 저장해놓고 실행시킨다면,\n",
    "그제야 저장해놓은 그 상태 그대로의 함수를 실행하게 되는것이다!!\n",
    "\n",
    "처음에 생각했던 코드가 있다."
   ]
  },
  {
   "cell_type": "code",
   "execution_count": null,
   "metadata": {},
   "outputs": [],
   "source": [
    "def a(): # 2.\n",
    "    i=5 # 3.\n",
    "    def b(): # 6.\n",
    "        i*=2 # 7.\n",
    "        print(i) # 8.\n",
    "    return b() # 4.\n",
    "\n",
    "a() # 1. 5."
   ]
  },
  {
   "cell_type": "markdown",
   "metadata": {},
   "source": [
    "위의 코드이다. 이게 왜 안될까... 하면서 고민하다가 끝내 유추만 할 뿐이지 정확하게 이유를 알지 못했다.\n",
    "\n",
    "이제와서 보면, 실제 실행은 a() 하고 끝이지만 내부? 동작은\n",
    "\n",
    "1. 메인에서 a가 호출된다.\n",
    "2. i = 5이다.\n",
    "3. b를 선언하고 b를 리턴한다.\n",
    "4. b를 리턴했는데 함수 or 오브젝트 형태이기 때문에 일단 리턴은 해야겠고, 함수를 실행? 을해야되겠으니, 함수의 상태를 저장하고, 리턴한다.\n",
    "5. 메인에서 리턴된 b()를 실행한다.\n",
    "6. 저장되어있던 b의 상태를 불러와서 5의 값을 가지고 있는 i에 2를 곱해보려고 하니까 i의 값은 5다는 정보는 있는데, i가 할당되어있지는 않아서 곱할 수 없는것이다.\n",
    "\n",
    "라고 생각이 든다. \n",
    "\n",
    "추가로 데코레이터를 쓰는 이유는, 만들어져 있는 기존의 코드를 수정하지 않고도, wrapper함수를 이용하여 여러가지 기능을 추가할 수가 있기때문에 사용한다."
   ]
  },
  {
   "cell_type": "code",
   "execution_count": 41,
   "metadata": {},
   "outputs": [
    {
     "name": "stdout",
     "output_type": "stream",
     "text": [
      "dec의 실행\n",
      "wrap의 실행\n",
      "justfunc의 실행\n",
      "1 2 3\n",
      "<function dec.<locals>.wrap at 0x000001C494B9B048>\n",
      "\n",
      "\n",
      "None\n"
     ]
    }
   ],
   "source": [
    "# 데코레이터를 사용한 코드에 대한 순서이다.\n",
    "import time\n",
    "\n",
    "def dec(func):        # 1-\n",
    "    print('dec의 실행')        # 2\n",
    "    def wrap(*args, **kwargs):        # 4-\n",
    "        print('wrap의 실행')        # 5\n",
    "        return func(*args, **kwargs)        # 6\n",
    "    \n",
    "    return wrap        # 3\n",
    "\n",
    "@dec        # 1\n",
    "def justfunc(a,b,c):        # 6-\n",
    "    print('justfunc의 실행')        # 7\n",
    "    print(a,b,c)        # 8\n",
    "    \n",
    "\n",
    "def just_func(a,b,c):\n",
    "    print('just_func의 실행')\n",
    "    print(a,b,c)\n",
    "    \n",
    "\n",
    "justfunc(1,2,3)        # 4\n",
    "print(justfunc)\n",
    "print('\\n')\n",
    "print(just_func.__closure__)\n",
    "\n",
    "# 아래에 코드 순서 설명있음!"
   ]
  },
  {
   "cell_type": "markdown",
   "metadata": {},
   "source": [
    "코드의 변화를 살펴본다. 먼저 def친구들은 선언이니까 무시하고,\n",
    "\n",
    "@dec 실행(#1)으로 justfunc = dec(justfunc)(#1-)가 되어 dec프린트(#2)가 되고, justfunc=wrap이 된다.(#3) 이 때 클로저가 저☆장\n",
    "\n",
    "justfunc(1,2,3)을 실행(#4)한다. (#3)과 같으므로, wrap(1,2,3)(#4-)가 된다.\n",
    "\n",
    "wrap프린트(#5)가 되고, justfunc(1,2,3)(#6)이 실행된다.\n",
    "\n",
    "이 justfunc(#6-)이 실행된다.\n",
    "\n",
    "이어서 프린트들(#7,#8)이 실행된다."
   ]
  },
  {
   "cell_type": "code",
   "execution_count": null,
   "metadata": {},
   "outputs": [],
   "source": [
    "def decorator(original_function):\n",
    "    \n",
    "    def wrapper():\n",
    "        print ('{} 함수가 호출되기전 입니다.'.format(original_function.__name__))\n",
    "        \n",
    "        return original_function()\n",
    "    \n",
    "    return wrapper\n",
    "\n",
    "\n",
    "def display_1():\n",
    "    print ('display_1 함수가 실행됐습니다.')\n",
    "\n",
    "\n",
    "def display_2():\n",
    "    print ('display_2 함수가 실행됐습니다.')\n",
    "\n",
    "display_1 = decorator(display_1)   # 이거랑\n",
    "display_2 = decorator(display_2)   # 이거\n",
    "\n",
    "display_1()\n",
    "print()\n",
    "display_2()"
   ]
  },
  {
   "cell_type": "markdown",
   "metadata": {},
   "source": [
    "이렇게 사용하는데! 위에 주석으로 이거랑 이거라고 해놓은 부분 대신 아래와 같이 쓴다."
   ]
  },
  {
   "cell_type": "code",
   "execution_count": null,
   "metadata": {},
   "outputs": [],
   "source": [
    "def decorator(original_function):\n",
    "    \n",
    "    def wrapper():\n",
    "        print ('{} 함수가 호출되기전 입니다.'.format(original_function.__name__))\n",
    "        \n",
    "        return original_function()\n",
    "    \n",
    "    return wrapper\n",
    "\n",
    "\n",
    "@decorator\n",
    "def display_1():\n",
    "    print ('display_1 함수가 실행됐습니다.')\n",
    "\n",
    "\n",
    "@decorator\n",
    "def display_2():\n",
    "    print ('display_2 함수가 실행됐습니다.')\n",
    "\n",
    "display_1()\n",
    "print()\n",
    "display_2()"
   ]
  },
  {
   "cell_type": "markdown",
   "metadata": {},
   "source": [
    "그런데, 인수를 가진 함수를 데코레이팅하고 싶을 때는 어떻게 할까?"
   ]
  },
  {
   "cell_type": "code",
   "execution_count": null,
   "metadata": {},
   "outputs": [],
   "source": [
    "def decorator(original_function):\n",
    "    \n",
    "    def wrapper():\n",
    "        print ('{} 함수가 호출되기전 입니다.'.format(original_function.__name__))\n",
    "        \n",
    "        return original_function()\n",
    "    \n",
    "    return wrapper\n",
    "\n",
    "\n",
    "@decorator\n",
    "def display():\n",
    "    print ('display 함수가 실행됐습니다.')\n",
    "\n",
    "\n",
    "@decorator\n",
    "def display_info(name, age):\n",
    "    print ('display_info({}, {}) 함수가 실행됐습니다.'.format(name, age))\n",
    "\n",
    "display()\n",
    "print()\n",
    "display_info('John', 25)"
   ]
  },
  {
   "cell_type": "markdown",
   "metadata": {},
   "source": [
    "wrapper_function은 0개의 매개변수를 받는데 2개를 줬다고 화낸다!\n",
    "\n",
    "그래서 아래와 같이 코드를 수정하면 해결된다."
   ]
  },
  {
   "cell_type": "code",
   "execution_count": null,
   "metadata": {},
   "outputs": [],
   "source": [
    "def decorator(original_function):\n",
    "    \n",
    "    def wrapper(*args, **kwargs):\n",
    "        print ('{} 함수가 호출되기전 입니다.'.format(original_function.__name__))\n",
    "        \n",
    "        return original_function(*args, **kwargs)\n",
    "    \n",
    "    return wrapper\n",
    "\n",
    "\n",
    "@decorator\n",
    "def display():\n",
    "    print ('display 함수가 실행됐습니다.')\n",
    "\n",
    "\n",
    "@decorator\n",
    "def display_info(name, age):\n",
    "    print ('display_info({}, {}) 함수가 실행됐습니다.'.format(name, age))\n",
    "\n",
    "display()\n",
    "print()\n",
    "display_info('John', 25)"
   ]
  },
  {
   "cell_type": "code",
   "execution_count": null,
   "metadata": {},
   "outputs": [],
   "source": [
    "def a(**kwargs):\n",
    "    print(type(kwargs))\n",
    "    \n",
    "a(asdf = 2)"
   ]
  },
  {
   "cell_type": "markdown",
   "metadata": {},
   "source": [
    "클래스 형식의 데코레이터도 있는데 잘 쓰이지 않는대...."
   ]
  },
  {
   "cell_type": "markdown",
   "metadata": {},
   "source": [
    "### 데코레이터 사용처\n",
    "\n",
    "로그를 남기거나 유저의 로그인 상태등을 확인하여 로그인 상태가 아니면 로그인 페이지로 리더랙트(redirect)하기 위해서 많이 사용된다.\n",
    "\n",
    "프로그램의 성능을 테스트하기 위해서도 많이 쓰인다.\n",
    "\n",
    "내가 직접 코드를 짜기 전에 어떤식으로 짜여지는지 다른사람의 코드를 한번 보겠다."
   ]
  },
  {
   "cell_type": "code",
   "execution_count": 1,
   "metadata": {},
   "outputs": [
    {
     "name": "stdout",
     "output_type": "stream",
     "text": [
      "display_info(John, 25) 함수가 실행됐습니다.\n"
     ]
    }
   ],
   "source": [
    "import datetime\n",
    "import time\n",
    "\n",
    "\n",
    "def my_logger(original_function):\n",
    "    import logging\n",
    "    logging.basicConfig(filename='{}.log'.format(original_function.__name__), level=logging.INFO)\n",
    "    \n",
    "    def wrapper(*args, **kwargs):\n",
    "        timestamp = datetime.datetime.now().strftime('%Y-%m-%d %H:%M')\n",
    "        logging.info('[{}] 실행결과 args - {}, kwargs - {}'.format(timestamp, args, kwargs))\n",
    "        return original_function(*args, **kwargs)\n",
    "\n",
    "    return wrapper\n",
    "\n",
    "\n",
    "@my_logger\n",
    "def display_info(name, age):\n",
    "    time.sleep(1)\n",
    "    print('display_info({}, {}) 함수가 실행됐습니다.'.format(name, age))\n",
    "\n",
    "display_info('John', 25)"
   ]
  },
  {
   "cell_type": "markdown",
   "metadata": {},
   "source": [
    "실행을 하면 뭔 함수가 실행됐고, 어떤 인수를 전달 받았는지 출력이 되며, \n",
    "해당 프로그램이 있는 디렉터리에 log파일이 생성된다."
   ]
  },
  {
   "cell_type": "markdown",
   "metadata": {},
   "source": [
    "이제 새 데코레이터를 만들어보겠다."
   ]
  },
  {
   "cell_type": "code",
   "execution_count": 3,
   "metadata": {},
   "outputs": [
    {
     "name": "stdout",
     "output_type": "stream",
     "text": [
      "display_info(John, 25) 함수가 실행됐습니다.\n",
      "display_info 함수가 실행된 총 시간: 1.000014066696167 초\n"
     ]
    }
   ],
   "source": [
    "import datetime\n",
    "import time\n",
    "\n",
    "\n",
    "def my_timer(original_function):\n",
    "    import time\n",
    "\n",
    "    def wrapper(*args, **kwargs):\n",
    "        t1 = time.time()\n",
    "        result = original_function(*args, **kwargs)\n",
    "        t2 = time.time() - t1\n",
    "        print('{} 함수가 실행된 총 시간: {} 초'.format(original_function.__name__, t2))\n",
    "        return result\n",
    "\n",
    "    return wrapper\n",
    "\n",
    "\n",
    "@my_timer\n",
    "def display_info(name, age):\n",
    "    time.sleep(1)\n",
    "    print('display_info({}, {}) 함수가 실행됐습니다.'.format(name, age))\n",
    "\n",
    "display_info('John', 25)"
   ]
  },
  {
   "cell_type": "markdown",
   "metadata": {},
   "source": [
    "로그를 남기지는 않지만, 실행된 시간을 측정한다.\n",
    "1초 딜레이를 줬기때문에 코드만 실행되는시간은 엄청 짧다."
   ]
  },
  {
   "cell_type": "markdown",
   "metadata": {},
   "source": [
    "전에, 한 데코레이터를 두 함수에 적용시켜보았다.\n",
    "마찬가지로, 위 두 데코레이터를 한 함수에 적용을 시킬 수 있다."
   ]
  },
  {
   "cell_type": "code",
   "execution_count": 4,
   "metadata": {},
   "outputs": [
    {
     "name": "stdout",
     "output_type": "stream",
     "text": [
      "display_info(John, 25) 함수가 실행됐습니다.\n",
      "display_info 함수가 실행된 총 시간: 1.0001311302185059 초\n"
     ]
    }
   ],
   "source": [
    "import datetime\n",
    "import time\n",
    "\n",
    "\n",
    "def my_logger(original_function):\n",
    "    import logging\n",
    "    logging.basicConfig(filename='{}.log'.format(original_function.__name__), level=logging.INFO)\n",
    "    \n",
    "    def wrapper(*args, **kwargs):\n",
    "        timestamp = datetime.datetime.now().strftime('%Y-%m-%d %H:%M')\n",
    "        logging.info('[{}] 실행결과 args - {}, kwargs - {}'.format(timestamp, args, kwargs))\n",
    "        return original_function(*args, **kwargs)\n",
    "\n",
    "    return wrapper\n",
    "\n",
    "\n",
    "def my_timer(original_function):\n",
    "    import time\n",
    "\n",
    "    def wrapper(*args, **kwargs):\n",
    "        t1 = time.time()\n",
    "        result = original_function(*args, **kwargs)\n",
    "        t2 = time.time() - t1\n",
    "        print('{} 함수가 실행된 총 시간: {} 초'.format(original_function.__name__, t2))\n",
    "        return result\n",
    "\n",
    "    return wrapper\n",
    "\n",
    "\n",
    "@my_logger\n",
    "@my_timer\n",
    "def display_info(name, age):\n",
    "    time.sleep(1)\n",
    "    print('display_info({}, {}) 함수가 실행됐습니다.'.format(name, age))\n",
    "\n",
    "display_info('John', 25)"
   ]
  },
  {
   "cell_type": "markdown",
   "metadata": {},
   "source": [
    "로그 파일을 보면 아무것도 바뀐게 없다.\n",
    "그 대신 wrapper.log가 생성되었다.\n",
    "\n",
    "데코레이팅 과정 (@하는거) 순서를 바꿔보면, 로그는 잘 남겨지지만, 터미널 출력 결과가 이상하다고 한다.\n",
    "내 생각에는 아마 데코레이팅? 이 선언되고, 다음 함수에 적용이 되어, @1 @2 def asdf() 가 있다고 하면 @1 과 @2 모두 asdf에 적용되는것이 아닌,\n",
    "@1은 @2에 @2는 asdf에 적용되는것 같다."
   ]
  },
  {
   "cell_type": "markdown",
   "metadata": {},
   "source": [
    "설명을 보면 내생각이 대충 맞는 것 같다.\n",
    "\n",
    "복수의 데코레이터를 스택해서 사용하면 아래쪽 데코레이터부터 실행되는데, 위의 코드의 경우에는 my_timer가 먼저 실행되고 my_logger에게 my_timer의 wrapper 함수를 인자로써 리턴하기 때문에 생기는 현상이라고 한다.\n",
    "\n",
    "이 상황을 방지하기 위해서 functools 모듈의 wraps 데코레이터를 사용하면 해결이 된다."
   ]
  },
  {
   "cell_type": "code",
   "execution_count": 5,
   "metadata": {},
   "outputs": [
    {
     "name": "stdout",
     "output_type": "stream",
     "text": [
      "display_info(Jimmy, 30) 함수가 실행됐습니다.\n",
      "display_info 함수가 실행된 총 시간: 1.0003602504730225 초\n"
     ]
    }
   ],
   "source": [
    "from functools import wraps\n",
    "import datetime\n",
    "import time\n",
    "\n",
    "\n",
    "def my_logger(original_function):\n",
    "    import logging\n",
    "    logging.basicConfig(filename='{}.log'.format(original_function.__name__), level=logging.INFO)\n",
    "    \n",
    "    @wraps(original_function)\n",
    "    def wrapper(*args, **kwargs):\n",
    "        timestamp = datetime.datetime.now().strftime('%Y-%m-%d %H:%M')\n",
    "        logging.info(\n",
    "            '[{}] 실행결과 args - {}, kwargs - {}'.format(timestamp, args, kwargs))\n",
    "        return original_function(*args, **kwargs)\n",
    "\n",
    "    return wrapper\n",
    "\n",
    "\n",
    "def my_timer(original_function):\n",
    "    import time\n",
    "\n",
    "    @wraps(original_function)\n",
    "    def wrapper(*args, **kwargs):\n",
    "        t1 = time.time()\n",
    "        result = original_function(*args, **kwargs)\n",
    "        t2 = time.time() - t1\n",
    "        print ('{} 함수가 실행된 총 시간: {} 초'.format(original_function.__name__, t2))\n",
    "        return result\n",
    "\n",
    "    return wrapper\n",
    "\n",
    "\n",
    "@my_timer\n",
    "@my_logger\n",
    "def display_info(name, age):\n",
    "    time.sleep(1)\n",
    "    print ('display_info({}, {}) 함수가 실행됐습니다.'.format(name, age))\n",
    "\n",
    "display_info('Jimmy', 30)"
   ]
  },
  {
   "cell_type": "markdown",
   "metadata": {},
   "source": [
    "wrapper들을 모듈에서 불러온 wraps함수로 데코레이팅 한 후 코드를 실행시켜보면 잘 동작이 된다.\n",
    "\n",
    "데코레이터 사용처를 잘 확인하여 곧 진행할 장고 프로젝트에서 활용해보면 좋을 것 같다."
   ]
  },
  {
   "cell_type": "markdown",
   "metadata": {},
   "source": [
    "## 제너레이터\n",
    "\n",
    "제너레이터는 iterator(반복자)와 같은 루프의 작용을 컨트롤하기 위해 쓰여지는 특별한 함수 또는 루팅니다.\n",
    "\n",
    "제너레이터는 반복자와 같은 역할을 하는 함수이다.\n",
    "\n",
    "함수는 실행되면 함수가 끝날 때까지 실행된 후 함수가 가지고 있던 모든 내부 함수나 로컬 변수는 메모리 상에서 사라지는데,\n",
    "\n",
    "나도 그랬듯이 했던일들을 기억하며, 내부 함수와 변수들을 기억하고 있는 함수가 필요했다. (잘 모르는 나는 전역변수를 사용했었다..)\n",
    "\n",
    "그래서 만들어진 것이 제너레이터 이다."
   ]
  },
  {
   "cell_type": "code",
   "execution_count": 7,
   "metadata": {},
   "outputs": [
    {
     "name": "stdout",
     "output_type": "stream",
     "text": [
      "[1, 4, 9, 16, 25]\n"
     ]
    }
   ],
   "source": [
    "def square_numbers(nums):\n",
    "    result = []\n",
    "    for i in nums:\n",
    "        result.append(i * i)\n",
    "    return result\n",
    "\n",
    "my_nums = square_numbers([1, 2, 3, 4, 5])\n",
    "\n",
    "print(my_nums)"
   ]
  },
  {
   "cell_type": "markdown",
   "metadata": {},
   "source": [
    "위 코드를 제너레이터로 만들면..?"
   ]
  },
  {
   "cell_type": "code",
   "execution_count": 11,
   "metadata": {},
   "outputs": [
    {
     "name": "stdout",
     "output_type": "stream",
     "text": [
      "<generator object square_numbers at 0x000002678CFAF9A8>\n"
     ]
    }
   ],
   "source": [
    "def square_numbers(nums):\n",
    "    for i in nums:\n",
    "        yield i * i\n",
    "\n",
    "my_nums = square_numbers([1, 2, 3, 4, 5])  #1\n",
    "\n",
    "print(my_nums)"
   ]
  },
  {
   "cell_type": "markdown",
   "metadata": {},
   "source": [
    "제너레이터 오브젝트가 리턴 됐다.\n",
    "\n",
    "제너레이터는 자신이 리턴할 모든 값을 메모리에 저장하지 않기 때문에 출력이 이전과 같지 않다.\n",
    "\n",
    "제너레이터는 한 번 호출될 때마다 하나의 값만을 전달(yield)합니다.\n",
    "\n",
    "즉, 위의 #1까지는 아직 아무런 계산을 하지 않고 누군가가 다음 값에 대해서 물어보기를 기다리고 있는 상태이다."
   ]
  },
  {
   "cell_type": "code",
   "execution_count": 12,
   "metadata": {},
   "outputs": [
    {
     "name": "stdout",
     "output_type": "stream",
     "text": [
      "1\n"
     ]
    }
   ],
   "source": [
    "def square_numbers(nums):\n",
    "    for i in nums:\n",
    "        yield i * i\n",
    "\n",
    "my_nums = square_numbers([1, 2, 3, 4, 5])\n",
    "\n",
    "print(next(my_nums))"
   ]
  },
  {
   "cell_type": "markdown",
   "metadata": {},
   "source": [
    "next함수를 사용해서 값을 물어보았다.\n",
    "next를 여러번 사용하면 다음값을 물어보겠지? 그렇다면 뭔가 바로 for문에서 사용할 수 있을 것 같다."
   ]
  },
  {
   "cell_type": "code",
   "execution_count": 13,
   "metadata": {},
   "outputs": [
    {
     "name": "stdout",
     "output_type": "stream",
     "text": [
      "1\n",
      "4\n",
      "9\n",
      "16\n",
      "25\n"
     ]
    }
   ],
   "source": [
    "def square_numbers(nums):\n",
    "    for i in nums:\n",
    "        yield i * i\n",
    "\n",
    "my_nums = square_numbers([1, 2, 3, 4, 5])\n",
    "\n",
    "for num in my_nums:\n",
    "    print(num)"
   ]
  },
  {
   "cell_type": "markdown",
   "metadata": {},
   "source": [
    "선언을 간단하게 할 수 있다."
   ]
  },
  {
   "cell_type": "code",
   "execution_count": 17,
   "metadata": {},
   "outputs": [
    {
     "name": "stdout",
     "output_type": "stream",
     "text": [
      "[1, 4, 9, 16, 25]\n",
      "[1, 4, 9, 16, 25]\n",
      "1\n",
      "4\n",
      "9\n",
      "16\n",
      "25\n",
      "<generator object <genexpr> at 0x000002678CFAF7C8>\n"
     ]
    }
   ],
   "source": [
    "my_list = [x*x for x in [1, 2, 3, 4, 5]]\n",
    "my_generator = (x*x for x in [1, 2, 3, 4, 5])\n",
    "\n",
    "\n",
    "print(my_list)\n",
    "print(list(my_generator))       # 제너레이터를 바로 볼 수 있는 방법\n",
    "\n",
    "for i in my_list:\n",
    "    print(i)\n",
    "\n",
    "\n",
    "print(my_generator)\n",
    "\n",
    "for i in my_generator:\n",
    "    print(i)\n",
    "    "
   ]
  },
  {
   "cell_type": "markdown",
   "metadata": {},
   "source": [
    "제너레이터를 사용하면 결과값을 메모리에 저장하지 않는다.\n",
    "\n",
    "그에 따른 소요시간의 이득도 있다."
   ]
  }
 ],
 "metadata": {
  "kernelspec": {
   "display_name": "Python 3",
   "language": "python",
   "name": "python3"
  },
  "language_info": {
   "codemirror_mode": {
    "name": "ipython",
    "version": 3
   },
   "file_extension": ".py",
   "mimetype": "text/x-python",
   "name": "python",
   "nbconvert_exporter": "python",
   "pygments_lexer": "ipython3",
   "version": "3.7.3"
  }
 },
 "nbformat": 4,
 "nbformat_minor": 2
}
