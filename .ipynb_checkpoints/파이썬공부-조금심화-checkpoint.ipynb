{
 "cells": [
  {
   "cell_type": "markdown",
   "metadata": {},
   "source": [
    "# 퍼스트 클래스 함수\n",
    "\n",
    "퍼스트 클래스 함수란, 프로그래밍 언어가 함수 (function) 를 first-class citizen으로 취급하는 것\n",
    "\n",
    "함수 자체를 인자로 다른 함수에 전달하거나, 다른 함수의 결과값으로 리턴 할수있으며,\n",
    "함수를 변수에 할당하거나, 데이터 구조안에 저장할 수 있는 함수를 뜻한다."
   ]
  },
  {
   "cell_type": "markdown",
   "metadata": {},
   "source": [
    "#### 함수를 변수에 할당"
   ]
  },
  {
   "cell_type": "code",
   "execution_count": null,
   "metadata": {},
   "outputs": [],
   "source": [
    "def square(x):\n",
    "    return x * x\n",
    "f = square\n",
    "\n",
    "print(square(5))\n",
    "print(f(5))\n",
    "\n",
    "print(square)\n",
    "print(f)"
   ]
  },
  {
   "cell_type": "code",
   "execution_count": null,
   "metadata": {},
   "outputs": [],
   "source": [
    "def square(x):\n",
    "    return x * x\n",
    "\n",
    "def my_map(func, arg_list):\n",
    "    result = []\n",
    "    for i in arg_list:\n",
    "        result.append(func(i))\n",
    "    return result\n",
    "\n",
    "num_list = [1, 2, 3, 4, 5]\n",
    "\n",
    "print(my_map(square, num_list))"
   ]
  },
  {
   "cell_type": "markdown",
   "metadata": {},
   "source": [
    "아래와 같이 할 수도 있지만, 위와 같이 하는 이유는 함수의 재활용이 용이하기 때문이다."
   ]
  },
  {
   "cell_type": "code",
   "execution_count": null,
   "metadata": {},
   "outputs": [],
   "source": [
    "def simple_square(arg_list):\n",
    "    result = []\n",
    "    for i in arg_list:\n",
    "        result.append(i * i)\n",
    "    return result\n",
    "\n",
    "num_list = [1, 2, 3, 4, 5]\n",
    "\n",
    "print(simple_square(num_list))"
   ]
  },
  {
   "cell_type": "markdown",
   "metadata": {},
   "source": [
    "아래와 같이 말이다."
   ]
  },
  {
   "cell_type": "code",
   "execution_count": null,
   "metadata": {},
   "outputs": [],
   "source": [
    "def square(x):\n",
    "    return x * x\n",
    "\n",
    "def cube(x):\n",
    "    return x * x * x\n",
    "\n",
    "def quad(x):\n",
    "    return x * x * x * x\n",
    "\n",
    "def my_map(func, arg_list):\n",
    "    result = []\n",
    "    for i in arg_list:\n",
    "        result.append(func(i))\n",
    "    return result\n",
    "\n",
    "num_list = [1, 2, 3, 4, 5]\n",
    "\n",
    "print(my_map(square, num_list))\n",
    "print(my_map(cube, num_list))\n",
    "print(my_map(quad, num_list))"
   ]
  },
  {
   "cell_type": "markdown",
   "metadata": {},
   "source": [
    "클로저라는 개념도 있는데 좀 있다가 정리하겠다."
   ]
  },
  {
   "cell_type": "markdown",
   "metadata": {},
   "source": [
    "#### high-order function"
   ]
  },
  {
   "cell_type": "code",
   "execution_count": null,
   "metadata": {},
   "outputs": [],
   "source": [
    "# 일반적인 함수\n",
    "def simple_html_tag(tag, msg):\n",
    "    print ('<{0}> {1} <{0}>'.format(tag, msg))\n",
    "    \n",
    "simple_html_tag('h1', '심플 헤딩 타이틀')\n",
    "\n",
    "print ('-'*30)\n",
    "\n",
    "# 얘가 high뭐시기\n",
    "def html_tag(tag):\n",
    "    \n",
    "    def wrap_text(msg):\n",
    "        print ('<{0}> {1} <{0}>'.format(tag, msg))\n",
    "        \n",
    "    return wrap_text\n",
    "\n",
    "# 이런 식으로 사용\n",
    "print_h1 = html_tag('h1')\n",
    "print_h1('첫번째')\n",
    "\n",
    "html_tag('tag0')('msg1')"
   ]
  },
  {
   "cell_type": "markdown",
   "metadata": {},
   "source": [
    "#### 클로저 (closure), 데코레이터 (decorator) 또는 제너레이터 (generator)"
   ]
  },
  {
   "cell_type": "markdown",
   "metadata": {},
   "source": [
    "## 클로저\n",
    "\n",
    "퍼스트클래스 함수를 지원하는 언어의 네임 바인딩 기술을 말한다.\n",
    "\n",
    "어떤 함수를 함수 자신이 가지고 있는 환경과 함께 저장한 레코드이다.\n",
    "\n",
    "함수가 가진 프리변수(free variable)를 클로저가 만들어지는 당시의 값과 레퍼런스에 맵핑하여 주는 역할을 한다.\n",
    "\n",
    "일반 함수와는 다르게, 자신의 영역 밖에서 호출된 함수의 변수값과 레퍼런스를 복사하고 저장한 뒤, 이 캡처한 값들에 액세스할 수 있게 도와준다."
   ]
  },
  {
   "cell_type": "markdown",
   "metadata": {},
   "source": [
    "###### free variable\n",
    "\n",
    "아래와 같이 해당 코드 블럭(함수-inner_func)안에서 사용되었지만, 그 코드블럭 안에서 정의되지 않은 변수를 뜻한다."
   ]
  },
  {
   "cell_type": "code",
   "execution_count": null,
   "metadata": {},
   "outputs": [],
   "source": [
    "def outer_func():\n",
    "    message = 'Hi'\n",
    "\n",
    "    def inner_func():\n",
    "        print (message)\n",
    "\n",
    "    return inner_func\n",
    "\n",
    "print(outer_func)\n",
    "print(outer_func())\n",
    "print(outer_func()())"
   ]
  },
  {
   "cell_type": "code",
   "execution_count": 10,
   "metadata": {},
   "outputs": [
    {
     "name": "stdout",
     "output_type": "stream",
     "text": [
      "<function outer_func.<locals>.inner_func at 0x00000264B6E8D158>\n",
      "\n",
      "['__annotations__', '__call__', '__class__', '__closure__', '__code__', '__defaults__', '__delattr__', '__dict__', '__dir__', '__doc__', '__eq__', '__format__', '__ge__', '__get__', '__getattribute__', '__globals__', '__gt__', '__hash__', '__init__', '__init_subclass__', '__kwdefaults__', '__le__', '__lt__', '__module__', '__name__', '__ne__', '__new__', '__qualname__', '__reduce__', '__reduce_ex__', '__repr__', '__setattr__', '__sizeof__', '__str__', '__subclasshook__']\n",
      "\n",
      "<class 'tuple'>\n",
      "\n",
      "(<cell at 0x00000264B6D8BC48: str object at 0x00000264B6DDDB20>,)\n",
      "\n",
      "<cell at 0x00000264B6D8BC48: str object at 0x00000264B6DDDB20>\n",
      "\n",
      "['__class__', '__delattr__', '__dir__', '__doc__', '__eq__', '__format__', '__ge__', '__getattribute__', '__gt__', '__hash__', '__init__', '__init_subclass__', '__le__', '__lt__', '__ne__', '__new__', '__reduce__', '__reduce_ex__', '__repr__', '__setattr__', '__sizeof__', '__str__', '__subclasshook__', 'cell_contents']\n",
      "\n",
      "Hi\n"
     ]
    }
   ],
   "source": [
    "def outer_func():  #1\n",
    "    message = 'Hi'  #3\n",
    "\n",
    "    def inner_func():  #4\n",
    "        print (message)  #6\n",
    "\n",
    "    return inner_func  #5\n",
    "\n",
    "my_func = outer_func()  #2\n",
    "\n",
    "print (my_func)  # inner_func 오브젝트가 들어있다. return해준애가 괄호 열고닫고 안해서 오브젝트 준거임\n",
    "print()\n",
    "print (dir(my_func))  # 클로저 찾기 __closure__\n",
    "print()\n",
    "print (type(my_func.__closure__)) # 찾은 클로저 타입 확인!\n",
    "print()\n",
    "print (my_func.__closure__)  #  튜플인 클로저의 내용물? 아이템? 확인\n",
    "print()\n",
    "print (my_func.__closure__[0])  # 해당 튜플의 첫번째 요소 확인. cell이라는 문자열 오브젝트래\n",
    "print()\n",
    "print (dir(my_func.__closure__[0]))  # 이번에는 cell 문자열 오브젝트 확인. cell_contents가 있음! \n",
    "print()\n",
    "print (my_func.__closure__[0].cell_contents)  # cell_contents에는 바로바로 Hi가 들어있습니다!"
   ]
  },
  {
   "cell_type": "code",
   "execution_count": 10,
   "metadata": {},
   "outputs": [
    {
     "name": "stdout",
     "output_type": "stream",
     "text": [
      "<123> txtxt <123>\n",
      "<h1> txtxt <h1>\n",
      "<p> txtxt <p>\n"
     ]
    }
   ],
   "source": [
    "def outer_func(tag,txt='txtxt'):\n",
    "\n",
    "    def inner_func():\n",
    "        print('<{0}> {1} <{0}>'.format(tag, txt))\n",
    "\n",
    "    return inner_func\n",
    "\n",
    "outer_func('123')()\n",
    "\n",
    "h1_func = outer_func('h1')\n",
    "p_func = outer_func('p')\n",
    "\n",
    "h1_func()\n",
    "p_func()"
   ]
  },
  {
   "cell_type": "code",
   "execution_count": 11,
   "metadata": {},
   "outputs": [
    {
     "name": "stdout",
     "output_type": "stream",
     "text": [
      "<첫> 번째번째번째 <첫>\n",
      "<h1> h1태그의 안입니다. <h1>\n",
      "<p> p태그의 안입니다. <p>\n"
     ]
    }
   ],
   "source": [
    "def outer_func(tag):\n",
    "\n",
    "    def inner_func(txt):\n",
    "        print('<{0}> {1} <{0}>'.format(tag, txt))\n",
    "\n",
    "    return inner_func\n",
    "\n",
    "outer_func('첫')('번째번째번째')\n",
    "\n",
    "h1_func = outer_func('h1')\n",
    "p_func = outer_func('p')\n",
    "\n",
    "h1_func('h1태그의 안입니다.')\n",
    "p_func('p태그의 안입니다.')"
   ]
  }
 ],
 "metadata": {
  "kernelspec": {
   "display_name": "Python 3",
   "language": "python",
   "name": "python3"
  },
  "language_info": {
   "codemirror_mode": {
    "name": "ipython",
    "version": 3
   },
   "file_extension": ".py",
   "mimetype": "text/x-python",
   "name": "python",
   "nbconvert_exporter": "python",
   "pygments_lexer": "ipython3",
   "version": "3.7.3"
  }
 },
 "nbformat": 4,
 "nbformat_minor": 2
}
