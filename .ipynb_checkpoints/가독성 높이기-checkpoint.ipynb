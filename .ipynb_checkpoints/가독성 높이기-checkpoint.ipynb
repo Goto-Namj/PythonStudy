{
 "cells": [
  {
   "cell_type": "markdown",
   "metadata": {},
   "source": [
    "###### 기존"
   ]
  },
  {
   "cell_type": "code",
   "execution_count": null,
   "metadata": {},
   "outputs": [],
   "source": [
    "if (True):\n",
    "    print('참')"
   ]
  },
  {
   "cell_type": "markdown",
   "metadata": {},
   "source": [
    "###### 개선"
   ]
  },
  {
   "cell_type": "code",
   "execution_count": null,
   "metadata": {},
   "outputs": [],
   "source": [
    "if (False):\n",
    "    return\n",
    "print('참')"
   ]
  },
  {
   "cell_type": "markdown",
   "metadata": {},
   "source": [
    "###### 기존 (중첩 if에서)"
   ]
  },
  {
   "cell_type": "code",
   "execution_count": null,
   "metadata": {},
   "outputs": [],
   "source": [
    "if (True):\n",
    "    print('참')\n",
    "    if (True):\n",
    "        print('참참')\n",
    "        if (True):\n",
    "            print('참참참')"
   ]
  },
  {
   "cell_type": "markdown",
   "metadata": {},
   "source": [
    "###### 개선 (중첩 if에서)"
   ]
  },
  {
   "cell_type": "code",
   "execution_count": 26,
   "metadata": {},
   "outputs": [
    {
     "name": "stdout",
     "output_type": "stream",
     "text": [
      "참\n",
      "참참\n",
      "참참참\n"
     ]
    }
   ],
   "source": [
    "if (False):\n",
    "    return\n",
    "print('참')\n",
    "if (False):\n",
    "    return\n",
    "print('참참')\n",
    "if (False):\n",
    "    return\n",
    "print('참참참')"
   ]
  },
  {
   "cell_type": "markdown",
   "metadata": {},
   "source": [
    "```\n",
    "일반적으로 개발할 시 긍정적(유효한) 상황을 염두하고 개발을 진행하게 된다.\n",
    "그래서 계속적으로 유효성 체크 로직이 포함할 시에는 마치 계층 구조와 같은 형태를 이룬다.\n",
    "-기존\n",
    "\n",
    "하지만 이를 역으로 부정적(유효하지 않는 상황) 상황을 염두하고 분기처리하면 선형 구조를 취한다.\n",
    "- 개선\n",
    "\n",
    "이를 보호절 숙어라고 부른다.\n",
    "유효하지 않는 상황으로 분기되면 해당 지역(메서드, 루프등)을 벗어나게한다.\n",
    "보통 return, exception(예외)를 발생시킨다.\n",
    "```\n",
    "###### 개선된 loop 구문의 분기\n",
    "    참은 실제 처리할 로직을 의미한다."
   ]
  },
  {
   "cell_type": "code",
   "execution_count": null,
   "metadata": {},
   "outputs": [],
   "source": [
    "while (True):\n",
    "    if (False):\n",
    "        continue\n",
    "    print('참')"
   ]
  },
  {
   "cell_type": "markdown",
   "metadata": {},
   "source": [
    "###### 기존"
   ]
  },
  {
   "cell_type": "code",
   "execution_count": 3,
   "metadata": {},
   "outputs": [],
   "source": [
    "a = 5\n",
    "\n",
    "if (10 <= a):\n",
    "    pass"
   ]
  },
  {
   "cell_type": "markdown",
   "metadata": {},
   "source": [
    "###### 개선"
   ]
  },
  {
   "cell_type": "code",
   "execution_count": 4,
   "metadata": {},
   "outputs": [],
   "source": [
    "a = 5\n",
    "\n",
    "if (a >= 10):\n",
    "    pass"
   ]
  },
  {
   "cell_type": "markdown",
   "metadata": {},
   "source": [
    "좌변에는 유동적인 값이나 표현을 넣고, \n",
    "우변에는 상수와 같은 고정값 표현을 넣어야 가독성이 좋다."
   ]
  },
  {
   "cell_type": "markdown",
   "metadata": {},
   "source": [
    "###### if/else 블록의 순서\n",
    "if에 긍정적 조건을 넣어야 가독성이 좋다. \n",
    "두 블록 중 간단한 블록을 먼저 if에 둔다. \n",
    "더 흥미롭고, 확실한 것을 if절에 둔다.\n",
    "\n",
    "```python\n",
    "age_list = [1,2]\n",
    "\n",
    "if (age_list):    # 긍정적 조건\n",
    "    간단\n",
    "else:\n",
    "    엄\n",
    "    청\n",
    "    복\n",
    "    잡\n",
    "    함\n",
    "```\n",
    "\n",
    "단 보호절 숙어가 우선순위가 높다. \n",
    "if가 계층구조로 중첩될 거 같은데 부정의 조건을 넣어서 계층구조가 사라지면 이것이 더 낫다는 말이다."
   ]
  },
  {
   "cell_type": "markdown",
   "metadata": {},
   "source": [
    "#### 복잡한 분기 추출\n",
    "###### 기존"
   ]
  },
  {
   "cell_type": "code",
   "execution_count": 9,
   "metadata": {},
   "outputs": [
    {
     "name": "stdout",
     "output_type": "stream",
     "text": [
      "11 is not 10\n"
     ]
    }
   ],
   "source": [
    "a = 11\n",
    "b = 10\n",
    "if (a == b):\n",
    "    print(a,'is',b)\n",
    "if (a != b):\n",
    "    print(a,'is not',b)"
   ]
  },
  {
   "cell_type": "markdown",
   "metadata": {},
   "source": [
    "###### 개선"
   ]
  },
  {
   "cell_type": "code",
   "execution_count": 13,
   "metadata": {},
   "outputs": [
    {
     "name": "stdout",
     "output_type": "stream",
     "text": [
      "False\n",
      "11 is not 10\n"
     ]
    }
   ],
   "source": [
    "a = 11\n",
    "b = 10\n",
    "\n",
    "def ab():\n",
    "    global a,b\n",
    "    return a==b\n",
    "\n",
    "if (ab()):\n",
    "    print(a,'is',b)\n",
    "if (not ab()):\n",
    "    print(a,'is not',b)"
   ]
  },
  {
   "cell_type": "markdown",
   "metadata": {},
   "source": [
    "#### 무리한 논리표현 하지말자\n",
    "###### 기존"
   ]
  },
  {
   "cell_type": "code",
   "execution_count": 24,
   "metadata": {},
   "outputs": [
    {
     "name": "stdout",
     "output_type": "stream",
     "text": [
      "정렬되어있음\n"
     ]
    }
   ],
   "source": [
    "a,b,c=1,2,3\n",
    "if (a>=b and b>=c) or (a<=b and b<=c):\n",
    "    print('정렬되어있음') # 프린트 말고 리턴으로 더 자주 쓰일거임"
   ]
  },
  {
   "cell_type": "markdown",
   "metadata": {},
   "source": [
    "###### 개선"
   ]
  },
  {
   "cell_type": "code",
   "execution_count": 28,
   "metadata": {},
   "outputs": [
    {
     "name": "stdout",
     "output_type": "stream",
     "text": [
      "정렬되어있음\n"
     ]
    }
   ],
   "source": [
    "a,b,c=1,2,3\n",
    "\n",
    "def abc(a,b,c):\n",
    "    if (a<b and b>c):\n",
    "        return\n",
    "    if (a>b and b<c):\n",
    "        return\n",
    "    else:\n",
    "        return('정렬되어있음')\n",
    "\n",
    "print(abc(a,b,c))"
   ]
  },
  {
   "cell_type": "markdown",
   "metadata": {},
   "source": [
    "#### 참고 문헌\n",
    "\n",
    "구현패턴[켄트 백] - 보호절\n",
    "\n",
    "읽기 좋은 코드가 좋은 코드다[더스틴 보즈웰, 트레버 파우커]"
   ]
  },
  {
   "cell_type": "markdown",
   "metadata": {},
   "source": [
    "http://redutan.github.io/2016/04/01/good-if 읽고 씀"
   ]
  },
  {
   "cell_type": "code",
   "execution_count": null,
   "metadata": {},
   "outputs": [],
   "source": []
  }
 ],
 "metadata": {
  "kernelspec": {
   "display_name": "Python 3",
   "language": "python",
   "name": "python3"
  },
  "language_info": {
   "codemirror_mode": {
    "name": "ipython",
    "version": 3
   },
   "file_extension": ".py",
   "mimetype": "text/x-python",
   "name": "python",
   "nbconvert_exporter": "python",
   "pygments_lexer": "ipython3",
   "version": "3.7.3"
  }
 },
 "nbformat": 4,
 "nbformat_minor": 2
}
