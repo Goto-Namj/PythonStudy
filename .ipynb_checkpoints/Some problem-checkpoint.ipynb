{
 "cells": [
  {
   "cell_type": "markdown",
   "metadata": {},
   "source": [
    "# 게시판 페이징\n",
    "\n",
    "게시판의 페이지수를 보여주는 페이징 문제\n",
    "\n",
    "페이지당 보여줄 게시물 수와 게시물의 총 개수가 주어지면, 최소한의 페이지 수를 출력하는 프로그램"
   ]
  },
  {
   "cell_type": "code",
   "execution_count": null,
   "metadata": {},
   "outputs": [],
   "source": [
    "n=int(input())-1    # Number of posts\n",
    "p=int(input())    # Number of posts per page\n",
    "print(n//p+1)"
   ]
  },
  {
   "cell_type": "markdown",
   "metadata": {},
   "source": [
    "# 메모장 만들기\n",
    "\n",
    "원하는 메모를 파일에 저장하고 추가 및 조회가 가능한 메모장"
   ]
  },
  {
   "cell_type": "code",
   "execution_count": null,
   "metadata": {},
   "outputs": [],
   "source": [
    "while True:\n",
    "    try:\n",
    "        mode = input(\"모드를 입력해 주세요\\n메모 삭제 및 생성 : w\\n메모 내용 추가 : a\\n메모 내용 확인 : r\\n\")\n",
    "        if ['a','r','w'].index(mode)+1:\n",
    "            with open(\"memo.txt\",mode) as f:\n",
    "                if mode=='r':\n",
    "                    data = f.read()\n",
    "                    print(data)\n",
    "                    break\n",
    "                else :\n",
    "                    sk = input(\"종료를 위한 키를 설정해 주세요\")\n",
    "                    print(\"종료를 하시려면%s를 입력하시면 됩니다.\\n메모를 시작하겠습니다\"%sk)\n",
    "                    ip=input()\n",
    "                    while ip!=sk:\n",
    "                        f.write(ip+'\\n')\n",
    "                        ip=input()\n",
    "                    break\n",
    "    except:\n",
    "        print(\"없는 모드 입니다\\n\")"
   ]
  },
  {
   "cell_type": "markdown",
   "metadata": {},
   "source": [
    "# 하위 디렉터리 검색하기"
   ]
  },
  {
   "cell_type": "code",
   "execution_count": 2,
   "metadata": {},
   "outputs": [
    {
     "name": "stdout",
     "output_type": "stream",
     "text": [
      "C:/Users/user/Desktop/python\\.ipynb_checkpoints\\About Markdown's Grammer-checkpoint.ipynb\n",
      "C:/Users/user/Desktop/python\\.ipynb_checkpoints\\About Program's Input, Output-checkpoint.ipynb\n",
      "C:/Users/user/Desktop/python\\.ipynb_checkpoints\\About Python Control Grammar-checkpoint.ipynb\n",
      "C:/Users/user/Desktop/python\\.ipynb_checkpoints\\About Python Data Type-checkpoint.ipynb\n",
      "C:/Users/user/Desktop/python\\.ipynb_checkpoints\\About Python's Basic-checkpoint.ipynb\n",
      "C:/Users/user/Desktop/python\\.ipynb_checkpoints\\About Starting Programming-checkpoint.ipynb\n",
      "C:/Users/user/Desktop/python\\.ipynb_checkpoints\\mod1.py-checkpoint.ipynb\n",
      "C:/Users/user/Desktop/python\\.ipynb_checkpoints\\mod2-checkpoint.ipynb\n",
      "C:/Users/user/Desktop/python\\.ipynb_checkpoints\\Some problem-checkpoint.ipynb\n",
      "C:/Users/user/Desktop/python\\About Markdown's Grammer.ipynb\n",
      "C:/Users/user/Desktop/python\\About Program's Input, Output.ipynb\n",
      "C:/Users/user/Desktop/python\\About Python Control Grammar.ipynb\n",
      "C:/Users/user/Desktop/python\\About Python Data Type.ipynb\n",
      "C:/Users/user/Desktop/python\\About Python's Basic.ipynb\n",
      "C:/Users/user/Desktop/python\\About Starting Programming.ipynb\n",
      "C:/Users/user/Desktop/python\\mod2.ipynb\n",
      "C:/Users/user/Desktop/python\\PythonModule\\.ipynb_checkpoints\\mod3-checkpoint.ipynb\n",
      "C:/Users/user/Desktop/python\\PythonModule\\mod3.ipynb\n",
      "C:/Users/user/Desktop/python\\Some problem.ipynb\n"
     ]
    }
   ],
   "source": [
    "import os\n",
    "\n",
    "def search(dirname):\n",
    "    try:\n",
    "        filenames = os.listdir(dirname)\n",
    "        for filename in filenames:\n",
    "            full_filename = os.path.join(dirname,filename)\n",
    "            if os.path.isdir(full_filename):\n",
    "                search(full_filename)\n",
    "            else:\n",
    "                ext = os.path.splitext(full_filename)[-1]\n",
    "                if ext == '.ipynb':\n",
    "                    print(full_filename)\n",
    "    except PermissionError:\n",
    "        pass\n",
    "    \n",
    "search(\"C:/Users/user/Desktop/python\")"
   ]
  },
  {
   "cell_type": "code",
   "execution_count": 6,
   "metadata": {},
   "outputs": [
    {
     "name": "stdout",
     "output_type": "stream",
     "text": [
      "C:/Users/user/Desktop/pythonAbout Markdown's Grammer.ipynb\n",
      "C:/Users/user/Desktop/pythonAbout Program's Input, Output.ipynb\n",
      "C:/Users/user/Desktop/pythonAbout Python Control Grammar.ipynb\n",
      "C:/Users/user/Desktop/pythonAbout Python Data Type.ipynb\n",
      "C:/Users/user/Desktop/pythonAbout Python's Basic.ipynb\n",
      "C:/Users/user/Desktop/pythonAbout Starting Programming.ipynb\n",
      "C:/Users/user/Desktop/pythonmod2.ipynb\n",
      "C:/Users/user/Desktop/pythonSome problem.ipynb\n",
      "C:/Users/user/Desktop/python\\.ipynb_checkpointsAbout Markdown's Grammer-checkpoint.ipynb\n",
      "C:/Users/user/Desktop/python\\.ipynb_checkpointsAbout Program's Input, Output-checkpoint.ipynb\n",
      "C:/Users/user/Desktop/python\\.ipynb_checkpointsAbout Python Control Grammar-checkpoint.ipynb\n",
      "C:/Users/user/Desktop/python\\.ipynb_checkpointsAbout Python Data Type-checkpoint.ipynb\n",
      "C:/Users/user/Desktop/python\\.ipynb_checkpointsAbout Python's Basic-checkpoint.ipynb\n",
      "C:/Users/user/Desktop/python\\.ipynb_checkpointsAbout Starting Programming-checkpoint.ipynb\n",
      "C:/Users/user/Desktop/python\\.ipynb_checkpointsmod1.py-checkpoint.ipynb\n",
      "C:/Users/user/Desktop/python\\.ipynb_checkpointsmod2-checkpoint.ipynb\n",
      "C:/Users/user/Desktop/python\\.ipynb_checkpointsSome problem-checkpoint.ipynb\n",
      "C:/Users/user/Desktop/python\\PythonModulemod3.ipynb\n",
      "C:/Users/user/Desktop/python\\PythonModule\\.ipynb_checkpointsmod3-checkpoint.ipynb\n"
     ]
    }
   ],
   "source": [
    "import os\n",
    "\n",
    "for (path, dir, files) in os.walk(\"C:/Users/user/Desktop/python\"):\n",
    "    for filename in files:\n",
    "        ext = os.path.splitext(filename)[-1]\n",
    "        if ext == '.ipynb':\n",
    "            print(\"%s%s\"%(path,filename))"
   ]
  },
  {
   "cell_type": "code",
   "execution_count": null,
   "metadata": {},
   "outputs": [],
   "source": []
  }
 ],
 "metadata": {
  "kernelspec": {
   "display_name": "Python 3",
   "language": "python",
   "name": "python3"
  },
  "language_info": {
   "codemirror_mode": {
    "name": "ipython",
    "version": 3
   },
   "file_extension": ".py",
   "mimetype": "text/x-python",
   "name": "python",
   "nbconvert_exporter": "python",
   "pygments_lexer": "ipython3",
   "version": "3.7.3"
  }
 },
 "nbformat": 4,
 "nbformat_minor": 2
}
