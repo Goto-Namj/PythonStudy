{
 "cells": [
  {
   "cell_type": "code",
   "execution_count": 3,
   "metadata": {},
   "outputs": [
    {
     "ename": "ModuleNotFoundError",
     "evalue": "No module named 'tensorflow'",
     "output_type": "error",
     "traceback": [
      "\u001b[1;31m---------------------------------------------------------------------------\u001b[0m",
      "\u001b[1;31mModuleNotFoundError\u001b[0m                       Traceback (most recent call last)",
      "\u001b[1;32m<ipython-input-3-64156d691fe5>\u001b[0m in \u001b[0;36m<module>\u001b[1;34m()\u001b[0m\n\u001b[1;32m----> 1\u001b[1;33m \u001b[1;32mimport\u001b[0m \u001b[0mtensorflow\u001b[0m \u001b[1;32mas\u001b[0m \u001b[0mtf\u001b[0m\u001b[1;33m\u001b[0m\u001b[0m\n\u001b[0m",
      "\u001b[1;31mModuleNotFoundError\u001b[0m: No module named 'tensorflow'"
     ]
    }
   ],
   "source": [
    "import tensorflow as tf"
   ]
  },
  {
   "cell_type": "code",
   "execution_count": 2,
   "metadata": {},
   "outputs": [
    {
     "name": "stdout",
     "output_type": "stream",
     "text": [
      "Requirement already satisfied: tensorflow in c:\\python\\python36\\lib\\site-packages\n",
      "Requirement already satisfied: numpy>=1.13.3 in c:\\python\\python36\\lib\\site-packages (from tensorflow)\n",
      "Requirement already satisfied: protobuf>=3.6.1 in c:\\python\\python36\\lib\\site-packages (from tensorflow)\n",
      "Requirement already satisfied: termcolor>=1.1.0 in c:\\python\\python36\\lib\\site-packages (from tensorflow)\n",
      "Requirement already satisfied: six>=1.10.0 in c:\\python\\python36\\lib\\site-packages (from tensorflow)\n",
      "Requirement already satisfied: tensorboard<1.14.0,>=1.13.0 in c:\\python\\python36\\lib\\site-packages (from tensorflow)\n",
      "Requirement already satisfied: keras-applications>=1.0.6 in c:\\python\\python36\\lib\\site-packages (from tensorflow)\n",
      "Requirement already satisfied: keras-preprocessing>=1.0.5 in c:\\python\\python36\\lib\\site-packages (from tensorflow)\n",
      "Requirement already satisfied: tensorflow-estimator<1.14.0rc0,>=1.13.0 in c:\\python\\python36\\lib\\site-packages (from tensorflow)\n",
      "Requirement already satisfied: gast>=0.2.0 in c:\\python\\python36\\lib\\site-packages (from tensorflow)\n",
      "Requirement already satisfied: grpcio>=1.8.6 in c:\\python\\python36\\lib\\site-packages (from tensorflow)\n",
      "Requirement already satisfied: astor>=0.6.0 in c:\\python\\python36\\lib\\site-packages (from tensorflow)\n",
      "Requirement already satisfied: absl-py>=0.1.6 in c:\\python\\python36\\lib\\site-packages (from tensorflow)\n",
      "Requirement already satisfied: wheel>=0.26 in c:\\python\\python36\\lib\\site-packages (from tensorflow)\n",
      "Requirement already satisfied: setuptools in c:\\python\\python36\\lib\\site-packages (from protobuf>=3.6.1->tensorflow)\n",
      "Requirement already satisfied: markdown>=2.6.8 in c:\\python\\python36\\lib\\site-packages (from tensorboard<1.14.0,>=1.13.0->tensorflow)\n",
      "Requirement already satisfied: werkzeug>=0.11.15 in c:\\python\\python36\\lib\\site-packages (from tensorboard<1.14.0,>=1.13.0->tensorflow)\n",
      "Requirement already satisfied: h5py in c:\\python\\python36\\lib\\site-packages (from keras-applications>=1.0.6->tensorflow)\n",
      "Requirement already satisfied: mock>=2.0.0 in c:\\python\\python36\\lib\\site-packages (from tensorflow-estimator<1.14.0rc0,>=1.13.0->tensorflow)\n",
      "Requirement already satisfied: pbr>=0.11 in c:\\python\\python36\\lib\\site-packages (from mock>=2.0.0->tensorflow-estimator<1.14.0rc0,>=1.13.0->tensorflow)\n"
     ]
    },
    {
     "name": "stderr",
     "output_type": "stream",
     "text": [
      "You are using pip version 9.0.1, however version 19.1.1 is available.\n",
      "You should consider upgrading via the 'python -m pip install --upgrade pip' command.\n"
     ]
    }
   ],
   "source": [
    "!pip install tensorflow"
   ]
  },
  {
   "cell_type": "code",
   "execution_count": 4,
   "metadata": {},
   "outputs": [
    {
     "name": "stdout",
     "output_type": "stream",
     "text": [
      "Requirement already satisfied: tensorflow in c:\\python\\python36\\lib\\site-packages\n",
      "Requirement already satisfied: keras-applications>=1.0.6 in c:\\python\\python36\\lib\\site-packages (from tensorflow)\n",
      "Requirement already satisfied: tensorboard<1.14.0,>=1.13.0 in c:\\python\\python36\\lib\\site-packages (from tensorflow)\n",
      "Requirement already satisfied: grpcio>=1.8.6 in c:\\python\\python36\\lib\\site-packages (from tensorflow)\n",
      "Requirement already satisfied: numpy>=1.13.3 in c:\\python\\python36\\lib\\site-packages (from tensorflow)\n",
      "Requirement already satisfied: absl-py>=0.1.6 in c:\\python\\python36\\lib\\site-packages (from tensorflow)\n",
      "Requirement already satisfied: protobuf>=3.6.1 in c:\\python\\python36\\lib\\site-packages (from tensorflow)\n",
      "Requirement already satisfied: wheel>=0.26 in c:\\python\\python36\\lib\\site-packages (from tensorflow)\n",
      "Requirement already satisfied: tensorflow-estimator<1.14.0rc0,>=1.13.0 in c:\\python\\python36\\lib\\site-packages (from tensorflow)\n",
      "Requirement already satisfied: termcolor>=1.1.0 in c:\\python\\python36\\lib\\site-packages (from tensorflow)\n",
      "Requirement already satisfied: astor>=0.6.0 in c:\\python\\python36\\lib\\site-packages (from tensorflow)\n",
      "Requirement already satisfied: keras-preprocessing>=1.0.5 in c:\\python\\python36\\lib\\site-packages (from tensorflow)\n",
      "Requirement already satisfied: gast>=0.2.0 in c:\\python\\python36\\lib\\site-packages (from tensorflow)\n",
      "Requirement already satisfied: six>=1.10.0 in c:\\python\\python36\\lib\\site-packages (from tensorflow)\n",
      "Requirement already satisfied: h5py in c:\\python\\python36\\lib\\site-packages (from keras-applications>=1.0.6->tensorflow)\n",
      "Requirement already satisfied: markdown>=2.6.8 in c:\\python\\python36\\lib\\site-packages (from tensorboard<1.14.0,>=1.13.0->tensorflow)\n",
      "Requirement already satisfied: werkzeug>=0.11.15 in c:\\python\\python36\\lib\\site-packages (from tensorboard<1.14.0,>=1.13.0->tensorflow)\n",
      "Requirement already satisfied: setuptools in c:\\python\\python36\\lib\\site-packages (from protobuf>=3.6.1->tensorflow)\n",
      "Requirement already satisfied: mock>=2.0.0 in c:\\python\\python36\\lib\\site-packages (from tensorflow-estimator<1.14.0rc0,>=1.13.0->tensorflow)\n",
      "Requirement already satisfied: pbr>=0.11 in c:\\python\\python36\\lib\\site-packages (from mock>=2.0.0->tensorflow-estimator<1.14.0rc0,>=1.13.0->tensorflow)\n"
     ]
    },
    {
     "name": "stderr",
     "output_type": "stream",
     "text": [
      "You are using pip version 9.0.1, however version 19.1.1 is available.\n",
      "You should consider upgrading via the 'python -m pip install --upgrade pip' command.\n"
     ]
    }
   ],
   "source": [
    "!pip3 install tensorflow"
   ]
  },
  {
   "cell_type": "code",
   "execution_count": null,
   "metadata": {},
   "outputs": [],
   "source": []
  }
 ],
 "metadata": {
  "kernelspec": {
   "display_name": "Python 3",
   "language": "python",
   "name": "python3"
  },
  "language_info": {
   "codemirror_mode": {
    "name": "ipython",
    "version": 3
   },
   "file_extension": ".py",
   "mimetype": "text/x-python",
   "name": "python",
   "nbconvert_exporter": "python",
   "pygments_lexer": "ipython3",
   "version": "3.6.5"
  }
 },
 "nbformat": 4,
 "nbformat_minor": 2
}
