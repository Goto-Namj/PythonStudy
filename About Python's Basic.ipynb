{
 "cells": [
  {
   "cell_type": "markdown",
   "metadata": {},
   "source": [
    "# `클래스, 모듈, 패키지, 예외 처리, 내장 및 외장 함수에 대해서`"
   ]
  },
  {
   "cell_type": "markdown",
   "metadata": {},
   "source": [
    "### `클래스`"
   ]
  },
  {
   "cell_type": "code",
   "execution_count": null,
   "metadata": {},
   "outputs": [],
   "source": [
    "# 인스턴스와 객체는 같은 말이다.\n",
    "# 클래스에 의해서 생성된 객체를 인스턴스라고 부른다.\n",
    "# 즉 함수를 사용해 그 결과값을 byeonsu = hamsureturn(1,2) 처럼 담는것과 같다.\n",
    "# byeonsu 는 객체이다, byeonsu 는 hamsureturn의 인스턴스이다.\n",
    "class secret:\n",
    "    name = \"남진명\"\n",
    "    height = 170\n",
    "print(secret.name)\n",
    "s=secret()\n",
    "print(s.height)"
   ]
  },
  {
   "cell_type": "code",
   "execution_count": null,
   "metadata": {},
   "outputs": [],
   "source": [
    "class secret:\n",
    "    name = \"남진명\"\n",
    "    height = 170\n",
    "    def suddenlyadd(a,b):\n",
    "        return a+b\n",
    "print(secret.suddenlyadd(1,2))"
   ]
  },
  {
   "cell_type": "code",
   "execution_count": null,
   "metadata": {},
   "outputs": [],
   "source": [
    "class secret:\n",
    "    name = \"남진명\"\n",
    "    height = 170\n",
    "    def suddenlyadd(gumsa,a,b):\n",
    "        print(gumsa)\n",
    "        return a+b\n",
    "s=secret()                         # 얘가 gumsa에 들어감??? 암튼 신기함\n",
    "print(s.suddenlyadd(1,2))"
   ]
  },
  {
   "cell_type": "code",
   "execution_count": null,
   "metadata": {},
   "outputs": [],
   "source": [
    "class secret:\n",
    "    name = \"남진명\"\n",
    "    height = 170\n",
    "    def jujang(gumsa,moll):\n",
    "        gumsa.hollo=moll        # gumsa에는 s의 정보? 가 들어가 있다\n",
    "                                # 클래스 안에서 검사의 hollo라는 저장공간을 만들고 거기안에 입력받은 정보를 쓴다.\n",
    "    def suddenlyadd(gumsa,a,b):\n",
    "        print(gumsa)                                                \n",
    "        return a+b,gumsa.hollo\n",
    "s=secret()\n",
    "s.jujang(\"이거\")\n",
    "print(s.suddenlyadd(1,2))\n",
    "s2=secret()\n",
    "s2.jujang(\"저거\")\n",
    "print(s2.suddenlyadd(1,2))\n",
    "print(s.suddenlyadd(1,2))"
   ]
  },
  {
   "cell_type": "code",
   "execution_count": null,
   "metadata": {},
   "outputs": [],
   "source": [
    "# __init__ 인스턴스를 만들 때 항상 실행된다.\n",
    "\n",
    "class secret:\n",
    "    name = \"남진명\"\n",
    "    height = 170\n",
    "    def __init__(gumsa,moll):\n",
    "        gumsa.hollo=moll        # gumsa에는 s의 정보? 가 들어가 있다\n",
    "                                # 클래스 안에서 검사의 hollo라는 저장공간을 만들고 거기안에 입력받은 정보를 쓴다.\n",
    "    def suddenlyadd(gumsa,a,b):\n",
    "        print(gumsa)\n",
    "        return a+b,gumsa.hollo\n",
    "s=secret(\"이거\")\n",
    "print(s.suddenlyadd(1,2))\n",
    "s2=secret(\"저거\")\n",
    "print(s2.suddenlyadd(1,2))\n",
    "print(s.suddenlyadd(1,2))\n",
    "type(s)"
   ]
  },
  {
   "cell_type": "code",
   "execution_count": 1,
   "metadata": {},
   "outputs": [
    {
     "name": "stdout",
     "output_type": "stream",
     "text": [
      "박\n",
      "박응용\n",
      "박응용 , 부산여행을 가다.\n"
     ]
    }
   ],
   "source": [
    "# 박씨네 집 클래스 예제 - 내가 짠\n",
    "class HousePark():\n",
    "    lastname=\"박\"\n",
    "    def setname(self,a):\n",
    "        self.name=a\n",
    "    def fullname(self):\n",
    "        return HousePark.lastname+self.name\n",
    "    def travel(self,a):\n",
    "        print(HousePark.fullname(self),\", 부산여행을 가다.\")\n",
    "pey = HousePark()\n",
    "print(pey.lastname)\n",
    "pey.setname(\"응용\")\n",
    "print(HousePark.fullname(pey))\n",
    "pey.travel(\"부산\")"
   ]
  },
  {
   "cell_type": "code",
   "execution_count": null,
   "metadata": {},
   "outputs": [],
   "source": [
    "# 박씨네 집 클래스 예제\n",
    "class HousePark():\n",
    "    lastname=\"박\"\n",
    "    def setname(self,name):\n",
    "        self.fullname = self.lastname + name\n",
    "    def travel(self,where):\n",
    "        print(\"%s,%s여행을 가다.\"%(self.fullname,where))\n",
    "pey = HousePark()\n",
    "print(pey.lastname)\n",
    "pey.setname(\"응용\")\n",
    "print(pey.fullname)\n",
    "pey.travel(\"부산\")"
   ]
  },
  {
   "cell_type": "code",
   "execution_count": 2,
   "metadata": {},
   "outputs": [
    {
     "name": "stdout",
     "output_type": "stream",
     "text": [
      "박응용,태국여행을 가다.\n"
     ]
    }
   ],
   "source": [
    "# 초깃값 설정하기\n",
    "\n",
    "# 박씨네 집 클래스 예제 - 2\n",
    "class HousePark():\n",
    "    lastname=\"박\"\n",
    "    def __init__(self,name):\n",
    "        self.fullname = self.lastname + name\n",
    "    def travel(self,where):\n",
    "        print(\"%s,%s여행을 가다.\"%(self.fullname,where))\n",
    "pey = HousePark(\"응용\")\n",
    "pey.travel(\"태국\")"
   ]
  },
  {
   "cell_type": "code",
   "execution_count": 3,
   "metadata": {},
   "outputs": [
    {
     "name": "stdout",
     "output_type": "stream",
     "text": [
      "김줄리엣,독도여행을 가다.\n"
     ]
    }
   ],
   "source": [
    "# 클래스의 상속\n",
    "class HouseKim(HousePark):\n",
    "    lastname=\"김\"\n",
    "juliet = HouseKim(\"줄리엣\")\n",
    "juliet.travel(\"독도\")"
   ]
  },
  {
   "cell_type": "code",
   "execution_count": null,
   "metadata": {},
   "outputs": [],
   "source": [
    "# 메서드 오버라이딩\n",
    "# 상속받을 클래스와 상속할 클래스의 메서드 차이를 두고 싶을 때\n",
    "class HouseKim(HousePark):\n",
    "    lastname=\"김\"      # 얘는 그럼 변수 오버라이딩인가? 엌ㅋㅋㅋㅋㅋㅋㅋ\n",
    "    def travel(self,where,day):\n",
    "        print(\"%s, %s여행 %d일 가네.\" %(self.fullname,where,day))\n",
    "juliet = HouseKim(\"줄리엣\")\n",
    "juliet.travel(\"독도\",3)"
   ]
  },
  {
   "cell_type": "code",
   "execution_count": null,
   "metadata": {},
   "outputs": [],
   "source": [
    "# 연산자 오버로딩\n",
    "# 연산자를 객체끼리 사용할 수 있게 하는 기법으로, 연산자 오버로딩을 사용하면 다음과 같이 동작하도록 만들 수 있다.\n",
    "'''\n",
    ">>> pey = HousePark(\"응용\")\n",
    ">>> juliet = HouseKim(\"줄리엣\")\n",
    ">>> pey + juliet\n",
    "박응용, 김줄리엣 결혼했네\n",
    "'''\n",
    "\n",
    "class HousePark:\n",
    "    lastname = \"박\"\n",
    "    def __init__(self,name):\n",
    "        self.fullname = self.lastname + name\n",
    "    def travel(self, where):\n",
    "        print(\"%s, %s여행을 가다.\"%(self.fullname,where))\n",
    "    def love(self,other):\n",
    "        print(\"%s, %s 사랑에 빠졌네\"%(self.fullname,other.fullname))\n",
    "    def __add__(self,other):\n",
    "        print(\"%s, %s 결혼했네\"%(self.fullname, other.fullname))\n",
    "        \n",
    "class HouseKim(HousePark):\n",
    "    lastname = \"김\"\n",
    "    def travel(self,where,day):\n",
    "        print(\"%s, %s여행 %d일 가네.\" %(self.fullname,where,day))\n",
    "\n",
    "pey = HousePark(\"응용\")\n",
    "juliet = HouseKim(\"줄리엣\")\n",
    "pey.love(juliet)\n",
    "pey + juliet      # + 를 사용하면 __add__가 호출되며, pey = self, juliet = other 이 된다.\n",
    "                  # - 를 사용하면 __sub__가 호출된다.\n",
    "                  # * 는 __mul__ /는 __truediv__"
   ]
  },
  {
   "cell_type": "code",
   "execution_count": null,
   "metadata": {},
   "outputs": [],
   "source": [
    "class test:\n",
    "    a = \"a\"\n",
    "    def b(self,name):\n",
    "        self.what = \"haha\"\n",
    "        self.call = name       #어떻게 함수안에 있는놈을 쓰는거지....?    분명 다른 함수에서 같은 이름을 쓸 수 있을텐데??\n",
    "                                # 선우 성님의 설명 별표 세개! ***\n",
    "                                    # self 한정! self.call은 함수 안의 self.call이 아닌, 함수 밖의 즉 클래스 안의 call이 되어버린다!\n",
    "                                    # 즉 나중에 다른 함수 속의 같은 call을 부른다면??? 기존의 call속의 데이터에 덮어쓰기 된다!!!\n",
    "                                    # 아아 여기서 self는 그냥 self라고 하는거지 그냥 메서드(함수) 속의 첫번째 매개변수(파라미터)가\n",
    "                                    # 그냥 self라고 생각하면 된다. 여기서 self는 t이다.\n",
    "t=test()\n",
    "t.b(\"남진명\")       # 아하! 여기서 t 객체에 b메서드를 넣어?불러? 놨구나!\n",
    "print(t.call)"
   ]
  },
  {
   "cell_type": "markdown",
   "metadata": {},
   "source": [
    "### `모듈`"
   ]
  },
  {
   "cell_type": "code",
   "execution_count": null,
   "metadata": {},
   "outputs": [],
   "source": [
    "# mod1.py\n",
    "# 요거 파일 만들어야해"
   ]
  },
  {
   "cell_type": "code",
   "execution_count": null,
   "metadata": {
    "scrolled": true
   },
   "outputs": [],
   "source": [
    "import import_ipynb       # 쥬피터 노트북을 사용할 경우에는 .ipynb파일을 import할 수 없기에 pip install import-ipynb 해서 import_ipynb\n",
    "                          # 를 import 해서 다른 .ipynb파일을 import 할 수 있다.\n",
    "\n",
    "\n",
    "import mod2\n",
    "print(mod2.ssum(3,4))\n",
    "\n",
    "from mod2 import ssum\n",
    "print(ssum(3,4))\n",
    "\n",
    "from mod2 import ssum as s\n",
    "print(s(3,4))\n",
    "                                        \n",
    "                                        # 요거요거 import 할 때 경로지정 하는방법!\n",
    "                                        # 아래서 한번 더 써줄게 중요하니까!\n",
    "from PythonModule import mod3 as s     # https://brownbears.tistory.com/296 참고해 ㅎㅎㅎㅎ\n",
    "print(s.safesum(3,4))\n",
    "# as s 를 안하면 print(mod3.safesum(3,4))\n",
    "\n",
    "\n",
    "from mod2 import ssum,mul\n",
    "print(mul(3,4))\n",
    "\n",
    "from mod2 import *\n",
    "print(mul(3,4))"
   ]
  },
  {
   "cell_type": "code",
   "execution_count": null,
   "metadata": {},
   "outputs": [],
   "source": [
    "# if __name__==\"__main__\"\n",
    "# mod1.py라는 파일을 만들었다고 치자, 실행 시키려면 python mod1.py를 쓰면 된다.\n",
    "# 그런데 이 파일 속의 함수를 사용하기 위해서 도스 창에서 import mod1를 하면 바로 mod1.py파일이 실행이 된다.\n",
    "# 즉 모듈로 사용하기 위해 이 파일을 import 했더니, main? 속의 프린트들이 실행되는 꼴이다.\n",
    "# 이것을 방지하기 위해 위 코드를 쓰는것이다.\n",
    "\n",
    "# mod1.py\n",
    "def sum(a,b):\n",
    "    return a+b\n",
    "def safe_sum(a,b):\n",
    "    if type(a) != type(b):\n",
    "        print(\"더할 수 있는 것이 아닙니다.\")\n",
    "        return\n",
    "    else:\n",
    "        result = sum(a,b)\n",
    "    return result\n",
    "\n",
    "if __name__==\"__main__\":        # 이 if문을 통해서 파일을 직접 실행시켰는지, 이 모듈을 불렀을 뿐인지 검사해 아래 문장들을 실행시킨다.\n",
    "    print(safe_sum('a',1))\n",
    "    print(safe_sum(1,4))\n",
    "    print(sum(10,10.4))"
   ]
  },
  {
   "cell_type": "markdown",
   "metadata": {},
   "source": [
    "#### 클래스나 변수 등을 포함한 모듈"
   ]
  },
  {
   "cell_type": "code",
   "execution_count": null,
   "metadata": {},
   "outputs": [],
   "source": [
    "# 그냥 별거 없고 아래 코드 import 해서 쓸라면 파일명. 요거 쓰고 함수든 변수든 클래스를 쓰란말임 메인문? 에서 자기 클래스 쓰듯이\n",
    "\n",
    "# mod2.py\n",
    "PI = 3.141592\n",
    "class Math:                    # 반지름을 계산하는 클래스이다.\n",
    "    def solv(self,r):\n",
    "        return PI * (r**2)\n",
    "\n",
    "def sum(a,b):\n",
    "    return a+b\n",
    "\n",
    "if __name__==\"__main__\":\n",
    "    print(PI)\n",
    "    a = Math()\n",
    "    print(a.solv(2))\n",
    "    print(sum(PI,4.4))\n",
    "\n",
    "\n",
    "# 위에 애를 import 했다고 치자\n",
    "\n",
    "# >>> print(mod2.PI)\n",
    "# 3.141592\n",
    "# >>> a = mod2.Math()\n",
    "# >>> print(a.solv(2))\n",
    "# 12.566368\n",
    "\n",
    "# 이런느낌"
   ]
  },
  {
   "cell_type": "markdown",
   "metadata": {},
   "source": [
    "# import 경로지정!"
   ]
  },
  {
   "cell_type": "code",
   "execution_count": null,
   "metadata": {},
   "outputs": [],
   "source": [
    "# jump to python 참고한거\n",
    "# 1. sys.path.append(모듈을 저장한 디렉터리) 사용하기\n",
    "import sys\n",
    "print(sys.path)    # 얘는 파이썬 라이브러리들이 설치되어 있는 디렉터리들을 보여준다.\n",
    "            # 만약 사용할 모듈이 보여준 디렉터리 속에 있다면, 모듈 바로 사용가능!\n",
    "            # 즉 여기서 사용할 방법은 이 보여준 디렉터리들 속에 자신이 사용할 모듈이 있는 파일의 경로를 추가하는것이다 바로 append로!\n",
    "\n",
    "# 2. PYTHONPATH 환경 변수 사용하기\n",
    "# 도스 창에서 [set PYTHONPATH = 추가할 디렉터리 절대경로]\n",
    "# 위랑 다른가..?\n",
    "\n",
    "\n",
    "'''\n",
    "파이썬은 모듈을 import 할 때 아래의 순서로 해당 모듈을 찾는다.\n",
    "1. 현재 작업 디렉토리\n",
    "2. PYTHONPATH 환경 변수에 등록된 디렉토리\n",
    "3. 표준 라이브러리 디렉토리 - 예: C:\\Python27\\Lib (파이썬이 설치된 경로의 Lib 임)\n",
    "\n",
    "from PythonModule import mod3 as s     # https://brownbears.tistory.com/296 참고해 ㅎㅎㅎㅎ\n",
    "print(s.safesum(3,4))\n",
    "as s 를 안하면 print(mod3.safesum(3,4))\n",
    "'''\n",
    "a=1\n",
    "a"
   ]
  },
  {
   "cell_type": "markdown",
   "metadata": {},
   "source": [
    "### `패키지`"
   ]
  },
  {
   "cell_type": "markdown",
   "metadata": {},
   "source": [
    "```python\n",
    "패키지는 도트(.)를 이용하여 파이썬 모듈을 계층적(디렉터리 구조)으로 관리할 수 있게 해준다.\n",
    "구조를 보자\n",
    "Python/\n",
    "    game/\n",
    "        __init__.py\n",
    "        sound/\n",
    "            __init__.py\n",
    "            echo.py\n",
    "            wav.py\n",
    "        graphic/\n",
    "            __init__.py\n",
    "            screen.py\n",
    "            render.py\n",
    "        play/\n",
    "            __init__.py\n",
    "            run.py\n",
    "            test.py\n",
    "이런식의 구조의 패키지를 만들었다고 하자\n",
    "만들었다면? set 명령어를 사용해 PYTHONPATH 환경 변수에 해당 디렉터리를 추가해야한다.아마도 Python디렉터리를?\n",
    "\n",
    "이제 패키지 안의 함수를 실행해 보자\n",
    "\n",
    "먼저, echo 모듈을 import하여 실행하는 방법이다.\n",
    "import game.sound.echo\n",
    "game.sound.echo.echo_test()\n",
    "\n",
    "두 번째로 echo 모듈이 있는 디렉터리까지를 from ... import 하여 실행하는 방법이다.\n",
    "from game.sound import echo\n",
    "echo.echo_test()\n",
    "\n",
    "세 번째로 echo_test 함수를 직접 import하는 방법이다.\n",
    "from game.sound.echo import echo_test\n",
    "echo_test()\n",
    "\n",
    "이번에는 안되니까 시도하지 말고 위의 방법이나 쓰라는 이유에서 쓰는 방법이다.\n",
    "import game\n",
    "game.sound.echo.echo_test()\n",
    "이거는 안되지만! game 디렉터리의 모듈, game 디렉터리의 __init__.py에 정의된 것들만 참조할 수 있다. __init__.py는 좀 뒤에 알려줄게^^\n",
    "\n",
    "두 번째로 얘도 안된다.\n",
    "import game.sound.echo.echo_test\n",
    "도트 연산자(.)를 사용해서 import a.b.c처럼 import할 때 가장 마지막 항목인 c는 반드시 모듈 또는 패키지이여야 한다. 첫 번째 방법처럼..\n",
    "\n",
    "\n",
    "\n",
    "\n",
    "__init__.py 의 용도\n",
    "\n",
    "해당 디렉터리가 패키지의 일부임을 알려주는 역할을 한다. game, sound, graphic등 패키지에 포함되어있는 디렉터리가 __init__.py파일이 없으면\n",
    "패키지로 인식되지 않는다.\n",
    "* python3.3 버전부터는 __init__.py 파일이 없이도 패키지로 인식이 된대... 그런데 그 이전 버전 사용자? 들을 위해서 __init__.py파일을 만들자..\n",
    "\n",
    "__all__ 의 용도\n",
    "\n",
    "from ... import * 은 ...에 해당하는 [모듈] 의 전체를 가져오는 코드다 즉 from a.b.c import * 이 정상적으로 작동하려면, \n",
    "c가 디렉터리가 아닌, 모듈이여야 한다.\n",
    "아래는 디렉터리로 해도 정상작동 하는 방법이다.\n",
    "\n",
    "from game.sound import *\n",
    "echo.echo_test()\n",
    "하면? 오류...\n",
    "오류가 안뜨려면?\n",
    "__init__.py 파일에\n",
    "__all__=['echo']        __init__.py 파일이 들어 있는 디렉터리에서 * 기호를 사용해 import 할 경우\n",
    "                        __all__에 정의된 echo모듈만 import 된다는 의미이다.\n",
    "\n",
    "    \n",
    "\n",
    "만약 graphic 디렉터리의 render.py 모듈이 sound 디렉터리의 echo.py 모듈 속 echo_test함수를 사용하고 싶다면 다음과 같이 쓸수있다.\n",
    "\n",
    "from game.sound.echo import echo_test\n",
    "echo_test()\n",
    "이것은 전체경로? 절대경로? 를 사용한 방법이다.\n",
    "\n",
    "아래는 상대경로를 사용한 방법이다.(relative한 방법? 이라고한닼ㅋㅋ) python 2.5부터 지원한다.\n",
    "from ..sound.echo import echo_test\n",
    "echo_test()\n",
    "이 방법을 사용할 때는 모듈안에서만 사용해야 한다. 즉 파이썬 인터프리터(cmd창같은 애)에서 ..같은 접근자는 사용할 수 없다.\n",
    "```"
   ]
  },
  {
   "cell_type": "markdown",
   "metadata": {},
   "source": [
    "### `예외 처리`"
   ]
  },
  {
   "cell_type": "markdown",
   "metadata": {},
   "source": [
    "```python\n",
    "오류 발생 상황\n",
    "\n",
    "\n",
    "1. 디렉터리 안에 없는 파일을 열려고 시도했을 때 발생하는 오류\n",
    "f = open(\"없는파일진짜로없는파일\",'r')\n",
    "FileNotFoundError 이다.\n",
    "\n",
    "2. 0으로 다른 숫자를 나눌 때 발생하는 오류\n",
    "print(4/0)\n",
    "ZeroDivisionError 이다.\n",
    "\n",
    "3. 리스트에 없는 인덱스 위치에 해당하는 값을 얻으려 할 때 발생하는 오류\n",
    "a =[1,2,3]\n",
    "print(a[3])\n",
    "IndexError 이다.\n",
    "\n",
    "이러한 오류 발생 상황이 있다. 이제 \n",
    "\n",
    "\n",
    "\n",
    "오류 예외 처리 기법    에 대해 알아보자.\n",
    "\n",
    "try, except문\n",
    "try:\n",
    "    ...\n",
    "except[발생 오류[as 오류 메시지 변수]]:      []기호는 해당 괄호안의 내용을 생략해도 된다는 내용임!!!!\n",
    "    ...\n",
    "와 같은 기본구조를 가지고있다.\n",
    "try블록을 실행시키다가 오류가 뜨고 except에 해당 오류가 있으면 except안의 내용을 실행한다.\n",
    "[]기호를 생략해도 되므로!\n",
    "except만 사용해 오류가 생겼을 때 실행,\n",
    "발생오류를 포함한 except를 사용해 미리 정해 놓은 오류 이름과 일치할 때만 실행\n",
    "발생오류와 오류 메시지 변수까지 포함한 except를 사용해 음... 그냥 보자\n",
    "try:\n",
    "    4/0\n",
    "except ZeroDivisionError as e:\n",
    "    print(e)\n",
    "try 구문은 else절을 지원한다. else절은 예외가 발생하지 않은 경우에 실행되며 반드시 except절 바로 다음에 위치해야한다.\n",
    "try :\n",
    "    f = open('없는거.txt','r')\n",
    "except FileNotFoundError as e:\n",
    "    print(str(e))\n",
    "else:\n",
    "    data = f.read()\n",
    "    f.close()\n",
    "근데 솔직히 왜쓰는거지..? 그냥 try에 다 쓰면 안되나?\n",
    "try문에는 finally절을 사용할 수 있다. finally절은 try문 수행 도중 예외 발생 여부에 상관 없이 항상 수행된다.\n",
    "주로 사용되는 경우는 사용한 리소스를 close해야 할 경우에 많이 사용된다.\n",
    "f = open('test.txt','r')\n",
    "try:\n",
    "    data = f.read()\n",
    "finally:\n",
    "    f.close()\n",
    "요로코롬....\n",
    "\n",
    "\n",
    "\n",
    "\n",
    "\n",
    "오류 회피하기        에 대해 알아보자.\n",
    "오류가 발생해도 그냥 통과시키는 행동이다\n",
    "try:\n",
    "    4/0\n",
    "except:\n",
    "    pass\n",
    "요오오오오로코롬\n",
    "원래는 여러 에러가 생길 수 있기때문에 그중에 통과해야하는 오류만 이름을 명시해서 통과시키기도 한대\n",
    "\n",
    "\n",
    "\n",
    "\n",
    "오류 일부러 발생시키기       에 대해 알아보자.\n",
    "\n",
    "raise 사용\n",
    "    강제 발생 ex1) BIrd라는 클래스를 상속받는 자식 클래스는 반드시 fly라는 함수를 구현하도록 만들고싶은경우\n",
    "    \n",
    "class Bird:\n",
    "    def fly(self):\n",
    "        raise NotImplementedError\n",
    "\n",
    "class Eagle(Bird):\n",
    "    pass\n",
    "\n",
    "eagle = Eagle()\n",
    "eagle.fly()\n",
    "\n",
    "이 구문이 에러가 뜨는 이유 \n",
    "Eagle 클래스는 Bird 클래스를 상속받는다. 그런데 Eagle 클래스에서 fly 함수를 구현하지 않았기 때문에 Bird 클래스의 fly 함수가 호출된다.\n",
    "그리고 raise문에 의해 다음과 같은 NotImplementedError가 발생할 것이다.\n",
    "\n",
    "---------------------------------------------------------------------------\n",
    "NotImplementedError                       Traceback (most recent call last)\n",
    "<ipython-input-15-b37f067af85d> in <module>\n",
    "     82 \n",
    "     83 eagle = Eagle()\n",
    "---> 84 eagle.fly()\n",
    "\n",
    "<ipython-input-15-b37f067af85d> in fly(self)\n",
    "     76 class Bird:\n",
    "     77     def fly(self):\n",
    "---> 78         raise NotImplementedError\n",
    "     79 \n",
    "     80 class Eagle(Bird):\n",
    "\n",
    "NotImplementedError: \n",
    "    \n",
    "발생 되지 않으려면 Eagle 클래스에 fly 함수를 반드시 구현해야 한다.\n",
    "```"
   ]
  },
  {
   "cell_type": "markdown",
   "metadata": {},
   "source": [
    "### `내장 함수`"
   ]
  },
  {
   "cell_type": "code",
   "execution_count": null,
   "metadata": {},
   "outputs": [],
   "source": [
    "# 라이브러리 이전의 기본 내장 함수에 대해.....\n",
    "\n",
    "# all\n",
    "\n",
    "# all(x)은 반복 가능한 자료형 x를 입력 인수로 받으며, 이 x가 모두 참이면 True, 거짓이 하나라도 있으면 False를 리턴한다. (and)\n",
    "# 반복 가능한 자료형이란 for문으로 그 값을 출력할 수 있는 것을 의미한다. 리스트, 튜플, 문자열, 딕셔너리, 집합 등이 있다.\n",
    "print(all([1,2,3]))\n",
    "print(all([1,2,3,0]))"
   ]
  },
  {
   "cell_type": "code",
   "execution_count": null,
   "metadata": {},
   "outputs": [],
   "source": [
    "# any\n",
    "\n",
    "# any(x)는\" x 중 하나라도 참이 있을 경우 True를 리턴하고, x가 모두 거짓일 경우에만 False를 리턴한다. all(x)의 반대이다. (or)\n",
    "print(any([1,2,3]))\n",
    "print(any([1,2,3,0]))\n",
    "print(any([0,\"\"]))"
   ]
  },
  {
   "cell_type": "code",
   "execution_count": null,
   "metadata": {},
   "outputs": [],
   "source": [
    "# chr\n",
    "\n",
    "# chr(i)는 아스키(ASCII) 코드값을 입력으로 받아 그 코드에 해당하는 문자를 출력하는 함수이다.\n",
    "print(chr(97))"
   ]
  },
  {
   "cell_type": "code",
   "execution_count": 1,
   "metadata": {},
   "outputs": [
    {
     "name": "stdout",
     "output_type": "stream",
     "text": [
      "['__add__', '__class__', '__contains__', '__delattr__', '__delitem__', '__dir__', '__doc__', '__eq__', '__format__', '__ge__', '__getattribute__', '__getitem__', '__gt__', '__hash__', '__iadd__', '__imul__', '__init__', '__init_subclass__', '__iter__', '__le__', '__len__', '__lt__', '__mul__', '__ne__', '__new__', '__reduce__', '__reduce_ex__', '__repr__', '__reversed__', '__rmul__', '__setattr__', '__setitem__', '__sizeof__', '__str__', '__subclasshook__', 'append', 'clear', 'copy', 'count', 'extend', 'index', 'insert', 'pop', 'remove', 'reverse', 'sort']\n"
     ]
    }
   ],
   "source": [
    "# dir\n",
    "\n",
    "# dir은 객체가 자체적으로 가지고 있는 변수나 함수를 보여준다.\n",
    "print(dir([1,2,3]))\n",
    "# print(클래스를 받은 변수? 객체)             # 요거 pey = HousePark()에서의 pey"
   ]
  },
  {
   "cell_type": "code",
   "execution_count": null,
   "metadata": {},
   "outputs": [],
   "source": [
    "# divmod\n",
    "\n",
    "# divmod(a,b)는 2개의 숫자를 입력으로 받는다. 그리고 a를 b로 나눈 몫과 나머지를 튜플 형태로 리턴하는 함수이다.\n",
    "print(divmod(7,3))"
   ]
  },
  {
   "cell_type": "code",
   "execution_count": null,
   "metadata": {},
   "outputs": [],
   "source": [
    "# enumerate\n",
    "\n",
    "# enumerate는 '열거하다'라는 뜻이다. 이 함수는 순서가 있는 자료형을 입력으로 받아 인덱스 값을 포함하는 enumerate 객체를 리턴한다.\n",
    "# 주로 for문과 함께 사용하며, 튜플형식으로 리턴하는듯?\n",
    "enum=['body','foo','bar']\n",
    "for i,name in enumerate(enum):\n",
    "    print(i,name)"
   ]
  },
  {
   "cell_type": "code",
   "execution_count": null,
   "metadata": {},
   "outputs": [],
   "source": [
    "# eval\n",
    "\n",
    "# eval(expression)은 실행 가능한 문자열(1+2, 'hi' + 'a' 같은 것)을 입력으로 받아 문자열을 실행한 결과값을 리턴하는 함수이다.\n",
    "# 주로 입력받은 문자열로 파이썬 함수나 클래스를 동적으로 실행하고 싶은 경우에 사용된다.\n",
    "print(eval('\"ev\"+\"al\"'),eval('1+1'))"
   ]
  },
  {
   "cell_type": "code",
   "execution_count": null,
   "metadata": {},
   "outputs": [],
   "source": [
    "# filter\n",
    "\n",
    "# filter(함수이름, 함수에 차례로 들어갈 반복 가능한 자료형) 반복 가능한 자료형의 각각의 요소가 함수에 들어갔을때 return값이 참인 것만\n",
    "# 묶어서 돌려준다.\n",
    "def positive(x):\n",
    "    return x > 0      # x가 0보다 클 때 True, 0이하일 때 False를 리턴한다.\n",
    "print( tuple(filter(positive , [1,-3,2,0,-5,6])) )      # 돌려주는 값은 여러개이기 때문에 아마도? for문을 사용해? 받거나, 지금처럼 \n",
    "                                                        # tuple형, 또는 list등의 형식으로 받아와야 출력이 제대로 가능하다.\n",
    "# 추가로 lambda라는 함수를 이용하면 더 쉽게 코드작성이 가능하다\n",
    "print(list(filter(lambda x:x>0,[1,-3,2,0,-5,6])))"
   ]
  },
  {
   "cell_type": "code",
   "execution_count": null,
   "metadata": {},
   "outputs": [],
   "source": [
    "# hex\n",
    "\n",
    "# hex(x)는 정수값을 입력받아 16진수로 변환해 리턴해주는 함수이다."
   ]
  },
  {
   "cell_type": "code",
   "execution_count": null,
   "metadata": {},
   "outputs": [],
   "source": [
    "# id\n",
    "\n",
    "# id(object)는 객체를 입력받아 객체의 고유 주소값(래퍼런스)을 리턴하는 함수이다.\n",
    "a = 3\n",
    "b = a\n",
    "print(id(3),id(a),id(b),sep='\\n')"
   ]
  },
  {
   "cell_type": "code",
   "execution_count": null,
   "metadata": {},
   "outputs": [],
   "source": [
    "# int\n",
    "\n",
    "# int() 괄호안의 자료형을 int형으로 바꿔주는건 알고있겠지만!\n",
    "# int(x,radix)는 radix진수로 표현된 문자열 x를 10진수로 변환하여 리턴한다.\n",
    "print(int('1A',16))"
   ]
  },
  {
   "cell_type": "code",
   "execution_count": null,
   "metadata": {},
   "outputs": [],
   "source": [
    "# isinstance\n",
    "\n",
    "# isinstance(object,class)는 첫 번째 인수로 인스턴스, 두 번째 인수로 클래스 이름을 받는다.\n",
    "# 입력으로 받은 인스턴스가 그 클래스의 인스턴스인지 판단하여 참거짓 값을 리턴한다.\n",
    "class person:pass\n",
    "a=person()\n",
    "b=3\n",
    "print('a =',isinstance(a,person),'\\nb =',isinstance(b,person))"
   ]
  },
  {
   "cell_type": "code",
   "execution_count": null,
   "metadata": {},
   "outputs": [],
   "source": [
    "# lambda\n",
    "\n",
    "# lambda는 함수를 생성할 때 사용하는 예약어로, def와 동일한 역할을 한다. 보통 함수를 한 줄로 간결하게 만들 때 사용한다.\n",
    "mult = lambda a,b:a*b\n",
    "print(mult(3,4))\n",
    "# 이렇듯 변수? 객체? 에 함수를 담을 수 있다 마찬가지로, 리스트에도 담을수 있어 mult[0](3,4)처럼도 사용이 가능하다."
   ]
  },
  {
   "cell_type": "code",
   "execution_count": null,
   "metadata": {},
   "outputs": [],
   "source": [
    "# len\n",
    "\n",
    "# len(s)은 입력값s의 길이(요소의 전체 개수)를 리턴하는 함수이다.\n",
    "print(len(\"abc\"),len([1,2,3]))"
   ]
  },
  {
   "cell_type": "code",
   "execution_count": null,
   "metadata": {},
   "outputs": [],
   "source": [
    "# list\n",
    "\n",
    "# list(s)는 반복 가능한 자료형 s를 입력받아 리스트로 만들어 리턴하는 함수이다.\n",
    "print(list(\"python\"))\n",
    "print(list((1,2,3)))"
   ]
  },
  {
   "cell_type": "code",
   "execution_count": null,
   "metadata": {},
   "outputs": [],
   "source": [
    "# map\n",
    "\n",
    "# map(f,iterable)은 함수(f)와 반복 가능한(iterable) 자료형을 입력으로 받는다.\n",
    "# map은 입력 받은 자료형의 각 요소가 함수 f에 의해 수행된 결과를 묶어서 리턴하는 함수이다.\n",
    "print(list(map(  lambda x:x**2  ,  [1,2,3,4]  )))\n",
    "# 위에 어디서 많이봤지? ㅎㅎ filter랑 비슷함"
   ]
  },
  {
   "cell_type": "code",
   "execution_count": null,
   "metadata": {},
   "outputs": [],
   "source": [
    "# max\n",
    "\n",
    "# max(iterable)는 인수로 반복 가능한 자료형을 입력받아 그 최대값을 리턴하는 함수이다.\n",
    "print(max([1,3,2]),max(\"python\"))"
   ]
  },
  {
   "cell_type": "code",
   "execution_count": null,
   "metadata": {},
   "outputs": [],
   "source": [
    "# min\n",
    "\n",
    "# min(iterable)은 max 함수와 반대이다.\n",
    "print(min([1,3,2]),min(\"python\"))"
   ]
  },
  {
   "cell_type": "code",
   "execution_count": null,
   "metadata": {},
   "outputs": [],
   "source": [
    "# oct\n",
    "\n",
    "# oct(x)는 정수 형태의 숫자를 8진수 문자열로 바꾸어 리턴하는 함수이다.\n",
    "print(\"42가 나와야해\\n\",oct(34))"
   ]
  },
  {
   "cell_type": "code",
   "execution_count": null,
   "metadata": {},
   "outputs": [],
   "source": [
    "# open\n",
    "\n",
    "# open(filename, [mode])은 '파일 이름'과 '읽기 방법'을 입력받아 파일 객체를 리턴하는 함수이다.\n",
    "# 읽기 방법(mode)이 생략되면 기본값인 읽기 전용 모드(r)로 파일 객체를 만들어 리턴한다.\n",
    "# 모드의 종류로는 w(쓰기) r(읽기) a(추가) b(바이너리) 가 있다 \n",
    "# b는 wb rb ab와 같이 사용된다.\n",
    "# f = open(\"파일명\",\"모드명\") 식으로 사용한다\n",
    "# bin(binary) 파일은 텍스트파일과 다르게 12345를 그에 대응하는 아스키코드로 저장하는 것이 아닌, 12345 int형 그 자체로 저장한다.\n",
    "# 즉 텍스트 파일이 모두 아스키값으로 저장되어있는데, 텍스트 파일을 바이너리 모드로 읽는다면, 모두 숫자가 되어버릴 것이다."
   ]
  },
  {
   "cell_type": "code",
   "execution_count": null,
   "metadata": {},
   "outputs": [],
   "source": [
    "# ord\n",
    "\n",
    "# ord(c)는 문자의 아스키 코드값을 리턴하는 함수이다.\n",
    "print(ord('a'),'a')"
   ]
  },
  {
   "cell_type": "code",
   "execution_count": null,
   "metadata": {},
   "outputs": [],
   "source": [
    "# pow\n",
    "\n",
    "# pow(x,y)는 x의 y제곱한 결과값을 리턴하는 함수이다.\n",
    "print(pow(2,4),2**4)\n",
    "print(pow(2,0.5),2**0.5)\n",
    "# ....? 왜쓰지...? ㅋㅋㅋㅋㅋㅋㅋㅋ"
   ]
  },
  {
   "cell_type": "code",
   "execution_count": null,
   "metadata": {},
   "outputs": [],
   "source": [
    "# range\n",
    "\n",
    "# range([start,] stop [,step])는 for문과 함께 자주 사용된다.\n",
    "# 입력받은 숫자에 해당되는 범위의 값을 반복 가능한 객체로 만들어 리턴한다.\n",
    "# start를 지정하지 않으면 0부터 stop값 미만까지 증가한다\n",
    "# step은 값의 증가범위를 말한다.\n",
    "\n",
    "# 인수 1\n",
    "print(list(range(5)))\n",
    "\n",
    "# 인수 2\n",
    "print(list(range(5,10)))\n",
    "\n",
    "# 인수 3\n",
    "print(list(range(1,10,2)))\n",
    "print(list(range(0,-10,-1)))"
   ]
  },
  {
   "cell_type": "code",
   "execution_count": null,
   "metadata": {},
   "outputs": [],
   "source": [
    "# sorted\n",
    "\n",
    "# sorted(iterable) 함수는 입력값을 정렬한 후 그 결과를 리스트로 리턴하는 함수이다.\n",
    "# list자료형 전용의 sort함수와 다른점은, 리스트 객체 그 자체를 정렬만 하고 결과를 리턴하지 않는다.\n",
    "a=[3,1,2]\n",
    "print(sorted(a))\n",
    "print(a)\n",
    "print(a.sort())\n",
    "print(a)\n",
    "# 역시 a,b,c와 한글도 가능하다"
   ]
  },
  {
   "cell_type": "code",
   "execution_count": null,
   "metadata": {},
   "outputs": [],
   "source": [
    "# str\n",
    "\n",
    "# str(object)은 문자열 형태로 객체를 변환하여 리턴하는 함수이다.\n",
    "print(type(str(3)))"
   ]
  },
  {
   "cell_type": "code",
   "execution_count": null,
   "metadata": {},
   "outputs": [],
   "source": [
    "# tuple\n",
    "\n",
    "# tuple(iterable)은 반복 가능한 자료형을 입력받아 튜플 형태로 바꾸어 리턴하는 함수이다.\n",
    "print(tuple(\"abc\"))"
   ]
  },
  {
   "cell_type": "code",
   "execution_count": null,
   "metadata": {},
   "outputs": [],
   "source": [
    "# type\n",
    "\n",
    "# type(object)은 입력값의 자료형이 무엇인지 알려주는 함수이다.\n",
    "print(type(\"a\"),type(1),type([1]),type((1,)),type(open(\"test\",'w')))"
   ]
  },
  {
   "cell_type": "code",
   "execution_count": null,
   "metadata": {},
   "outputs": [],
   "source": [
    "# zip\n",
    "\n",
    "# zip(iterable*)은 동일한 개수로 이루어진 자료형을 묶어 주는 역할을 하는 함수이다.\n",
    "print(list(zip(  [1,2,3]  ,  [4,5,6]  )))\n",
    "print(list(zip(  \"abc\"  ,  (1,2,3)  ,  [\"가\",\"나\",\"다\"]  )))"
   ]
  },
  {
   "cell_type": "markdown",
   "metadata": {},
   "source": [
    "### `외장 함수`"
   ]
  },
  {
   "cell_type": "markdown",
   "metadata": {},
   "source": [
    "#### import sys\n",
    "\n",
    "sys 모듈은 파이썬 인터프리터가 제공하는 변수들과 함수들을 직접 제어할 수 있게 해주는 모듈이다."
   ]
  },
  {
   "cell_type": "code",
   "execution_count": null,
   "metadata": {},
   "outputs": [],
   "source": [
    "# sys.argv\n",
    "\n",
    "# 파일을 실행시키면 파일명부터 시작해서 공백을 기준으로 sys.argv리스트의 요소가 된다.\n",
    "import sys\n",
    "print(sys.argv)\n"
   ]
  },
  {
   "cell_type": "code",
   "execution_count": null,
   "metadata": {},
   "outputs": [],
   "source": [
    "# sys.exit\n",
    "\n",
    "# sys.exit 는 대화형 인터프리터를 종료하는 것과 같은 기능을 한다.\n",
    "# 프로그램 파일 내에서 사용하면 프로그램을 중단시킨다.\n",
    "import sys\n",
    "print(\"전\")\n",
    "sys.exit()\n",
    "print(\"후\")"
   ]
  },
  {
   "cell_type": "code",
   "execution_count": null,
   "metadata": {},
   "outputs": [],
   "source": [
    "# sys.path\n",
    "\n",
    "# sys.path는 파이썬 모듈들이 저장되어 있는 위치를 나타낸다.\n",
    "import sys\n",
    "print(sys.path)\n",
    "# 추가로 ''는 현재 디렉터리래\n",
    "# 실행 시켜보면 리스트인거 보이지? sys.path.append(\"추가할 위치\")하면... 알지?"
   ]
  },
  {
   "cell_type": "markdown",
   "metadata": {},
   "source": [
    "#### pickle\n",
    "\n",
    "pickle은 객체의 형태를 그대로 유지하면서 파일에 저장하고 불러올 수 있게 하는 모듈이다."
   ]
  },
  {
   "cell_type": "code",
   "execution_count": null,
   "metadata": {},
   "outputs": [],
   "source": [
    "# pickle.dump   pickle.load\n",
    "\n",
    "# 딕셔너리(이외의 다른것도..) 객체를 파일에 저장할 수 있다.\n",
    "import pickle\n",
    "f = open(\"test.txt\",'wb')\n",
    "data = {1: 'python',2: 'you need'}\n",
    "pickle.dump(data, f)\n",
    "f.close()\n",
    "\n",
    "# 객체 상태 그대로 불러올 수 있다.\n",
    "f = open(\"test.txt\",'rb')\n",
    "data = pickle.load(f)\n",
    "print(data)"
   ]
  },
  {
   "cell_type": "markdown",
   "metadata": {},
   "source": [
    "#### OS\n",
    "\n",
    "OS 모듈은 환경 변수나 디렉터리, 파일 등의 OS 자원을 제어할 수 있게 해주는 모듈이다."
   ]
  },
  {
   "cell_type": "code",
   "execution_count": null,
   "metadata": {},
   "outputs": [],
   "source": [
    "# os.environ\n",
    "\n",
    "# 환경 변수가 뭔지 알지? 우리 전에 import경로 지정하면서 PYTHONPATH였나 그런게 환경 변수임 여기선 시스템에 대한거라서? PYTHONPATH안나와...\n",
    "# 근데 이 목록을 보여준대! 두근두근! 직접 해보자!\n",
    "import os\n",
    "a=list(os.environ)\n",
    "print(len(a))\n",
    "for i in range(10):\n",
    "    print(a[i])\n",
    "# 참고로 원래 딕셔너리야 뭔소린지알지? 딕셔너리에서 키 값만 지금 list에 넣었어.. \n",
    "# 아 PATH 환경 변수좀 볼까?\n",
    "print(os.environ['PATH'])"
   ]
  },
  {
   "cell_type": "code",
   "execution_count": null,
   "metadata": {},
   "outputs": [],
   "source": [
    "# os.chdir\n",
    "\n",
    "# 현재 디렉터리의 위치를 변경하는 함수\n",
    "# import os\n",
    "# os.chdir(\"D:\\\")\n",
    "# 근데 여기서 컴파일 하면 어케될지 몰라서 안했음... 쫄...."
   ]
  },
  {
   "cell_type": "code",
   "execution_count": null,
   "metadata": {},
   "outputs": [],
   "source": [
    "# os.getcwd\n",
    "\n",
    "# 현재 자신의 위치를 리턴\n",
    "import os\n",
    "print(os.getcwd())"
   ]
  },
  {
   "cell_type": "code",
   "execution_count": null,
   "metadata": {},
   "outputs": [],
   "source": [
    "# os.system\n",
    "\n",
    "# 시스템 자체의 프로그램이나 기타 명령어를 파이썬에서 호출 cls이런건가?\n",
    "import os\n",
    "os.system(\"dir\")\n",
    "# 커맨드 창 열고 이거 컴파일된거 실행시키면 dir 실행 될듯....."
   ]
  },
  {
   "cell_type": "code",
   "execution_count": null,
   "metadata": {},
   "outputs": [],
   "source": [
    "# os.popen\n",
    "\n",
    "# 시스템 명령어를 실행시킨 결과값을 읽기 모드 형태의 파일 객체로 리턴한다.\n",
    "import os\n",
    "f = os.popen(\"ls\")\n",
    "print(f.read())"
   ]
  },
  {
   "cell_type": "code",
   "execution_count": null,
   "metadata": {},
   "outputs": [],
   "source": [
    "# os.mkdir(디렉터리)  -  디렉터리를 생성한다.\n",
    "# os.rmdir(디렉터리)  -  디렉터리를 삭제한다. (단, 디렉터리가 비어 있어야 삭제가 가능하다.)\n",
    "# os.unlink(파일 이름)  -  파일을 지운다.\n",
    "# os.rename(src,dst)  -  src라는 이름의 파일을 dst라는 이름으로 바꾼다."
   ]
  },
  {
   "cell_type": "markdown",
   "metadata": {},
   "source": [
    "#### shutil\n",
    "\n",
    "shutil은 파일을 복사해 주는 파이썬 모듈이다."
   ]
  },
  {
   "cell_type": "code",
   "execution_count": null,
   "metadata": {},
   "outputs": [],
   "source": [
    "# shutil.copy(src,dst)\n",
    "\n",
    "# src라는 이름의 파일을 dst로 복사한다 dst가 디렉터리면 해당 디렉터리에 복사하고 동일한 파일이름이 있을 경우에는 덮어쓴다.\n",
    "# (원래는 파일의 내용을 dst파일로 복사하는 것이다.)\n",
    "import shutil\n",
    "shutil.copy(\"test.txt\",\"test2.txt\")"
   ]
  },
  {
   "cell_type": "markdown",
   "metadata": {},
   "source": [
    "#### glob\n",
    "\n",
    "파일을 읽고 쓰는 기능이 있는 프로그램을 만들 때 특정 디렉터리에 있는 파일 이름 모두를 알기위해 사용하는 모듈"
   ]
  },
  {
   "cell_type": "code",
   "execution_count": null,
   "metadata": {},
   "outputs": [],
   "source": [
    "# glob.glob\n",
    "\n",
    "# glob(pathname) 디렉터리 내의 파일들을 읽어서 리턴한다. *와 ? 등의 메타 문자를 써서 원하는 파일만 읽어 들일 수도 있다.\n",
    "import glob\n",
    "print(glob.glob(\"D:/u*\"))"
   ]
  },
  {
   "cell_type": "markdown",
   "metadata": {},
   "source": [
    "#### tempfile\n",
    "\n",
    "파일을 임시로 만들어서 사용할 때 쓰는 모듈이다."
   ]
  },
  {
   "cell_type": "code",
   "execution_count": null,
   "metadata": {},
   "outputs": [],
   "source": [
    "# tempfile.mktemp\n",
    "\n",
    "# tempfile.mktemp() 는 중복되지 않는 임시 파일의 이름을 무작위로 만들어서 리턴한다.\n",
    "import tempfile\n",
    "filename = tempfile.mktemp()\n",
    "filename\n",
    "# 어케쓰지.... ㅋㅋㅋ;"
   ]
  },
  {
   "cell_type": "code",
   "execution_count": null,
   "metadata": {},
   "outputs": [],
   "source": [
    "# tempfile.TemporaryFile\n",
    "\n",
    "# tempfile.TemporaryFile()은 임시 저장 공간으로 사용될 파일 객체를 리턴한다. 이 파일은 기본적으로 바이너리 쓰기 모드(wb)를 갖는다.\n",
    "# f.close()가 호출되면 이 파일 객체는 자동으로 사라진다.\n",
    "import tempfile\n",
    "f = tempfile.TemporaryFile()\n",
    "f.close()"
   ]
  },
  {
   "cell_type": "markdown",
   "metadata": {},
   "source": [
    "#### time\n",
    "\n",
    "이름과 같이 시간과 관련되어있다."
   ]
  },
  {
   "cell_type": "code",
   "execution_count": null,
   "metadata": {},
   "outputs": [],
   "source": [
    "# time.time\n",
    "\n",
    "# time.time()은 UTC(세계 표준시)를 이용하여 현재 시간을 실수 형태로 리턴하는 함수이다.\n",
    "# 1970년 1월 1일 0시 0분 0초를 기준으로 지난 시간을 초 단위로 리턴한다.\n",
    "import time\n",
    "print(time.time())"
   ]
  },
  {
   "cell_type": "code",
   "execution_count": null,
   "metadata": {},
   "outputs": [],
   "source": [
    "# time.localtime\n",
    "\n",
    "# time.localtime(time.time())식으로 사용하며, time.time()에 의해 반환된 실수값을 이용해서 보기쉽게 바꾸어주는 함수이다.\n",
    "import time\n",
    "print(time.localtime(time.time()))"
   ]
  },
  {
   "cell_type": "code",
   "execution_count": null,
   "metadata": {},
   "outputs": [],
   "source": [
    "# time.asctime\n",
    "\n",
    "# ㅋㅋㅋㅋㅋㅋㅋㅋㅋㅋㅋㅋㅋㅋㅋㅋㅋㅋㅋㅋㅋㅋㅋㅋㅋㅋㅋㅋㅋㅋ\n",
    "# time.localtime에 의해 반환된 튜플 형태의 값을 인수로 받아서 날짜와 시간을 더더더더더더더더더더더 알아보기 쉽게 리턴한다.\n",
    "import time\n",
    "print(time.asctime(time.localtime(time.time())))"
   ]
  },
  {
   "cell_type": "code",
   "execution_count": null,
   "metadata": {},
   "outputs": [],
   "source": [
    "# time.ctime\n",
    "\n",
    "# 아닠ㅋㅋㅋㅋㅋㅋㅋㅋㅋㅋㅋㅋㅋㅋㅋㅋㅋㅋㅋㅋㅋㅋ\n",
    "# 위의 긴 코드를 짧게 한 것이라고 생각하면 된다. 위의 코드는 중간에 조작할 수 있다면,\n",
    "# 이 것은 그냥  현재시간을 출력하기에 조작할 수 없다.\n",
    "import time\n",
    "print(time.ctime())"
   ]
  },
  {
   "cell_type": "code",
   "execution_count": null,
   "metadata": {},
   "outputs": [],
   "source": [
    "# time.strftime\n",
    "\n",
    "# time.strftime('출력할 형식 포맷 코드',time.localtime(time.time()))  와 같이 사용할 수 있으며,\n",
    "# 예제 없길래 내가 직접 짬~~\n",
    "import time\n",
    "def t(a):\n",
    "    a='%'+a\n",
    "    print(a,time.strftime(a,time.localtime(time.time())))\n",
    "\n",
    "list = ['a','A','b','B','c','d','H','I','j','m','M','p','S','U','w','W','x','X','Y','z','%','y']\n",
    "for i in list:\n",
    "    t(i)"
   ]
  },
  {
   "cell_type": "code",
   "execution_count": null,
   "metadata": {},
   "outputs": [],
   "source": [
    "# time.sleep\n",
    "\n",
    "# time.sleep(초) 인수로 받은 초 만큼 쉰다.\n",
    "# 루프문에서 많이 사용되며, 마프시간에 많이 썻지? ㅎㅎ\n",
    "import time\n",
    "for i in range(10):\n",
    "    print(i)\n",
    "    time.sleep(0.1)\n",
    "for i in range(10):\n",
    "    print(i)"
   ]
  },
  {
   "cell_type": "markdown",
   "metadata": {},
   "source": [
    "#### calendar\n",
    "\n",
    "달력을 볼 수 있다?!?!"
   ]
  },
  {
   "cell_type": "code",
   "execution_count": null,
   "metadata": {},
   "outputs": [],
   "source": [
    "# calendar.calendar\n",
    "\n",
    "# calendar.calendar(연도) 그 연도의 전체 달력을 볼 수 있다.\n",
    "import calendar\n",
    "print(calendar.calendar(2019))"
   ]
  },
  {
   "cell_type": "code",
   "execution_count": null,
   "metadata": {},
   "outputs": [],
   "source": [
    "# calendar.prcal\n",
    "\n",
    "# calendar.prcal(연도) calendar.calendar와 같다. 마지막에 None이 붙는거같다.\n",
    "import calendar\n",
    "print(calendar.prcal(2019))"
   ]
  },
  {
   "cell_type": "code",
   "execution_count": null,
   "metadata": {},
   "outputs": [],
   "source": [
    "# calendar.prmonth\n",
    "\n",
    "# calendar.prmonth(년,월) 찡긋 o.<\n",
    "import calendar\n",
    "print(calendar.prmonth(2019,4))"
   ]
  },
  {
   "cell_type": "code",
   "execution_count": null,
   "metadata": {},
   "outputs": [],
   "source": [
    "# calendar.weekday\n",
    "\n",
    "# calendar.weekday(년,월,일) 해당 날짜에 해당하는 요일 정보 리턴 0이 월요일 6이 일요일\n",
    "import calendar\n",
    "def a(b):\n",
    "    c = {0:'월요일',1:'화요일',2:'수요일',3:'목요일',4:'금요일',5:'토요일',6:'일요일'}\n",
    "    print(c[b])\n",
    "    d(b)\n",
    "def d(a):\n",
    "    print({0:'월요일',1:'화요일',2:'수요일',3:'목요일',4:'금요일',5:'토요일',6:'일요일'}.get(a))\n",
    "a(calendar.weekday(2019,4,13))"
   ]
  },
  {
   "cell_type": "code",
   "execution_count": null,
   "metadata": {},
   "outputs": [],
   "source": [
    "# calendar.monthrange\n",
    "\n",
    "# calendar.monthrange(년,월) 입력받은 달의 1일이 무슨 요일인지, 그 달의 마지막이 며칠인지를 튜플형태로 리턴한다.\n",
    "import calendar\n",
    "def a(b):return calendar.monthrange(2019,4)[b]\n",
    "print({0:'월요일',1:'화요일',2:'수요일',3:'목요일',4:'금요일',5:'토요일',6:'일요일'}.get(a(0)),str(a(1))+\"일\")"
   ]
  },
  {
   "cell_type": "markdown",
   "metadata": {},
   "source": [
    "#### random\n",
    "\n",
    "난수 발생 모듈"
   ]
  },
  {
   "cell_type": "code",
   "execution_count": null,
   "metadata": {},
   "outputs": [],
   "source": [
    "# random.random\n",
    "\n",
    "# random.random() 0.0에서 1.0 사이의 실수중에서 난수값을 리턴한다.\n",
    "import random\n",
    "print(random.random())"
   ]
  },
  {
   "cell_type": "code",
   "execution_count": null,
   "metadata": {},
   "outputs": [],
   "source": [
    "# random.randint\n",
    "\n",
    "# random.randint(s,e) s이상 e이하의 정수 중에서 난수값을 리턴한다.\n",
    "import random\n",
    "for i in range(10):\n",
    "    print(random.randint(1,2),end=' ')\n",
    "print('')\n",
    "# 자주쓰이는 코드 (중복되지않는 난수 발생) 내가 만듦~~~~\n",
    "import random\n",
    "def not_overlap_random(a,b):\n",
    "    list = [i for i in range(a,b+1)]\n",
    "    newlist=[]\n",
    "    while list:newlist.append(list.pop(random.randint(0,len(list)-1)))\n",
    "    return newlist\n",
    "print(not_overlap_random(1,4))"
   ]
  },
  {
   "cell_type": "code",
   "execution_count": null,
   "metadata": {},
   "outputs": [],
   "source": [
    "# random.choice\n",
    "\n",
    "# random.choice(iterable) 반복 가능한 몇몇자료형(리스트, 튜플, 문자열까지는 됐음)을 인수로 받아 그중 하나를 선택해 리턴한다.\n",
    "import random\n",
    "def not_overlap_random(a,b):\n",
    "    list = [i for i in range(a,b+1)]\n",
    "    newlist=[]\n",
    "    while list:newlist.append(list.pop(list.index(random.choice(list))))\n",
    "    return newlist\n",
    "print(not_overlap_random(1,4))"
   ]
  },
  {
   "cell_type": "code",
   "execution_count": null,
   "metadata": {},
   "outputs": [],
   "source": [
    "# random.shuffle\n",
    "\n",
    "# random.shuffle(list) 리스트를 인수로 받아 그 항목을 섞는다.\n",
    "import random\n",
    "def not_overlap_random(a,b):\n",
    "    list = [i for i in range(a,b+1)]\n",
    "    random.shuffle(list)\n",
    "    return list\n",
    "print(not_overlap_random(1,4))"
   ]
  },
  {
   "cell_type": "markdown",
   "metadata": {},
   "source": [
    "#### webbrowser\n",
    "\n",
    "자신의 시스템에서 사용하는 기본 웹 브라우저가 자동으로 실행되게 하는 모듈이다."
   ]
  },
  {
   "cell_type": "code",
   "execution_count": null,
   "metadata": {},
   "outputs": [],
   "source": [
    "# webbrowser.open\n",
    "\n",
    "# webbroser.open(URL) 해당 URF을 기본 웹 브라우저로 열어준다.\n",
    "# 웹 브라우저가 이미 실행중이면 입력 소로 이동한다. 아니라면 새 창으로 열어준다.\n",
    "import webbrowser\n",
    "webbrowser.open(\"http://google.com\")"
   ]
  },
  {
   "cell_type": "code",
   "execution_count": null,
   "metadata": {},
   "outputs": [],
   "source": [
    "# webbroser.open_new\n",
    "\n",
    "# webbroser.open_new(URF) 무조건 새창으로 열어준다.\n",
    "import webbrowser\n",
    "webbrowser.open_new(\"http://google.com\")"
   ]
  },
  {
   "cell_type": "markdown",
   "metadata": {},
   "source": [
    "#### threading\n",
    "\n",
    "컴퓨터에서 동작하고 있는 프로그램을 프로세스라고 한다.\n",
    "\n",
    "1개의 프로세스는 1을 1가지10000 하지10000\n",
    "\n",
    "스레드를 사용해 한 프로세스가 두가지 이상의 일을 동시에 할 수 있게 된다."
   ]
  },
  {
   "cell_type": "code",
   "execution_count": null,
   "metadata": {},
   "outputs": [],
   "source": [
    "# threading.Thread\n",
    "\n",
    "# threading.Thread(함수 이름, 함수의 입력 변수) 함수대신 클래스도 가능\n",
    "import threading\n",
    "import time\n",
    "\n",
    "def say(msg):\n",
    "    while True:\n",
    "        time.sleep(1)\n",
    "        print(msg)\n",
    "        \n",
    "for msg in ['you','need','python']:\n",
    "    t = threading.Thread(target=say,args=(msg,))\n",
    "    t.daemon = True                                 # 주 프로그램이 종료되는 순간 데몬 스레드도 함께 종료된다. 는데? 왜 안되지...\n",
    "    t.start()\n",
    "    \n",
    "for i in range(100):\n",
    "    time.sleep(0.1)\n",
    "    print(i)"
   ]
  },
  {
   "cell_type": "code",
   "execution_count": 1,
   "metadata": {},
   "outputs": [
    {
     "name": "stdout",
     "output_type": "stream",
     "text": [
      "0\n",
      "1\n",
      "2\n",
      "3\n",
      "4\n",
      "5\n",
      "6\n",
      "7\n",
      "8\n",
      "youpythonneed9\n",
      "\n",
      "\n",
      "\n",
      "10\n",
      "11\n",
      "12\n",
      "13\n",
      "14\n",
      "15\n",
      "16\n",
      "17\n",
      "18\n",
      "needpython\n",
      "\n",
      "you\n",
      "19\n",
      "20\n",
      "21\n",
      "22\n",
      "23\n",
      "24\n",
      "25\n",
      "26\n",
      "27\n",
      "28\n",
      "python\n",
      "youneed\n",
      "\n",
      "29\n",
      "30\n",
      "31\n",
      "32\n",
      "33\n",
      "34\n",
      "35\n",
      "36\n",
      "37\n",
      "38\n",
      "youpythonneed\n",
      "\n",
      "\n",
      "39\n",
      "40\n",
      "41\n",
      "42\n",
      "43\n",
      "44\n",
      "45\n",
      "46\n",
      "47\n",
      "48\n",
      "you\n",
      "needpython\n",
      "\n",
      "49\n",
      "50\n",
      "51\n",
      "52\n",
      "53\n",
      "54\n",
      "55\n",
      "56\n",
      "57\n",
      "58\n",
      "youpython\n",
      "\n",
      "need\n",
      "59\n",
      "60\n",
      "61\n",
      "62\n",
      "63\n",
      "64\n",
      "65\n",
      "66\n",
      "67\n",
      "68\n",
      "youpython\n",
      "\n",
      "need\n",
      "69\n",
      "70\n",
      "71\n",
      "72\n",
      "73\n",
      "74\n",
      "75\n",
      "76\n",
      "77\n",
      "78\n",
      "youpython\n",
      "\n",
      "need\n",
      "79\n",
      "80\n",
      "81\n",
      "82\n",
      "83\n",
      "84\n",
      "85\n",
      "86\n",
      "87\n",
      "88\n",
      "pythonyou\n",
      "\n",
      "need\n",
      "89\n",
      "90\n",
      "91\n",
      "92\n",
      "93\n",
      "94\n",
      "95\n",
      "96\n",
      "97\n",
      "98\n",
      "youpython\n",
      "\n",
      "need\n",
      "99\n",
      "youneedpython\n",
      "\n",
      "\n",
      "youpythonneed\n",
      "\n",
      "\n",
      "pythonyouneed\n",
      "\n",
      "\n",
      "needpython\n",
      "you\n",
      "\n"
     ]
    }
   ],
   "source": [
    "import threading\n",
    "import time\n",
    "\n",
    "class MyThread(threading.Thread):\n",
    "    def __init__(self,msg):\n",
    "        threading.Thread.__init__(self)\n",
    "        self.msg = msg\n",
    "        self.daemon = True\n",
    "        \n",
    "    def run(self):                          # 얘가 왜 자동실행이야...?\n",
    "        while True:\n",
    "            time.sleep(1)\n",
    "            print(self.msg)\n",
    "            \n",
    "for msg in ['you','need','python']:\n",
    "    t = MyThread(msg)\n",
    "    t.start()\n",
    "    \n",
    "for i in range(100):\n",
    "    time.sleep(0.1)\n",
    "    print(i)"
   ]
  },
  {
   "cell_type": "code",
   "execution_count": null,
   "metadata": {},
   "outputs": [],
   "source": []
  }
 ],
 "metadata": {
  "kernelspec": {
   "display_name": "Python 3",
   "language": "python",
   "name": "python3"
  },
  "language_info": {
   "codemirror_mode": {
    "name": "ipython",
    "version": 3
   },
   "file_extension": ".py",
   "mimetype": "text/x-python",
   "name": "python",
   "nbconvert_exporter": "python",
   "pygments_lexer": "ipython3",
   "version": "3.6.5"
  }
 },
 "nbformat": 4,
 "nbformat_minor": 2
}
