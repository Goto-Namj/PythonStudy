{
 "cells": [
  {
   "cell_type": "markdown",
   "metadata": {},
   "source": [
    "# Integer"
   ]
  },
  {
   "cell_type": "code",
   "execution_count": null,
   "metadata": {},
   "outputs": [],
   "source": [
    "a = 1\n",
    "print(type(a))"
   ]
  },
  {
   "cell_type": "markdown",
   "metadata": {},
   "source": [
    "# Floating-point"
   ]
  },
  {
   "cell_type": "code",
   "execution_count": null,
   "metadata": {},
   "outputs": [],
   "source": [
    "a = 1.0\n",
    "b = 1.0e-1  # = 1.0 * 10^-1\n",
    "c = 1.0E1  # = 1.0 * 10^1\n",
    "# e든 E든 똑같이 사용 가능하지만 보기 편하게 저렇게 둔다.\n",
    "print(type(a), b, c, sep='\\n')"
   ]
  },
  {
   "cell_type": "markdown",
   "metadata": {},
   "source": [
    "# Octal"
   ]
  },
  {
   "cell_type": "code",
   "execution_count": null,
   "metadata": {},
   "outputs": [],
   "source": [
    "a = 0o177    # 숫자 0 + 영어 대or소 문자 o, O\n",
    "print(a, type(a), oct(a), type(oct(a)), sep='   ')"
   ]
  },
  {
   "cell_type": "markdown",
   "metadata": {},
   "source": [
    "# Hexadecimal"
   ]
  },
  {
   "cell_type": "code",
   "execution_count": null,
   "metadata": {},
   "outputs": [],
   "source": [
    "a = 0x8ff    # 숫자 0 + 영어 대or소 문자 x,X\n",
    "print(a, type(a), hex(a), type(hex(a)), sep='   ')"
   ]
  },
  {
   "cell_type": "code",
   "execution_count": null,
   "metadata": {},
   "outputs": [],
   "source": [
    "# 사칙연산\n",
    "\n",
    "a = 5\n",
    "b = 3\n",
    "print(a+b, a-b, a*b, a**b, a/b, a//b, a%b, sep='\\n')\n",
    "# a**b는 a의 b제곱으로 b에 0이나 소수가 들어갈 수 있다.\n",
    "# a/b는 float형으로 값을 반환한다(무조건)"
   ]
  },
  {
   "cell_type": "markdown",
   "metadata": {},
   "source": [
    "# Iterable"
   ]
  },
  {
   "cell_type": "code",
   "execution_count": null,
   "metadata": {},
   "outputs": [],
   "source": [
    "# 반복 가능한 객체를 뜻한다.\n",
    "# list, dict, set, str, bytes, tuple, range 등이 있다\n",
    "\n",
    "# 더하고, 곱할 수 있다.\n",
    "\n",
    "string = \"문자열\"\n",
    "list = [\"list\"]\n",
    "add = \"더 할 거\"\n",
    "print(string*2+add, list*3+add.split(), sep = '\\n')\n",
    "tup=1,2\n",
    "tup.clear()\n",
    "print(tup)"
   ]
  },
  {
   "cell_type": "code",
   "execution_count": null,
   "metadata": {},
   "outputs": [],
   "source": [
    "# (element) in (iterable)\n",
    "\n",
    "string = \"가나다\"\n",
    "print('가' in string)\n",
    "print('라' in string)\n",
    "for i in string:\n",
    "    print(i)"
   ]
  },
  {
   "cell_type": "markdown",
   "metadata": {},
   "source": [
    "# String"
   ]
  },
  {
   "cell_type": "code",
   "execution_count": null,
   "metadata": {},
   "outputs": [],
   "source": [
    "# (string).split()\n",
    "\n",
    "print(\"a b c\".split()) # 문자열.split(나누는 기준) 나누는 기준의 초기값은 공백"
   ]
  },
  {
   "cell_type": "code",
   "execution_count": null,
   "metadata": {},
   "outputs": [],
   "source": [
    "# (string).format()\n",
    "\n",
    "print(\"{1} {name} {0}\".format(\"첫\",2,name=\"이름\"))"
   ]
  },
  {
   "cell_type": "code",
   "execution_count": null,
   "metadata": {},
   "outputs": [],
   "source": [
    "# 문자열과 리스트 더하고, 곱하기\n",
    "\n",
    "string=\"문자열 \"\n",
    "plus=\"더 할 거\"\n",
    "list=[\"리\",\"스\",\"트\"]\n",
    "print(string*2+plus,list*3+plus.split(),sep='\\n')"
   ]
  },
  {
   "cell_type": "markdown",
   "metadata": {},
   "source": [
    "# List"
   ]
  },
  {
   "cell_type": "code",
   "execution_count": null,
   "metadata": {},
   "outputs": [],
   "source": [
    "# 리스트 속 리스트\n",
    "\n",
    "list = [1,2,3]\n",
    "list[0]=[\"일\",\"이\",\"삼\"]\n",
    "print(list)"
   ]
  },
  {
   "cell_type": "code",
   "execution_count": null,
   "metadata": {},
   "outputs": [],
   "source": [
    "# 슬라이싱\n",
    "\n",
    "list = [1,2,3,4]\n",
    "print(list[1:3])     # 1이상 3미만\n",
    "\n",
    "list[1:1]=[1.5]     # 1이상 1미만인가? 아니, 1:0 해도 1 이후로 됨\n",
    "print(list)\n",
    "\n",
    "list[1:]=[10,20,30] # 1인덱스 부터 끝까지 다 저거로 바꿈 ( 더 많은 값이 있어도 사라짐! )\n",
    "print(list)\n",
    "\n",
    "ordinary_list=[0,1,2,3]\n",
    "un_ordinary_list=[-4,-3,-2,-1] # 인덱스 번호를 적어놨음\n",
    "print(ordinary_list[-3:3]) # 기존 것은 앞에서부터 0,1,2,3 이지만 -를 달면 뒤에서부터 -1부터 시작한다"
   ]
  },
  {
   "cell_type": "code",
   "execution_count": null,
   "metadata": {},
   "outputs": [],
   "source": [
    "# del (object)\n",
    "\n",
    "list1 = [1,2,3,4]\n",
    "del list1[1]\n",
    "print(list1)\n",
    "del list1   # 함수도 지울 수 있음!\n",
    "print(list1)"
   ]
  },
  {
   "cell_type": "code",
   "execution_count": null,
   "metadata": {},
   "outputs": [],
   "source": [
    "# (list).append((element))\n",
    "\n",
    "list=[1,2,3]\n",
    "list.append(4)\n",
    "print(list)\n",
    "\n",
    "list=[1,2,3]\n",
    "list.append([4])\n",
    "print(list)"
   ]
  },
  {
   "cell_type": "code",
   "execution_count": null,
   "metadata": {},
   "outputs": [],
   "source": [
    "# (list).index((element))\n",
    "\n",
    "list=['가','나','다','라']\n",
    "print(list.index('다'))"
   ]
  },
  {
   "cell_type": "code",
   "execution_count": null,
   "metadata": {},
   "outputs": [],
   "source": [
    "# (list).reverse()\n",
    "\n",
    "list = [1,2,3]\n",
    "list.reverse()\n",
    "print(list)"
   ]
  },
  {
   "cell_type": "code",
   "execution_count": null,
   "metadata": {},
   "outputs": [],
   "source": [
    "# (list).sort()\n",
    "\n",
    "list = ['다','가','라','나']\n",
    "list.sort()\n",
    "print(list)"
   ]
  },
  {
   "cell_type": "code",
   "execution_count": null,
   "metadata": {},
   "outputs": [],
   "source": [
    "# (list).insert((index),(element))\n",
    "\n",
    "list = [1,2,3,4]\n",
    "list.insert(1,1.5)\n",
    "print(list)"
   ]
  },
  {
   "cell_type": "code",
   "execution_count": null,
   "metadata": {},
   "outputs": [],
   "source": [
    "# (list).remove(element)\n",
    "\n",
    "list = [1,2,1,2]\n",
    "list.remove(2)  # 처음만나는 값만 지운다.\n",
    "print(list)"
   ]
  },
  {
   "cell_type": "code",
   "execution_count": null,
   "metadata": {},
   "outputs": [],
   "source": [
    "# (list).pop()\n",
    "\n",
    "list = [1,2,3,4]\n",
    "print(list.pop())\n",
    "print(list)\n",
    "print(list.pop())\n",
    "print(list)"
   ]
  },
  {
   "cell_type": "code",
   "execution_count": null,
   "metadata": {},
   "outputs": [],
   "source": [
    "# (list).count((element))\n",
    "\n",
    "list = [1,1,2,3,3,3,3,3]\n",
    "print(list.count(1))\n",
    "print(list.count(3))"
   ]
  },
  {
   "cell_type": "code",
   "execution_count": null,
   "metadata": {},
   "outputs": [],
   "source": [
    "# (list).extend((element))\n",
    "\n",
    "list=[1,2,3]\n",
    "list.append([4])\n",
    "print(list)\n",
    "\n",
    "list=[1,2,3]\n",
    "list.extend([4])\n",
    "print(list)"
   ]
  },
  {
   "cell_type": "markdown",
   "metadata": {},
   "source": [
    "# Tuple"
   ]
  },
  {
   "cell_type": "code",
   "execution_count": null,
   "metadata": {},
   "outputs": [],
   "source": [
    "# 튜플과 리스트의 차이\n",
    "\n",
    "list = [1,2,3]\n",
    "list[1] = -2     # 값 가변\n",
    "print(list)\n",
    "\n",
    "tuple = (1,2,3)\n",
    "tuple[1] = -2    # 값 불변이라서 오류 발생\n",
    "print(tuple)"
   ]
  },
  {
   "cell_type": "code",
   "execution_count": null,
   "metadata": {},
   "outputs": [],
   "source": [
    "# 어떤게 튜플일까?\n",
    "\n",
    "a = (1,2,3)\n",
    "b = 1,2,3\n",
    "c = 1,2,(-1,-2),3\n",
    "a1 = (1)\n",
    "a2 = 1,\n",
    "a3 = (1,)\n",
    "\n",
    "types = type(a),type(b),type(c),type(a1),type(a2),type(a3)\n",
    "print(types)\n",
    "# 참고로 튜플은 인덱싱, 슬라이싱, 더하기, 곱하기가 가능하다"
   ]
  },
  {
   "cell_type": "markdown",
   "metadata": {},
   "source": [
    "# Dictionary\n",
    "\n",
    "                      ≒ json"
   ]
  },
  {
   "cell_type": "code",
   "execution_count": null,
   "metadata": {},
   "outputs": [],
   "source": [
    "# 딕셔너리와 리스트의 차이\n",
    "\n",
    "dictionary = {'key':'value',3:5}\n",
    "dictionary['newkey'] = \"wow new value\"\n",
    "print(dictionary)\n",
    "print(dictionary['key'], dictionary[3])\n",
    "\n",
    "list = [1]\n",
    "list[1] = 2     # 리스트는 딕셔너리와 다르게 이런식으로 선언? 이 안된다\n",
    "print(list)\n",
    "\n",
    "# 리스트에서 list[0] 식으로 인덱스 번호를 이용해 인덱싱을 하지만 딕셔너리는 순서가 없는(unordered) 자료형 이므로 인덱싱을 할 수 없다."
   ]
  },
  {
   "cell_type": "code",
   "execution_count": null,
   "metadata": {},
   "outputs": [],
   "source": [
    "# .clear()\n",
    "# list와 dictionary가 사용가능한 함수\n",
    "\n",
    "list=['1']\n",
    "dictionary={1:1,2:2}\n",
    "print(list,dictionary, sep='\\n')\n",
    "\n",
    "list.clear()\n",
    "dictionary.clear()\n",
    "print(list,dictionary, sep='\\n')"
   ]
  },
  {
   "cell_type": "code",
   "execution_count": null,
   "metadata": {},
   "outputs": [],
   "source": [
    "# 딕셔너리 속 리스트와 딕셔너리\n",
    "\n",
    "dict = {1:1}\n",
    "\n",
    "dict[2] = ['가','나']      # 딕셔너리 속 리스트\n",
    "print(dict[1],dict[2][0])\n",
    "\n",
    "dict['삼'] = {\"딕\":\"셔너리\",\"짱\":[1,2,3]}\n",
    "print(dict['삼']['짱'][1])"
   ]
  },
  {
   "cell_type": "code",
   "execution_count": null,
   "metadata": {},
   "outputs": [],
   "source": [
    "# (dictionary).get((key value))\n",
    "\n",
    "dict = {'names':'남진명'}\n",
    "list = 'asdf'\n",
    "print(dict.get('names'))\n",
    "print(dict['names'])\n",
    "print(dict.get('없는값'))\n",
    "print(dict.get('없는값2','noooooo'))"
   ]
  },
  {
   "cell_type": "code",
   "execution_count": null,
   "metadata": {},
   "outputs": [],
   "source": [
    "# (dictionary).keys()\n",
    "# (dictionary).values()\n",
    "# (dictionary).items()\n",
    "\n",
    "dict = { 1:'김경선' , '2':'김범선' , 3:['김','성','준'] , '사':'이것저것' }\n",
    "print(dict.keys() , dict.values() , dict.items() , sep='\\n')     # dict_keys 타입과 dict_values 타입 dict_items 타입을 리턴"
   ]
  },
  {
   "cell_type": "markdown",
   "metadata": {},
   "source": [
    "# Set"
   ]
  },
  {
   "cell_type": "code",
   "execution_count": null,
   "metadata": {},
   "outputs": [],
   "source": [
    "# set 자료형의 특징\n",
    "\n",
    "# 1. 순서가 없다.(unordered)\n",
    "# 2. 중복을 허용하지 않는다.\n",
    "\n",
    "s1 = set([2,4,1,3])\n",
    "s2 = set(\"나라가다\")\n",
    "s3 = {\"hello\"}\n",
    "s4 = {-2,0,-3,-1}\n",
    "print(s1, s2, s3, s4)\n",
    "\n",
    "# 순서가 없으므로, 딕셔너리와 같이 인덱싱을 할 수 없다. 인덱싱을 하기 위해서는\n",
    "try :del list              # 기존에 리스트를 사용했으면 리스트를 원래의 함수형태로 돌리기 위해 쓴 코드~\n",
    "except:pass\n",
    "s2 = list(s2)\n",
    "print(s2[1])\n",
    "print(s1[1])    # set형태이므로, 인덱싱 오류뜸!"
   ]
  },
  {
   "cell_type": "code",
   "execution_count": null,
   "metadata": {},
   "outputs": [],
   "source": [
    "# (set)&(set)\n",
    "# (set).intersection((set))\n",
    "\n",
    "# 교집합 이다.\n",
    "\n",
    "s1 = set([1, 2, 3, 4, 5, 6])\n",
    "s2 = set([4, 5, 6, 7, 8, 9])\n",
    "print(s1&s2)\n",
    "print(s1.intersection(s2))"
   ]
  },
  {
   "cell_type": "code",
   "execution_count": null,
   "metadata": {},
   "outputs": [],
   "source": [
    "# (set)|(set)\n",
    "# (set).union((set))\n",
    "# 합집합이다.\n",
    "\n",
    "s1 = set([1, 2, 3, 4, 5, 6])\n",
    "s2 = set([4, 5, 6, 7, 8, 9])\n",
    "print(s1|s2)\n",
    "print(s1.union(s2))"
   ]
  },
  {
   "cell_type": "code",
   "execution_count": null,
   "metadata": {},
   "outputs": [],
   "source": [
    "# (set)-(set)\n",
    "# (set).difference((set))\n",
    "# 차집합이다.\n",
    "\n",
    "s1 = set([1, 2, 3, 4, 5, 6])\n",
    "s2 = set([4, 5, 6, 7, 8, 9])\n",
    "print(s1-s2)\n",
    "print(s2-s1)\n",
    "print(s1.difference(s2))\n",
    "print(s2.difference(s1))"
   ]
  },
  {
   "cell_type": "code",
   "execution_count": null,
   "metadata": {},
   "outputs": [],
   "source": [
    "# (set).add((element))\n",
    "# set에 한 값만 추가할 경우 사용한다.\n",
    "\n",
    "s1 = set([1, 2, 3])\n",
    "s1.add(4)\n",
    "print(s1)"
   ]
  },
  {
   "cell_type": "code",
   "execution_count": null,
   "metadata": {},
   "outputs": [],
   "source": [
    "# (set).update((element))\n",
    "# set에 여러 값을 추가할 경우 사용한다.\n",
    "\n",
    "s1 = set([1, 2, 3])\n",
    "s1.update([4, 5, 6])\n",
    "print(s1)"
   ]
  },
  {
   "cell_type": "code",
   "execution_count": null,
   "metadata": {},
   "outputs": [],
   "source": [
    "# (set).remove((element))\n",
    "# 특정 값을 제거할 때 사용한다.\n",
    "\n",
    "s1 = set([1, 2, 3])\n",
    "s1.remove(2)\n",
    "print(s1)"
   ]
  },
  {
   "cell_type": "markdown",
   "metadata": {},
   "source": [
    "# Bool"
   ]
  },
  {
   "cell_type": "code",
   "execution_count": null,
   "metadata": {},
   "outputs": [],
   "source": [
    "# True와 False 두 값만 존재한다.\n",
    "\n",
    "print(1 == 1) # 과 같은 식은 불 자료형을 리턴한다.\n",
    "print(bool(0)) # 숫자는 0만, 다른 자료형은 빈 자료형만 False 를 리턴한다. None도 False이다.\n",
    "print(not bool(0))\n",
    "print(0 is False)"
   ]
  },
  {
   "cell_type": "markdown",
   "metadata": {},
   "source": [
    "# Variable"
   ]
  },
  {
   "cell_type": "code",
   "execution_count": null,
   "metadata": {},
   "outputs": [],
   "source": [
    "# 지금까지 모든 자료형을 a, b, s1 등의 변수에 담았다.\n",
    "a = 1\n",
    "b = a\n",
    "print(id(a), id(b), sep='\\n')\n",
    "print(a is b, b is 1, sep='\\n')\n",
    "\n",
    "a = 3\n",
    "print(a,b) # 읭? 안바끼네?\n",
    "\n",
    "a = [1,2,3]\n",
    "b = a\n",
    "a[1] = 4\n",
    "print(b) # 읭? 바꼈내\n",
    "\n",
    "a = [1,2,3]\n",
    "b = a[:]  # 슬라이싱임 a 리스트 전체를 말함\n",
    "a[1] = 4\n",
    "print(b) # 안바뀔만해 끄덕끄덕\n",
    "print(id(a),id(b))"
   ]
  },
  {
   "cell_type": "markdown",
   "metadata": {},
   "source": [
    "# 궁금한 점\n",
    "\n",
    "파이썬의 a=1 b=a 는 포인터로 a를 가리키는 것으로 보인다. 즉 포인터 같다. id()로 비교해도 같은 값이다.\n",
    "\n",
    "그런데 a를 바꾼다고 b가 바뀌지는 않는다. 즉 포인터로 a를 가리키는 것이 아니다.\n",
    "\n",
    "그렇다면 id()로 알아낸게 의미가 있을까? 내생각에는 없는것 같다...... ㅠㅠ 내 머리의 한계...\n",
    "\n",
    "    - (a==b) == (id(a)==id(b)) 같은 경우에서도 항상 True 상태이니까...\n",
    "    \n",
    "    - 같은 값이지만 다른 id를 가리키는 경우는 없는가 햇따..\n",
    "\n",
    "is를 보자 is로 전부 비교해 봤다. a=1 b=a 비교, a=[1,2,3] b=a 비교 해봤는데 같다. id()값도 같다.\n",
    "\n",
    "그런데, a=1 b=a 경우에는 a값을 바꿔도 b값이 바뀌지 않는다.\n",
    "\n",
    "나는 처음에 id를 보고 아! 컴퓨터에서는 1을 선언하면 컴퓨터속 데이터 저장하는 공간에 1공간을 만들고 1을 가르키는 것을 포인터? 로 이어주나보다.\n",
    "\n",
    "그리고 이후에 b=a[:] 를 보며 같은 값이 컴퓨터 속에 여러개 저장되어 있을 수가 있나보구나! 했다.\n",
    "\n",
    "    - 같은 값이지만 다른 id를 가리키는 경우가 생겼다!\n",
    "\n",
    "그래서 [1,2,3]리스트를 일부 수정하면 [1,2,3]틀이 [1,4,3]으로 바뀌어서 가리키는게 변함이 없지만 a=1 에서 1을 3으로 바꾸면 3이 생기고, 3을 가리킨다고 생각이 든다.\n",
    "\n",
    "그렇다면 a=1, b=a 경우에서도 잘 수정이 되도록, 포인터를 사용할 수는 없을까? 생각이 들어 검색해봤더니 없다고한다...\n",
    "\n",
    "그렇지만 새로운 것을 알게 되었다. is는 비교연산자 이지만, 변수의 값을 비교하는 것이 아니라고\n",
    "\n",
    "Python은 자주 쓰이는 값이 미리 정의되어 있다. 즉, 위에서 숫자 1이나 문자열 \"123\" 은 자주 쓰이는 데이터다. 이런 데이터는 이미 메모리상에 고정되어서 저장되어 있고 프로그래머가 이 데이터를 이용하려 할 때 새로운 데이터 공간이 할당되는게 아니라 미리 할당되어 있는 '자주 쓰이는 데이터가 저장된 공간'의 포인터를 매칭시키게 된다.\n",
    "\n",
    "라는 말이 있다.\n",
    "\n",
    "a=1\n",
    "\n",
    "b=1111\n",
    "\n",
    "a is 1 != b is 1111\n",
    "\n",
    "True\n",
    "\n",
    "라는 말이다."
   ]
  },
  {
   "cell_type": "markdown",
   "metadata": {},
   "source": [
    "---"
   ]
  },
  {
   "cell_type": "markdown",
   "metadata": {},
   "source": [
    "# Function"
   ]
  },
  {
   "cell_type": "markdown",
   "metadata": {},
   "source": [
    "#### 함수의 입력"
   ]
  },
  {
   "cell_type": "code",
   "execution_count": 39,
   "metadata": {},
   "outputs": [
    {
     "name": "stdout",
     "output_type": "stream",
     "text": [
      "<class 'tuple'> (1, '2', '삼', 4)\n",
      "1 그리고 ('2', '삼', 4)\n",
      "에러발생\n",
      "(1, '2', '삼', 4) 그리고 5\n",
      "(1, 2, 3) 그리고 1 그리고 2 그리고 3 그리고 [1, 2, 3] 그리고 1 그리고 2 그리고 3\n"
     ]
    }
   ],
   "source": [
    "# *(variable)\n",
    "\n",
    "def a(*many):\n",
    "    print(type(many),many)\n",
    "a(1,\"2\",\"삼\",4)\n",
    "\n",
    "\n",
    "def a(one,*many):\n",
    "    print(one,many,sep=' 그리고 ')\n",
    "a(1,\"2\",\"삼\",4)\n",
    "\n",
    "\n",
    "def a(*many,one):                       # *(변수) 이후에 또 다른 변수가 오면 에러가 발생한다.\n",
    "    print(many,one,sep=' 그리고 ')        # *은 입력 받는대로 모두 받기에 이후에 오는 변수는 값을 할당받지 못한다.\n",
    "try:a(1,\"2\",\"삼\",4)\n",
    "except:print(\"에러발생\")\n",
    "    \n",
    "    \n",
    "def a(*many,one=5):                     # 하지만 뒤의 변수에 초기값을 설정하면 외부?에서 입력받을 필요가 없어 에러가 발생하지 않는다.\n",
    "    print(many,one,sep=' 그리고 ')         # 변수의 초기값을 설정할 경우 *과는 다르게 맨 뒤에 둬야 오류가 생기지 않는다.\n",
    "a(1,\"2\",\"삼\",4)                         # 입력받을 필요가 없다곤 했지만, 입력받을 수 있다.\n",
    "\n",
    "\n",
    "# *은 각각의 요소를 뜻한다. 즉\n",
    "a = 1,2,3\n",
    "print(a, *a, list(a), *list(a), sep=' 그리고 ')   # 여기서 *a 는 사실상 1,2,3이다.\n",
    "# 과 같이 반복되는 자료형들의 각각의 요소를 뜻한다."
   ]
  },
  {
   "cell_type": "code",
   "execution_count": null,
   "metadata": {},
   "outputs": [],
   "source": [
    "# global (variable)\n",
    "\n",
    "a=3\n",
    "def glb(t):\n",
    "    global a\n",
    "    a+=t**2\n",
    "glb(2)\n",
    "print(a,'\\n')\n",
    "\n",
    "a=3\n",
    "def stdd(t):\n",
    "    return t**2\n",
    "a+=stdd(2)\n",
    "print(a,'\\n')"
   ]
  },
  {
   "cell_type": "code",
   "execution_count": 25,
   "metadata": {},
   "outputs": [
    {
     "name": "stdout",
     "output_type": "stream",
     "text": [
      "[7, 12]\n",
      "(7, 12)\n"
     ]
    }
   ],
   "source": [
    "# return\n",
    "\n",
    "def f1(a,b):\n",
    "    return [a+b,a*b]\n",
    "def f2(a,b):\n",
    "    return a+b,a*b\n",
    "print(f1(3,4), f2(3,4), sep='\\n')"
   ]
  },
  {
   "cell_type": "markdown",
   "metadata": {},
   "source": [
    "# File r/w"
   ]
  },
  {
   "cell_type": "code",
   "execution_count": null,
   "metadata": {},
   "outputs": [],
   "source": [
    "# r 읽기모드 - 파일을 읽기만 할 때 사용\n",
    "# w 쓰기모드 - 파일에 내용을 쓸 때 사용 (기존 내용 삭제)\n",
    "# a 추가모드 - 파일의 마지막에 새로운 내용을 추가할 때 사용\n",
    "# 파일이 프로그램을 실행한 디렉터리에 생성된다.\n",
    "# 프로그램 실행 디렉터리가 아닌, 지정한 경로에 생성, 파일열기를 원한다면 f = open(\"D:/bb/새파일.txt\",'w')와 같이 하면 된다.\n",
    "f = open(\"새파일.txt\",'w')\n",
    "f.write(\"걁\\n\")\n",
    "print(f.readline())   # readline()은 반복 할 때 마다 다음줄로 계속 넘어간다.\n",
    "print(f.readlines())  # readlines()는 싹다 읽어서 리스트를 반환한다.\n",
    "print(f.read())       # read()는 싹다 읽어서 모습 그대로? 반환한다.\n",
    "f.close()\n",
    "\n",
    "with open(\"새파일.txt\",'w') as f:     # with문을 빠져나올 시 열었던 파일이 닫힌다.(f.close())\n",
    "    f.write(\"with문 신기해\")\n",
    "    "
   ]
  },
  {
   "cell_type": "markdown",
   "metadata": {},
   "source": [
    "# in"
   ]
  },
  {
   "cell_type": "code",
   "execution_count": 48,
   "metadata": {},
   "outputs": [
    {
     "name": "stdout",
     "output_type": "stream",
     "text": [
      "3\n",
      "1 1\n",
      "2 2\n",
      "3 2\n"
     ]
    }
   ],
   "source": [
    "str=\"789\"\n",
    "list=[(1,1),(2,2),(3,3)]\n",
    "\n",
    "if \"7\" in str:\n",
    "    print(\"3\")"
   ]
  },
  {
   "cell_type": "markdown",
   "metadata": {},
   "source": [
    "# for"
   ]
  },
  {
   "cell_type": "code",
   "execution_count": 54,
   "metadata": {},
   "outputs": [
    {
     "name": "stdout",
     "output_type": "stream",
     "text": [
      "1 1\n",
      "2 2\n",
      "3 3\n",
      "[0, 6, 12, 18]\n",
      "\n",
      "그리고\n",
      "\n",
      "[1, 2, 3, 4, 5, 6, 7, 8, 9, 10, 2, 4, 6, 8, 10, 12, 14, 16, 18, 20, 3, 6, 9, 12, 15, 18, 21, 24, 27, 30, 4, 8, 12, 16, 20, 24, 28, 32, 36, 40, 5, 10, 15, 20, 25, 30, 35, 40, 45, 50, 6, 12, 18, 24, 30, 36, 42, 48, 54, 60, 7, 14, 21, 28, 35, 42, 49, 56, 63, 70, 8, 16, 24, 32, 40, 48, 56, 64, 72, 80, 9, 18, 27, 36, 45, 54, 63, 72, 81, 90, 10, 20, 30, 40, 50, 60, 70, 80, 90, 100]\n"
     ]
    }
   ],
   "source": [
    "list=[(1,1),(2,2),(3,3)]\n",
    "\n",
    "for (a,b) in list:\n",
    "    print(a,b)\n",
    "    \n",
    "# 리스트 내포\n",
    "# for문 앞에 변수의 증가량을 조정할수 있고, 뒤에 if문을 넣을 수 있다.\n",
    "# n중 for문도 가능 :를 안쓴다\n",
    "lt = [a*2 for a in range(12) if a%3==0]\n",
    "print(lt)\n",
    "\n",
    "print(\"\\n그리고\\n\")\n",
    "\n",
    "lt = [x*y for x in range(1,11)for y in range(1,11)]\n",
    "print(lt)\n",
    "# [표현식 for 항목 in 반복 가능 객체 if 조건]"
   ]
  },
  {
   "cell_type": "markdown",
   "metadata": {},
   "source": [
    "# pass"
   ]
  },
  {
   "cell_type": "code",
   "execution_count": 45,
   "metadata": {},
   "outputs": [],
   "source": [
    "if 1:\n",
    "    pass     # 그냥 지나간다는 뜻\n",
    "else:\n",
    "    print('1')"
   ]
  },
  {
   "cell_type": "markdown",
   "metadata": {},
   "source": [
    "# class"
   ]
  },
  {
   "cell_type": "code",
   "execution_count": 81,
   "metadata": {},
   "outputs": [
    {
     "name": "stdout",
     "output_type": "stream",
     "text": [
      "오예\n",
      "2019\n",
      "579\n",
      "<class '__main__.classname'>\n",
      "3\n",
      "65536\n",
      "<__main__.classname object at 0x000001EF5C663550>\n",
      "65536\n"
     ]
    }
   ],
   "source": [
    "# 선언\n",
    "\n",
    "class classname:\n",
    "    element=2019\n",
    "    print(\"오예\")    # 얘 그냥 지혼자 바로실행\n",
    "    def every(a,b):\n",
    "        return a+b\n",
    "    \n",
    "    \n",
    "    def function(first,second):\n",
    "        print(type(first))\n",
    "        #if type(first)=='__main__.classname':\n",
    "        first.any=second**2**2**2\n",
    "        return second+1\n",
    "    \n",
    "    def print_(first):\n",
    "        if first.any:\n",
    "            return first.any\n",
    "        else:\n",
    "            return first\n",
    "        \n",
    "        \n",
    "# 사용 1\n",
    "\n",
    "print(classname.element)\n",
    "print(classname.every(123,456))\n",
    "\n",
    "\n",
    "# 사용 2\n",
    "c=classname()\n",
    "print(c.function(2))\n",
    "print(c.print_())\n",
    "print(c)\n",
    "print(c.any)"
   ]
  },
  {
   "cell_type": "code",
   "execution_count": null,
   "metadata": {},
   "outputs": [],
   "source": []
  }
 ],
 "metadata": {
  "kernelspec": {
   "display_name": "Python 3",
   "language": "python",
   "name": "python3"
  },
  "language_info": {
   "codemirror_mode": {
    "name": "ipython",
    "version": 3
   },
   "file_extension": ".py",
   "mimetype": "text/x-python",
   "name": "python",
   "nbconvert_exporter": "python",
   "pygments_lexer": "ipython3",
   "version": "3.7.1"
  }
 },
 "nbformat": 4,
 "nbformat_minor": 2
}
