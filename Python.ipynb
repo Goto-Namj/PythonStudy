{
 "cells": [
  {
   "cell_type": "markdown",
   "metadata": {},
   "source": [
    "# Integer"
   ]
  },
  {
   "cell_type": "code",
   "execution_count": null,
   "metadata": {},
   "outputs": [],
   "source": [
    "a = 1\n",
    "print(type(a))"
   ]
  },
  {
   "cell_type": "markdown",
   "metadata": {},
   "source": [
    "# Floating-point"
   ]
  },
  {
   "cell_type": "code",
   "execution_count": null,
   "metadata": {},
   "outputs": [],
   "source": [
    "a = 1.0\n",
    "b = 1.0e-1  # = 1.0 * 10^-1\n",
    "c = 1.0E1  # = 1.0 * 10^1\n",
    "# e든 E든 똑같이 사용 가능하지만 보기 편하게 저렇게 둔다.\n",
    "print(type(a), b, c, sep='\\n')"
   ]
  },
  {
   "cell_type": "markdown",
   "metadata": {},
   "source": [
    "# Octal"
   ]
  },
  {
   "cell_type": "code",
   "execution_count": null,
   "metadata": {},
   "outputs": [],
   "source": [
    "a = 0o177    # 숫자 0 + 영어 대or소 문자 o, O\n",
    "print(a, type(a), oct(a), type(oct(a)), sep='   ')"
   ]
  },
  {
   "cell_type": "markdown",
   "metadata": {},
   "source": [
    "# Hexadecimal"
   ]
  },
  {
   "cell_type": "code",
   "execution_count": null,
   "metadata": {},
   "outputs": [],
   "source": [
    "a = 0x8ff    # 숫자 0 + 영어 대or소 문자 x,X\n",
    "print(a, type(a), hex(a), type(hex(a)), sep='   ')"
   ]
  },
  {
   "cell_type": "code",
   "execution_count": null,
   "metadata": {},
   "outputs": [],
   "source": [
    "# 사칙연산\n",
    "\n",
    "a = 5\n",
    "b = 3\n",
    "print(a+b, a-b, a*b, a**b, a/b, a//b, a%b, sep='\\n')\n",
    "# a**b는 a의 b제곱으로 b에 0이나 소수가 들어갈 수 있다.\n",
    "# a/b는 float형으로 값을 반환한다(무조건)"
   ]
  },
  {
   "cell_type": "markdown",
   "metadata": {},
   "source": [
    "# Iterable"
   ]
  },
  {
   "cell_type": "code",
   "execution_count": null,
   "metadata": {},
   "outputs": [],
   "source": [
    "# 반복 가능한 객체를 뜻한다.\n",
    "# list, dict, set, str, bytes, tuple, range 등이 있다\n",
    "\n",
    "# 더하고, 곱할 수 있다.\n",
    "\n",
    "string = \"문자열\"\n",
    "list = [\"list\"]\n",
    "add = \"더 할 거\"\n",
    "print(string*2+add, list*3+add.split(), sep = '\\n')\n",
    "tup=1,2\n",
    "tup.clear()\n",
    "print(tup)"
   ]
  },
  {
   "cell_type": "code",
   "execution_count": 2,
   "metadata": {},
   "outputs": [
    {
     "name": "stdout",
     "output_type": "stream",
     "text": [
      "True\n",
      "False\n",
      "가\n",
      "나\n",
      "다\n"
     ]
    }
   ],
   "source": [
    "# (element) in (iterable)\n",
    "\n",
    "string = \"가나다\"\n",
    "print('가' in string)\n",
    "print('라' in string)\n",
    "for i in string:\n",
    "    print(i)"
   ]
  },
  {
   "cell_type": "markdown",
   "metadata": {},
   "source": [
    "# String"
   ]
  },
  {
   "cell_type": "code",
   "execution_count": null,
   "metadata": {},
   "outputs": [],
   "source": [
    "# (string).split()\n",
    "\n",
    "print(\"a b c\".split()) # 문자열.split(나누는 기준) 나누는 기준의 초기값은 공백"
   ]
  },
  {
   "cell_type": "code",
   "execution_count": null,
   "metadata": {},
   "outputs": [],
   "source": [
    "# (string).format()\n",
    "\n",
    "print(\"{1} {name} {0}\".format(\"첫\",2,name=\"이름\"))"
   ]
  },
  {
   "cell_type": "code",
   "execution_count": null,
   "metadata": {},
   "outputs": [],
   "source": [
    "# 문자열과 리스트 더하고, 곱하기\n",
    "\n",
    "string=\"문자열 \"\n",
    "plus=\"더 할 거\"\n",
    "list=[\"리\",\"스\",\"트\"]\n",
    "print(string*2+plus,list*3+plus.split(),sep='\\n')"
   ]
  },
  {
   "cell_type": "markdown",
   "metadata": {},
   "source": [
    "# List"
   ]
  },
  {
   "cell_type": "code",
   "execution_count": 1,
   "metadata": {},
   "outputs": [
    {
     "name": "stdout",
     "output_type": "stream",
     "text": [
      "[['일', '이', '삼'], 2, 3]\n"
     ]
    }
   ],
   "source": [
    "# 리스트 속 리스트\n",
    "\n",
    "list = [1,2,3]\n",
    "list[0]=[\"일\",\"이\",\"삼\"]\n",
    "print(list)"
   ]
  },
  {
   "cell_type": "code",
   "execution_count": null,
   "metadata": {},
   "outputs": [],
   "source": [
    "# 슬라이싱\n",
    "\n",
    "list = [1,2,3,4]\n",
    "print(list[1:3])     # 1이상 3미만\n",
    "\n",
    "list[1:1]=[1.5]     # 1이상 1미만인가? 아니, 1:0 해도 1 이후로 됨\n",
    "print(list)\n",
    "\n",
    "list[1:]=[10,20,30] # 1인덱스 부터 끝까지 다 저거로 바꿈 ( 더 많은 값이 있어도 사라짐! )\n",
    "print(list)\n",
    "\n",
    "ordinary_list=[0,1,2,3]\n",
    "un_ordinary_list=[-4,-3,-2,-1] # 인덱스 번호를 적어놨음\n",
    "print(ordinary_list[-3:3]) # 기존 것은 앞에서부터 0,1,2,3 이지만 -를 달면 뒤에서부터 -1부터 시작한다"
   ]
  },
  {
   "cell_type": "code",
   "execution_count": null,
   "metadata": {},
   "outputs": [],
   "source": [
    "# del (object)\n",
    "\n",
    "list1 = [1,2,3,4]\n",
    "del list1[1]\n",
    "print(list1)\n",
    "del list1   # 함수도 지울 수 있음!\n",
    "print(list1)"
   ]
  },
  {
   "cell_type": "code",
   "execution_count": 5,
   "metadata": {},
   "outputs": [
    {
     "name": "stdout",
     "output_type": "stream",
     "text": [
      "[1, 2, 3, 4]\n",
      "[1, 2, 3, [4]]\n"
     ]
    }
   ],
   "source": [
    "# (list).append((element))\n",
    "\n",
    "list=[1,2,3]\n",
    "list.append(4)\n",
    "print(list)\n",
    "\n",
    "list=[1,2,3]\n",
    "list.append([4])\n",
    "print(list)"
   ]
  },
  {
   "cell_type": "code",
   "execution_count": 4,
   "metadata": {},
   "outputs": [
    {
     "name": "stdout",
     "output_type": "stream",
     "text": [
      "2\n"
     ]
    }
   ],
   "source": [
    "# (list).index((element))\n",
    "\n",
    "list=['가','나','다','라']\n",
    "print(list.index('다'))"
   ]
  },
  {
   "cell_type": "code",
   "execution_count": 3,
   "metadata": {},
   "outputs": [
    {
     "name": "stdout",
     "output_type": "stream",
     "text": [
      "[3, 2, 1]\n"
     ]
    }
   ],
   "source": [
    "# (list).reverse()\n",
    "\n",
    "list = [1,2,3]\n",
    "list.reverse()\n",
    "print(list)"
   ]
  },
  {
   "cell_type": "code",
   "execution_count": 10,
   "metadata": {},
   "outputs": [
    {
     "name": "stdout",
     "output_type": "stream",
     "text": [
      "['가', '나', '다', '라']\n"
     ]
    }
   ],
   "source": [
    "# (list).sort()\n",
    "\n",
    "list = ['다','가','라','나']\n",
    "list.sort()\n",
    "print(list)"
   ]
  },
  {
   "cell_type": "code",
   "execution_count": 8,
   "metadata": {},
   "outputs": [
    {
     "name": "stdout",
     "output_type": "stream",
     "text": [
      "[1, 1.5, 2, 3, 4]\n"
     ]
    }
   ],
   "source": [
    "# (list).insert((index),(element))\n",
    "\n",
    "list = [1,2,3,4]\n",
    "list.insert(1,1.5)\n",
    "print(list)"
   ]
  },
  {
   "cell_type": "code",
   "execution_count": null,
   "metadata": {},
   "outputs": [],
   "source": [
    "# (list).remove(element)\n",
    "\n",
    "list = [1,2,1,2]\n",
    "list.remove(2)  # 처음만나는 값만 지운다.\n",
    "print(list)"
   ]
  },
  {
   "cell_type": "code",
   "execution_count": null,
   "metadata": {},
   "outputs": [],
   "source": [
    "# (list).pop()\n",
    "\n",
    "list = [1,2,3,4]\n",
    "print(list.pop())\n",
    "print(list)\n",
    "print(list.pop())\n",
    "print(list)"
   ]
  },
  {
   "cell_type": "code",
   "execution_count": null,
   "metadata": {},
   "outputs": [],
   "source": [
    "# (list).count((element))\n",
    "\n",
    "list = [1,1,2,3,3,3,3,3]\n",
    "print(list.count(1))\n",
    "print(list.count(3))"
   ]
  },
  {
   "cell_type": "code",
   "execution_count": null,
   "metadata": {},
   "outputs": [],
   "source": [
    "# (list).extend((element))\n",
    "\n",
    "list=[1,2,3]\n",
    "list.append([4])\n",
    "print(list)\n",
    "\n",
    "list=[1,2,3]\n",
    "list.extend([4])\n",
    "print(list)"
   ]
  },
  {
   "cell_type": "markdown",
   "metadata": {},
   "source": [
    "# Tuple"
   ]
  },
  {
   "cell_type": "code",
   "execution_count": 5,
   "metadata": {},
   "outputs": [
    {
     "name": "stdout",
     "output_type": "stream",
     "text": [
      "[1, -2, 3]\n"
     ]
    },
    {
     "ename": "TypeError",
     "evalue": "'tuple' object does not support item assignment",
     "output_type": "error",
     "traceback": [
      "\u001b[1;31m---------------------------------------------------------------------------\u001b[0m",
      "\u001b[1;31mTypeError\u001b[0m                                 Traceback (most recent call last)",
      "\u001b[1;32m<ipython-input-5-36e0e60877c9>\u001b[0m in \u001b[0;36m<module>\u001b[1;34m\u001b[0m\n\u001b[0;32m      6\u001b[0m \u001b[1;33m\u001b[0m\u001b[0m\n\u001b[0;32m      7\u001b[0m \u001b[0mtuple\u001b[0m \u001b[1;33m=\u001b[0m \u001b[1;33m(\u001b[0m\u001b[1;36m1\u001b[0m\u001b[1;33m,\u001b[0m\u001b[1;36m2\u001b[0m\u001b[1;33m,\u001b[0m\u001b[1;36m3\u001b[0m\u001b[1;33m)\u001b[0m\u001b[1;33m\u001b[0m\u001b[1;33m\u001b[0m\u001b[0m\n\u001b[1;32m----> 8\u001b[1;33m \u001b[0mtuple\u001b[0m\u001b[1;33m[\u001b[0m\u001b[1;36m1\u001b[0m\u001b[1;33m]\u001b[0m \u001b[1;33m=\u001b[0m \u001b[1;33m-\u001b[0m\u001b[1;36m2\u001b[0m    \u001b[1;31m# 값 불변이라서 오류 발생\u001b[0m\u001b[1;33m\u001b[0m\u001b[1;33m\u001b[0m\u001b[0m\n\u001b[0m\u001b[0;32m      9\u001b[0m \u001b[0mprint\u001b[0m\u001b[1;33m(\u001b[0m\u001b[0mtuple\u001b[0m\u001b[1;33m)\u001b[0m\u001b[1;33m\u001b[0m\u001b[1;33m\u001b[0m\u001b[0m\n",
      "\u001b[1;31mTypeError\u001b[0m: 'tuple' object does not support item assignment"
     ]
    }
   ],
   "source": [
    "# 튜플과 리스트의 차이\n",
    "\n",
    "list = [1,2,3]\n",
    "list[1] = -2     # 값 가변\n",
    "print(list)\n",
    "\n",
    "tuple = (1,2,3)\n",
    "tuple[1] = -2    # 값 불변이라서 오류 발생\n",
    "print(tuple)"
   ]
  },
  {
   "cell_type": "code",
   "execution_count": null,
   "metadata": {},
   "outputs": [],
   "source": [
    "# 어떤게 튜플일까?\n",
    "\n",
    "a = (1,2,3)\n",
    "b = 1,2,3\n",
    "c = 1,2,(-1,-2),3\n",
    "a1 = (1)\n",
    "a2 = 1,\n",
    "a3 = (1,)\n",
    "\n",
    "types = type(a),type(b),type(c),type(a1),type(a2),type(a3)\n",
    "print(types)\n",
    "# 참고로 튜플은 인덱싱, 슬라이싱, 더하기, 곱하기가 가능하다"
   ]
  },
  {
   "cell_type": "markdown",
   "metadata": {},
   "source": [
    "# Dictionary\n",
    "\n",
    "                      ≒ json"
   ]
  },
  {
   "cell_type": "code",
   "execution_count": null,
   "metadata": {},
   "outputs": [],
   "source": [
    "# 딕셔너리와 리스트의 차이\n",
    "\n",
    "dictionary = {'key':'value',3:5}\n",
    "dictionary['newkey'] = \"wow new value\"\n",
    "print(dictionary)\n",
    "print(dictionary['key'], dictionary[3])\n",
    "\n",
    "list = [1]\n",
    "list[1] = 2     # 리스트는 딕셔너리와 다르게 이런식으로 선언? 이 안된다\n",
    "print(list)\n",
    "\n",
    "# 리스트에서 list[0] 식으로 인덱스 번호를 이용해 인덱싱을 하지만 딕셔너리는 순서가 없는(unordered) 자료형 이므로 인덱싱을 할 수 없다."
   ]
  },
  {
   "cell_type": "code",
   "execution_count": null,
   "metadata": {},
   "outputs": [],
   "source": [
    "# .clear()\n",
    "# list와 dictionary가 사용가능한 함수\n",
    "\n",
    "list=['1']\n",
    "dictionary={1:1,2:2}\n",
    "print(list,dictionary, sep='\\n')\n",
    "\n",
    "list.clear()\n",
    "dictionary.clear()\n",
    "print(list,dictionary, sep='\\n')"
   ]
  },
  {
   "cell_type": "code",
   "execution_count": 6,
   "metadata": {},
   "outputs": [
    {
     "name": "stdout",
     "output_type": "stream",
     "text": [
      "1 가\n",
      "2\n"
     ]
    }
   ],
   "source": [
    "# 딕셔너리 속 리스트와 딕셔너리\n",
    "\n",
    "dict = {1:1}\n",
    "\n",
    "dict[2] = ['가','나']      # 딕셔너리 속 리스트\n",
    "print(dict[1],dict[2][0])\n",
    "\n",
    "dict['삼'] = {\"딕\":\"셔너리\",\"짱\":[1,2,3]}\n",
    "print(dict['삼']['짱'][1])"
   ]
  },
  {
   "cell_type": "code",
   "execution_count": null,
   "metadata": {},
   "outputs": [],
   "source": [
    "# (dictionary).get((key value))\n",
    "\n",
    "dict = {'names':'남진명'}\n",
    "list = 'asdf'\n",
    "print(dict.get('names'))\n",
    "print(dict['names'])\n",
    "print(dict.get('없는값'))\n",
    "print(dict.get('없는값2','noooooo'))"
   ]
  },
  {
   "cell_type": "code",
   "execution_count": null,
   "metadata": {},
   "outputs": [],
   "source": [
    "# (dictionary).keys()\n",
    "# (dictionary).values()\n",
    "# (dictionary).items()\n",
    "\n",
    "dict = { 1:'김경선' , '2':'김범선' , 3:['김','성','준'] , '사':'이것저것' }\n",
    "print(dict.keys() , dict.values() , dict.items() , sep='\\n')     # dict_keys 타입과 dict_values 타입 dict_items 타입을 리턴"
   ]
  },
  {
   "cell_type": "markdown",
   "metadata": {},
   "source": [
    "# Set"
   ]
  },
  {
   "cell_type": "code",
   "execution_count": null,
   "metadata": {},
   "outputs": [],
   "source": [
    "# set 자료형의 특징\n",
    "\n",
    "# 1. 순서가 없다.(unordered)\n",
    "# 2. 중복을 허용하지 않는다.\n",
    "\n",
    "s1 = set([2,4,1,3])\n",
    "s2 = set(\"나라가다\")\n",
    "s3 = {\"hello\"}\n",
    "s4 = {-2,0,-3,-1}\n",
    "print(s1, s2, s3, s4)\n",
    "\n",
    "# 순서가 없으므로, 딕셔너리와 같이 인덱싱을 할 수 없다. 인덱싱을 하기 위해서는\n",
    "try :del list              # 기존에 리스트를 사용했으면 리스트를 원래의 함수형태로 돌리기 위해 쓴 코드~\n",
    "except:pass\n",
    "s2 = list(s2)\n",
    "print(s2[1])\n",
    "print(s1[1])    # set형태이므로, 인덱싱 오류뜸!"
   ]
  },
  {
   "cell_type": "code",
   "execution_count": null,
   "metadata": {},
   "outputs": [],
   "source": [
    "# (set)&(set)\n",
    "# (set).intersection((set))\n",
    "\n",
    "# 교집합 이다.\n",
    "\n",
    "s1 = set([1, 2, 3, 4, 5, 6])\n",
    "s2 = set([4, 5, 6, 7, 8, 9])\n",
    "print(s1&s2)\n",
    "print(s1.intersection(s2))"
   ]
  },
  {
   "cell_type": "code",
   "execution_count": null,
   "metadata": {},
   "outputs": [],
   "source": [
    "# (set)|(set)\n",
    "# (set).union((set))\n",
    "# 합집합이다.\n",
    "\n",
    "s1 = set([1, 2, 3, 4, 5, 6])\n",
    "s2 = set([4, 5, 6, 7, 8, 9])\n",
    "print(s1|s2)\n",
    "print(s1.union(s2))"
   ]
  },
  {
   "cell_type": "code",
   "execution_count": null,
   "metadata": {},
   "outputs": [],
   "source": [
    "# (set)-(set)\n",
    "# (set).difference((set))\n",
    "# 차집합이다.\n",
    "\n",
    "s1 = set([1, 2, 3, 4, 5, 6])\n",
    "s2 = set([4, 5, 6, 7, 8, 9])\n",
    "print(s1-s2)\n",
    "print(s2-s1)\n",
    "print(s1.difference(s2))\n",
    "print(s2.difference(s1))"
   ]
  },
  {
   "cell_type": "code",
   "execution_count": null,
   "metadata": {},
   "outputs": [],
   "source": [
    "# (set).add((element))\n",
    "# set에 한 값만 추가할 경우 사용한다.\n",
    "\n",
    "s1 = set([1, 2, 3])\n",
    "s1.add(4)\n",
    "print(s1)"
   ]
  },
  {
   "cell_type": "code",
   "execution_count": null,
   "metadata": {},
   "outputs": [],
   "source": [
    "# (set).update((element))\n",
    "# set에 여러 값을 추가할 경우 사용한다.\n",
    "\n",
    "s1 = set([1, 2, 3])\n",
    "s1.update([4, 5, 6])\n",
    "print(s1)"
   ]
  },
  {
   "cell_type": "code",
   "execution_count": null,
   "metadata": {},
   "outputs": [],
   "source": [
    "# (set).remove((element))\n",
    "# 특정 값을 제거할 때 사용한다.\n",
    "\n",
    "s1 = set([1, 2, 3])\n",
    "s1.remove(2)\n",
    "print(s1)"
   ]
  },
  {
   "cell_type": "markdown",
   "metadata": {},
   "source": [
    "# Bool"
   ]
  },
  {
   "cell_type": "code",
   "execution_count": null,
   "metadata": {},
   "outputs": [],
   "source": [
    "# True와 False 두 값만 존재한다.\n",
    "\n",
    "print(1 == 1) # 과 같은 식은 불 자료형을 리턴한다.\n",
    "print(bool(0)) # 숫자는 0만, 다른 자료형은 빈 자료형만 False 를 리턴한다. None도 False이다.\n",
    "print(not bool(0))\n",
    "print(0 is False)"
   ]
  },
  {
   "cell_type": "markdown",
   "metadata": {},
   "source": [
    "# Variable"
   ]
  },
  {
   "cell_type": "code",
   "execution_count": null,
   "metadata": {},
   "outputs": [],
   "source": [
    "# 지금까지 모든 자료형을 a, b, s1 등의 변수에 담았다.\n",
    "a = 1\n",
    "b = a\n",
    "print(id(a), id(b), sep='\\n')\n",
    "print(a is b, b is 1, sep='\\n')\n",
    "\n",
    "a = 3\n",
    "print(a,b) # 읭? 안바끼네?\n",
    "\n",
    "a = [1,2,3]\n",
    "b = a\n",
    "a[1] = 4\n",
    "print(b) # 읭? 바꼈내\n",
    "\n",
    "a = [1,2,3]\n",
    "b = a[:]  # 슬라이싱임 a 리스트 전체를 말함\n",
    "a[1] = 4\n",
    "print(b) # 안바뀔만해 끄덕끄덕\n",
    "print(id(a),id(b))"
   ]
  },
  {
   "cell_type": "markdown",
   "metadata": {},
   "source": [
    "---"
   ]
  },
  {
   "cell_type": "markdown",
   "metadata": {},
   "source": [
    "# Function"
   ]
  },
  {
   "cell_type": "markdown",
   "metadata": {},
   "source": [
    "#### 함수의 입력"
   ]
  },
  {
   "cell_type": "code",
   "execution_count": 1,
   "metadata": {},
   "outputs": [
    {
     "name": "stdout",
     "output_type": "stream",
     "text": [
      "<class 'tuple'> (1, '2', '삼', 4)\n",
      "1 그리고 ('2', '삼', 4)\n",
      "에러발생\n",
      "(1, '2', '삼', 4) 그리고 5\n",
      "(1, 2, 3) 그리고 1 그리고 2 그리고 3 그리고 [1, 2, 3] 그리고 1 그리고 2 그리고 3\n"
     ]
    }
   ],
   "source": [
    "# *(variable)\n",
    "\n",
    "def a(*many):\n",
    "    print(type(many),many)\n",
    "a(1,\"2\",\"삼\",4)\n",
    "\n",
    "\n",
    "def a(one,*many):\n",
    "    print(one,many,sep=' 그리고 ')\n",
    "a(1,\"2\",\"삼\",4)\n",
    "\n",
    "\n",
    "def a(*many,one):                       # *(변수) 이후에 또 다른 변수가 오면 에러가 발생한다.\n",
    "    print(many,one,sep=' 그리고 ')        # *은 입력 받는대로 모두 받기에 이후에 오는 변수는 값을 할당받지 못한다.\n",
    "try:a(1,\"2\",\"삼\",4)\n",
    "except:print(\"에러발생\")\n",
    "    \n",
    "    \n",
    "def a(*many,one=5):                     # 하지만 뒤의 변수에 초기값을 설정하면 외부?에서 입력받을 필요가 없어 에러가 발생하지 않는다.\n",
    "    print(many,one,sep=' 그리고 ')         # 변수의 초기값을 설정할 경우 *과는 다르게 맨 뒤에 둬야 오류가 생기지 않는다.\n",
    "a(1,\"2\",\"삼\",4)                         # 입력받을 필요가 없다곤 했지만, 입력받을 수 있다.\n",
    "\n",
    "\n",
    "# *은 각각의 요소를 뜻한다. 즉\n",
    "a = 1,2,3\n",
    "print(a, *a, list(a), *list(a), sep=' 그리고 ')   # 여기서 *a 는 사실상 1,2,3이다.\n",
    "# 과 같이 반복되는 자료형들의 각각의 요소를 뜻한다.\n",
    "\n",
    "# *은 여러 인수들을 받아서 튜플형으로 저장한다\n",
    "# **은 asdf = '1' 식으로 입력 받는데, 여러개를 받으며, 딕셔너리의 형태로 저장한다."
   ]
  },
  {
   "cell_type": "markdown",
   "metadata": {},
   "source": [
    "#### 함수의 출력"
   ]
  },
  {
   "cell_type": "code",
   "execution_count": null,
   "metadata": {},
   "outputs": [],
   "source": [
    "# global (variable)\n",
    "\n",
    "a=3\n",
    "def glb(t):\n",
    "    global a\n",
    "    a+=t**2\n",
    "glb(2)\n",
    "print(a,'\\n')\n",
    "\n",
    "a=3\n",
    "def stdd(t):\n",
    "    return t**2\n",
    "a+=stdd(2)\n",
    "print(a,'\\n')"
   ]
  },
  {
   "cell_type": "code",
   "execution_count": 25,
   "metadata": {},
   "outputs": [
    {
     "name": "stdout",
     "output_type": "stream",
     "text": [
      "[7, 12]\n",
      "(7, 12)\n"
     ]
    }
   ],
   "source": [
    "# return\n",
    "\n",
    "def f1(a,b):\n",
    "    return [a+b,a*b]\n",
    "def f2(a,b):\n",
    "    return a+b,a*b\n",
    "print(f1(3,4), f2(3,4), sep='\\n')"
   ]
  },
  {
   "cell_type": "markdown",
   "metadata": {},
   "source": [
    "# File r/w"
   ]
  },
  {
   "cell_type": "code",
   "execution_count": null,
   "metadata": {},
   "outputs": [],
   "source": [
    "# r 읽기모드 - 파일을 읽기만 할 때 사용\n",
    "# w 쓰기모드 - 파일에 내용을 쓸 때 사용 (기존 내용 삭제)\n",
    "# a 추가모드 - 파일의 마지막에 새로운 내용을 추가할 때 사용\n",
    "# 파일이 프로그램을 실행한 디렉터리에 생성된다.\n",
    "# 프로그램 실행 디렉터리가 아닌, 지정한 경로에 생성, 파일열기를 원한다면 f = open(\"D:/bb/새파일.txt\",'w')와 같이 하면 된다.\n",
    "f = open(\"새파일.txt\",'w')\n",
    "f.write(\"걁\\n\")\n",
    "print(f.readline())   # readline()은 반복 할 때 마다 다음줄로 계속 넘어간다.\n",
    "print(f.readlines())  # readlines()는 싹다 읽어서 리스트를 반환한다.\n",
    "print(f.read())       # read()는 싹다 읽어서 모습 그대로? 반환한다.\n",
    "f.close()\n",
    "\n",
    "with open(\"새파일.txt\",'w') as f:     # with문을 빠져나올 시 열었던 파일이 닫힌다.(f.close())\n",
    "    f.write(\"with문 신기해\")\n",
    "    "
   ]
  },
  {
   "cell_type": "markdown",
   "metadata": {},
   "source": [
    "# in"
   ]
  },
  {
   "cell_type": "code",
   "execution_count": 48,
   "metadata": {},
   "outputs": [
    {
     "name": "stdout",
     "output_type": "stream",
     "text": [
      "3\n",
      "1 1\n",
      "2 2\n",
      "3 2\n"
     ]
    }
   ],
   "source": [
    "str=\"789\"\n",
    "list=[(1,1),(2,2),(3,3)]\n",
    "\n",
    "if \"7\" in str:\n",
    "    print(\"3\")"
   ]
  },
  {
   "cell_type": "markdown",
   "metadata": {},
   "source": [
    "# for"
   ]
  },
  {
   "cell_type": "code",
   "execution_count": 54,
   "metadata": {},
   "outputs": [
    {
     "name": "stdout",
     "output_type": "stream",
     "text": [
      "1 1\n",
      "2 2\n",
      "3 3\n",
      "[0, 6, 12, 18]\n",
      "\n",
      "그리고\n",
      "\n",
      "[1, 2, 3, 4, 5, 6, 7, 8, 9, 10, 2, 4, 6, 8, 10, 12, 14, 16, 18, 20, 3, 6, 9, 12, 15, 18, 21, 24, 27, 30, 4, 8, 12, 16, 20, 24, 28, 32, 36, 40, 5, 10, 15, 20, 25, 30, 35, 40, 45, 50, 6, 12, 18, 24, 30, 36, 42, 48, 54, 60, 7, 14, 21, 28, 35, 42, 49, 56, 63, 70, 8, 16, 24, 32, 40, 48, 56, 64, 72, 80, 9, 18, 27, 36, 45, 54, 63, 72, 81, 90, 10, 20, 30, 40, 50, 60, 70, 80, 90, 100]\n"
     ]
    }
   ],
   "source": [
    "list=[(1,1),(2,2),(3,3)]\n",
    "\n",
    "for (a,b) in list:\n",
    "    print(a,b)\n",
    "    \n",
    "# 리스트 내포\n",
    "# for문 앞에 변수의 증가량을 조정할수 있고, 뒤에 if문을 넣을 수 있다.\n",
    "# n중 for문도 가능 :를 안쓴다\n",
    "lt = [a*2 for a in range(12) if a%3==0]\n",
    "print(lt)\n",
    "\n",
    "print(\"\\n그리고\\n\")\n",
    "\n",
    "lt = [x*y for x in range(1,11)for y in range(1,11)]\n",
    "print(lt)\n",
    "# [표현식 for 항목 in 반복 가능 객체 if 조건]"
   ]
  },
  {
   "cell_type": "markdown",
   "metadata": {},
   "source": [
    "# pass"
   ]
  },
  {
   "cell_type": "code",
   "execution_count": 45,
   "metadata": {},
   "outputs": [],
   "source": [
    "if 1:\n",
    "    pass     # 그냥 지나간다는 뜻\n",
    "else:\n",
    "    print('1')"
   ]
  },
  {
   "cell_type": "markdown",
   "metadata": {},
   "source": [
    "# class"
   ]
  },
  {
   "cell_type": "markdown",
   "metadata": {},
   "source": [
    "#### 클래스의 사용"
   ]
  },
  {
   "cell_type": "code",
   "execution_count": 11,
   "metadata": {},
   "outputs": [
    {
     "name": "stdout",
     "output_type": "stream",
     "text": [
      "1\n",
      "2\n",
      "3\n",
      "2019\n",
      "100\n"
     ]
    }
   ],
   "source": [
    "print(1)\n",
    "class class_exam():\n",
    "    print(2)              # 클래스도 파이썬에서는 메인문과 같다고 생각하면 된다.\n",
    "    \n",
    "    element = 2019\n",
    "    \n",
    "    def add(a):\n",
    "        return a+10\n",
    "    \n",
    "print(3)\n",
    "print(class_exam.element)\n",
    "print(class_exam.add(90))"
   ]
  },
  {
   "cell_type": "markdown",
   "metadata": {},
   "source": [
    "#### self"
   ]
  },
  {
   "cell_type": "code",
   "execution_count": 3,
   "metadata": {},
   "outputs": [
    {
     "name": "stdout",
     "output_type": "stream",
     "text": [
      "<bound method class_exam.load of <__main__.class_exam object at 0x0000021E3B18BFD0>>\n"
     ]
    }
   ],
   "source": [
    "class class_exam():\n",
    "    def save(self,a):     # self가 아니라 다른이름을 지정해도 되지만, 되도록 self로 사용하자.\n",
    "        self.asdf = a\n",
    "        \n",
    "    def load(self):\n",
    "        return self.asdf + self.asdf\n",
    "    \n",
    "nc = class_exam()     # 괄호를 쓰지 않는다면 self를 사용할 수 없다.\n",
    "nc.save(2019)         # self에는 nc가 들어간다.\n",
    "print(nc.load())"
   ]
  },
  {
   "cell_type": "markdown",
   "metadata": {},
   "source": [
    "#### @staticmethod "
   ]
  },
  {
   "cell_type": "code",
   "execution_count": 8,
   "metadata": {},
   "outputs": [
    {
     "name": "stdout",
     "output_type": "stream",
     "text": [
      "3\n"
     ]
    }
   ],
   "source": [
    "class class_exam():\n",
    "    @staticmethod         # 스태틱 메서드 선언 이후 한개의 메서드만 self를 사용할 수 없다.\n",
    "    def save(self,a):\n",
    "        return self+a\n",
    "    \n",
    "nc = class_exam()        # 괄호를 사용하지 않으면 staticmethod와 상관없이 모든 메서드에서 self사용이 안된다.\n",
    "print(nc.save(1,2))"
   ]
  },
  {
   "cell_type": "markdown",
   "metadata": {},
   "source": [
    "#### `__init__` (초기화) (생성자construct)"
   ]
  },
  {
   "cell_type": "code",
   "execution_count": 2,
   "metadata": {},
   "outputs": [],
   "source": [
    "class class_exam():\n",
    "    \n",
    "    def __init__(self):\n",
    "        print('야호')\n",
    "    \n",
    "nc = class_exam()    # 해당 클래스의 객체가 만들어지면 바로 __init__의 내용이 실행됨"
   ]
  },
  {
   "cell_type": "code",
   "execution_count": 13,
   "metadata": {},
   "outputs": [
    {
     "name": "stdout",
     "output_type": "stream",
     "text": [
      "오예\n",
      "2019부모부모\n",
      "2020자식자식\n",
      "부모 : 2 \n",
      "자식 : 2\n",
      "\n",
      "2019\n",
      "1100\n",
      "\n",
      "2019얍\n",
      "<__main__.classname object at 0x00000186AEC32828>\n",
      "function메서드 속의 self의 타입 : <class '__main__.classname'>\n",
      "3\n",
      "65536\n",
      "65536\n",
      "\n",
      "2019아무거나\n",
      "2\n"
     ]
    }
   ],
   "source": [
    "# 선언\n",
    "\n",
    "class classname:                                  # 얘도 () 질문\n",
    "    print(\"오예\")    # 얘 그냥 지혼자 바로실행\n",
    "    \n",
    "    element=2019\n",
    "    \n",
    "    def __init__(self,parm):   # 불릴 때 바로 \n",
    "        self.prmt = parm\n",
    "        print(str(self.element)+parm)\n",
    "    \n",
    "    @staticmethod \n",
    "    def every(a,b):\n",
    "        return a+b\n",
    "    \n",
    "    \n",
    "    def function(self,second):\n",
    "        print('function메서드 속의 self의 타입 :',type(self))\n",
    "        \n",
    "        self.any=second**2**2**2\n",
    "        return second+1\n",
    "    \n",
    "    # @staticmethod                     # 바로 다음 하나 메서드만  자기자신(self) 접근 x\n",
    "    def print_(self):\n",
    "        return self.any\n",
    "    \n",
    "    \n",
    "    def self_(self,second):\n",
    "        self.any = second\n",
    "        return self\n",
    "    \n",
    "# 클래스 상속\n",
    "class inherit(classname):\n",
    "    element = 2020         \n",
    "    # 메서드 오버라이딩 (부모 클래스의 메서드와 같은 이름의 메서드가 다른 일을 하게 한다.)\n",
    "    \n",
    "c = classname('부모부모')\n",
    "i = inherit('자식자식')\n",
    "print('부모 :', c.every(1,1), '\\n자식 :', i.every(1,1))\n",
    "print('')\n",
    "    \n",
    "        \n",
    "# 사용 1\n",
    "\n",
    "print(classname.element)\n",
    "print(classname.every(100,1000))\n",
    "print('')\n",
    "\n",
    "\n",
    "# 사용 2\n",
    "                     # 얍을 쓰는 이유는 __init__때문\n",
    "c=classname('얍')    # 클래스에 의해서 생성된 객체를 인스턴스라고 부른다.\n",
    "                     # 클래스() 는 인스턴스를 만든다는 의미 즉 self 사용 가능 \n",
    "                     # 클래스 는 그냥 클래스 호출이므로 self자리가 그냥 파라미터가 된다.\n",
    "                     # 클래스() 로 사용할 때 self가 필요 없으면, @staticmethod를 메서드 위에 써놓는다.\n",
    "print(c)\n",
    "print(c.function(2))\n",
    "print(c.print_())\n",
    "print(c.any)\n",
    "print('')\n",
    "\n",
    "\n",
    "# 사용 3\n",
    "\n",
    "print(classname('아무거나').self_(2).any)    # classname().self_(2) self_가 self를 리턴해서 self.any실행가능 (한줄로)"
   ]
  },
  {
   "cell_type": "markdown",
   "metadata": {},
   "source": [
    "#### 연산자 오버로딩"
   ]
  },
  {
   "cell_type": "code",
   "execution_count": 8,
   "metadata": {},
   "outputs": [
    {
     "name": "stdout",
     "output_type": "stream",
     "text": [
      "기모씨와 기모띠\n"
     ]
    }
   ],
   "source": [
    "# 연산자를 객체끼리 사용할 수 있게 하는 기법으로, 연산자 오버로딩을 사용하면 다음과 같이 동작하도록 만들 수 있다.\n",
    "'''\n",
    ">>> pey = HousePark(\"응용\")\n",
    ">>> juliet = HouseKim(\"줄리엣\")\n",
    ">>> pey + juliet\n",
    "박응용, 김줄리엣 결혼했네\n",
    "'''\n",
    "\n",
    "class classname:\n",
    "    plus = '씨'\n",
    "    def __init__(self,name):\n",
    "        self.fullname = name + self.plus\n",
    "    def __add__(self,other):\n",
    "        print(\"%s와 %s\"%(self.fullname, other.fullname))\n",
    "        \n",
    "class inherit(classname):\n",
    "    plus = '띠'\n",
    "c1 = classname(\"기모\")\n",
    "c2 = inherit(\"기모\")\n",
    "c1 + c2           # + 를 사용하면 __add__가 호출되며, c1 = self, c2 = other 이 된다.\n",
    "                  # - 를 사용하면 __sub__가 호출된다.\n",
    "                  # * 는 __mul__ /는 __truediv__"
   ]
  },
  {
   "cell_type": "markdown",
   "metadata": {},
   "source": [
    "# module"
   ]
  },
  {
   "cell_type": "code",
   "execution_count": null,
   "metadata": {},
   "outputs": [],
   "source": [
    "import import_ipynb       # 쥬피터 노트북을 사용할 경우에는 .ipynb파일을 import할 수 없기에 pip install import-ipynb 해서 import_ipynb\n",
    "                          # 를 import 해서 다른 .ipynb파일을 import 할 수 있다."
   ]
  }
 ],
 "metadata": {
  "kernelspec": {
   "display_name": "Python 3",
   "language": "python",
   "name": "python3"
  },
  "language_info": {
   "codemirror_mode": {
    "name": "ipython",
    "version": 3
   },
   "file_extension": ".py",
   "mimetype": "text/x-python",
   "name": "python",
   "nbconvert_exporter": "python",
   "pygments_lexer": "ipython3",
   "version": "3.7.3"
  }
 },
 "nbformat": 4,
 "nbformat_minor": 2
}
