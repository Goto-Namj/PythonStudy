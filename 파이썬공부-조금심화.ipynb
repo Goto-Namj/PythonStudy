{
 "cells": [
  {
   "cell_type": "markdown",
   "metadata": {},
   "source": [
    "# 퍼스트 클래스 함수\n",
    "\n",
    "퍼스트 클래스 함수란, 프로그래밍 언어가 함수 (function) 를 first-class citizen으로 취급하는 것\n",
    "\n",
    "함수 자체를 인자로 다른 함수에 전달하거나, 다른 함수의 결과값으로 리턴 할수있으며,\n",
    "함수를 변수에 할당하거나, 데이터 구조안에 저장할 수 있는 함수를 뜻한다."
   ]
  },
  {
   "cell_type": "markdown",
   "metadata": {},
   "source": [
    "#### 함수를 변수에 할당"
   ]
  },
  {
   "cell_type": "code",
   "execution_count": 1,
   "metadata": {},
   "outputs": [
    {
     "name": "stdout",
     "output_type": "stream",
     "text": [
      "25\n",
      "25\n",
      "<function square at 0x000001F05902B0D0>\n",
      "<function square at 0x000001F05902B0D0>\n"
     ]
    }
   ],
   "source": [
    "def square(x):\n",
    "    return x * x\n",
    "f = square\n",
    "\n",
    "print(square(5))\n",
    "print(f(5))\n",
    "\n",
    "print(square)\n",
    "print(f)"
   ]
  },
  {
   "cell_type": "code",
   "execution_count": 2,
   "metadata": {},
   "outputs": [
    {
     "name": "stdout",
     "output_type": "stream",
     "text": [
      "[1, 4, 9, 16, 25]\n"
     ]
    }
   ],
   "source": [
    "def square(x):\n",
    "    return x * x\n",
    "\n",
    "def my_map(func, arg_list):\n",
    "    result = []\n",
    "    for i in arg_list:\n",
    "        result.append(func(i))\n",
    "    return result\n",
    "\n",
    "num_list = [1, 2, 3, 4, 5]\n",
    "\n",
    "print(my_map(square, num_list))"
   ]
  },
  {
   "cell_type": "markdown",
   "metadata": {},
   "source": [
    "아래와 같이 할 수도 있지만, 위와 같이 하는 이유는 함수의 재활용이 용이하기 때문이다."
   ]
  },
  {
   "cell_type": "code",
   "execution_count": 3,
   "metadata": {},
   "outputs": [
    {
     "name": "stdout",
     "output_type": "stream",
     "text": [
      "[1, 4, 9, 16, 25]\n"
     ]
    }
   ],
   "source": [
    "def simple_square(arg_list):\n",
    "    result = []\n",
    "    for i in arg_list:\n",
    "        result.append(i * i)\n",
    "    return result\n",
    "\n",
    "num_list = [1, 2, 3, 4, 5]\n",
    "\n",
    "print(simple_square(num_list))"
   ]
  },
  {
   "cell_type": "markdown",
   "metadata": {},
   "source": [
    "아래와 같이 말이다."
   ]
  },
  {
   "cell_type": "code",
   "execution_count": 4,
   "metadata": {},
   "outputs": [
    {
     "name": "stdout",
     "output_type": "stream",
     "text": [
      "[1, 4, 9, 16, 25]\n",
      "[1, 8, 27, 64, 125]\n",
      "[1, 16, 81, 256, 625]\n"
     ]
    }
   ],
   "source": [
    "def square(x):\n",
    "    return x * x\n",
    "\n",
    "def cube(x):\n",
    "    return x * x * x\n",
    "\n",
    "def quad(x):\n",
    "    return x * x * x * x\n",
    "\n",
    "def my_map(func, arg_list):\n",
    "    result = []\n",
    "    for i in arg_list:\n",
    "        result.append(func(i))\n",
    "    return result\n",
    "\n",
    "num_list = [1, 2, 3, 4, 5]\n",
    "\n",
    "print(my_map(square, num_list))\n",
    "print(my_map(cube, num_list))\n",
    "print(my_map(quad, num_list))"
   ]
  },
  {
   "cell_type": "markdown",
   "metadata": {},
   "source": [
    "클로저라는 개념도 있는데 좀 있다가 정리하겠다."
   ]
  },
  {
   "cell_type": "markdown",
   "metadata": {},
   "source": [
    "#### high-order function"
   ]
  },
  {
   "cell_type": "code",
   "execution_count": 5,
   "metadata": {},
   "outputs": [
    {
     "name": "stdout",
     "output_type": "stream",
     "text": [
      "<h1> 심플 헤딩 타이틀 <h1>\n",
      "------------------------------\n",
      "<h1> 첫번째 <h1>\n",
      "<tag0> msg1 <tag0>\n"
     ]
    }
   ],
   "source": [
    "# 일반적인 함수\n",
    "def simple_html_tag(tag, msg):\n",
    "    print ('<{0}> {1} <{0}>'.format(tag, msg))\n",
    "    \n",
    "simple_html_tag('h1', '심플 헤딩 타이틀')\n",
    "\n",
    "print ('-'*30)\n",
    "\n",
    "# 얘가 high뭐시기\n",
    "def html_tag(tag):\n",
    "    \n",
    "    def wrap_text(msg):\n",
    "        print ('<{0}> {1} <{0}>'.format(tag, msg))\n",
    "        \n",
    "    return wrap_text\n",
    "\n",
    "# 이런 식으로 사용\n",
    "print_h1 = html_tag('h1')\n",
    "print_h1('첫번째')\n",
    "\n",
    "html_tag('tag0')('msg1')"
   ]
  },
  {
   "cell_type": "markdown",
   "metadata": {},
   "source": [
    "#### 클로저 (closure), 데코레이터 (decorator) 또는 제너레이터 (generator)"
   ]
  },
  {
   "cell_type": "markdown",
   "metadata": {},
   "source": [
    "## 클로저\n",
    "\n",
    "퍼스트클래스 함수를 지원하는 언어의 네임 바인딩 기술을 말한다.\n",
    "\n",
    "어떤 함수를 함수 자신이 가지고 있는 환경과 함께 저장한 레코드이다.\n",
    "\n",
    "함수가 가진 프리변수(free variable)를 클로저가 만들어지는 당시의 값과 레퍼런스에 맵핑하여 주는 역할을 한다.\n",
    "\n",
    "일반 함수와는 다르게, 자신의 영역 밖에서 호출된 함수의 변수값과 레퍼런스를 복사하고 저장한 뒤, 이 캡처한 값들에 액세스할 수 있게 도와준다."
   ]
  },
  {
   "cell_type": "markdown",
   "metadata": {},
   "source": [
    "###### free variable\n",
    "\n",
    "아래와 같이 해당 코드 블럭(함수-inner_func)안에서 사용되었지만, 그 코드블럭 안에서 정의되지 않은 변수를 뜻한다."
   ]
  },
  {
   "cell_type": "code",
   "execution_count": 6,
   "metadata": {},
   "outputs": [
    {
     "name": "stdout",
     "output_type": "stream",
     "text": [
      "<function outer_func at 0x000001F05902BA60>\n",
      "<function outer_func.<locals>.inner_func at 0x000001F05905A0D0>\n",
      "Hi\n",
      "None\n"
     ]
    }
   ],
   "source": [
    "def outer_func():\n",
    "    message = 'Hi'\n",
    "\n",
    "    def inner_func():\n",
    "        print (message)\n",
    "\n",
    "    return inner_func\n",
    "\n",
    "print(outer_func)\n",
    "print(outer_func())\n",
    "print(outer_func()())"
   ]
  },
  {
   "cell_type": "code",
   "execution_count": 7,
   "metadata": {},
   "outputs": [
    {
     "name": "stdout",
     "output_type": "stream",
     "text": [
      "<function outer_func.<locals>.inner_func at 0x000001F05902BA60>\n",
      "\n",
      "['__annotations__', '__call__', '__class__', '__closure__', '__code__', '__defaults__', '__delattr__', '__dict__', '__dir__', '__doc__', '__eq__', '__format__', '__ge__', '__get__', '__getattribute__', '__globals__', '__gt__', '__hash__', '__init__', '__init_subclass__', '__kwdefaults__', '__le__', '__lt__', '__module__', '__name__', '__ne__', '__new__', '__qualname__', '__reduce__', '__reduce_ex__', '__repr__', '__setattr__', '__sizeof__', '__str__', '__subclasshook__']\n",
      "\n",
      "<class 'tuple'>\n",
      "\n",
      "(<cell at 0x000001F0590560A8: str object at 0x000001F059048A40>,)\n",
      "\n",
      "<cell at 0x000001F0590560A8: str object at 0x000001F059048A40>\n",
      "\n",
      "['__class__', '__delattr__', '__dir__', '__doc__', '__eq__', '__format__', '__ge__', '__getattribute__', '__gt__', '__hash__', '__init__', '__init_subclass__', '__le__', '__lt__', '__ne__', '__new__', '__reduce__', '__reduce_ex__', '__repr__', '__setattr__', '__sizeof__', '__str__', '__subclasshook__', 'cell_contents']\n",
      "\n",
      "Hi\n"
     ]
    }
   ],
   "source": [
    "def outer_func():  #1\n",
    "    message = 'Hi'  #3\n",
    "\n",
    "    def inner_func():  #4\n",
    "        print (message)  #6\n",
    "\n",
    "    return inner_func  #5\n",
    "\n",
    "my_func = outer_func()  #2\n",
    "\n",
    "print (my_func)  # inner_func 오브젝트가 들어있다. return해준애가 괄호 열고닫고 안해서 오브젝트 준거임\n",
    "print()\n",
    "print (dir(my_func))  # 클로저 찾기 __closure__\n",
    "print()\n",
    "print (type(my_func.__closure__)) # 찾은 클로저 타입 확인!\n",
    "print()\n",
    "print (my_func.__closure__)  #  튜플인 클로저의 내용물? 아이템? 확인\n",
    "print()\n",
    "print (my_func.__closure__[0])  # 해당 튜플의 첫번째 요소 확인. cell이라는 문자열 오브젝트래\n",
    "print()\n",
    "print (dir(my_func.__closure__[0]))  # 이번에는 cell 문자열 오브젝트 확인. cell_contents가 있음! \n",
    "print()\n",
    "print (my_func.__closure__[0].cell_contents)  # cell_contents에는 바로바로 Hi가 들어있습니다!"
   ]
  },
  {
   "cell_type": "code",
   "execution_count": 8,
   "metadata": {},
   "outputs": [
    {
     "name": "stdout",
     "output_type": "stream",
     "text": [
      "<123> txtxt <123>\n",
      "<h1> txtxt <h1>\n",
      "<p> txtxt <p>\n"
     ]
    }
   ],
   "source": [
    "def outer_func(tag,txt='txtxt'):\n",
    "\n",
    "    def inner_func():\n",
    "        print('<{0}> {1} <{0}>'.format(tag, txt))\n",
    "\n",
    "    return inner_func\n",
    "\n",
    "outer_func('123')()\n",
    "\n",
    "h1_func = outer_func('h1')\n",
    "p_func = outer_func('p')\n",
    "\n",
    "h1_func()\n",
    "p_func()"
   ]
  },
  {
   "cell_type": "code",
   "execution_count": 9,
   "metadata": {},
   "outputs": [
    {
     "name": "stdout",
     "output_type": "stream",
     "text": [
      "<첫> 번째번째번째 <첫>\n",
      "<h1> h1태그의 안입니다. <h1>\n",
      "<p> p태그의 안입니다. <p>\n"
     ]
    }
   ],
   "source": [
    "def outer_func(tag):\n",
    "\n",
    "    def inner_func(txt):\n",
    "        print('<{0}> {1} <{0}>'.format(tag, txt))\n",
    "\n",
    "    return inner_func\n",
    "\n",
    "outer_func('첫')('번째번째번째')\n",
    "\n",
    "h1_func = outer_func('h1')\n",
    "p_func = outer_func('p')\n",
    "\n",
    "h1_func('h1태그의 안입니다.')\n",
    "p_func('p태그의 안입니다.')"
   ]
  },
  {
   "cell_type": "markdown",
   "metadata": {},
   "source": [
    "## 데코레이터\n",
    "\n",
    "데코레이터와 클로저 예제코드를 보면, 데코레이터는 함수를 다른 함수의 인자로 전달한다는 점이 다르다."
   ]
  },
  {
   "cell_type": "code",
   "execution_count": 10,
   "metadata": {},
   "outputs": [
    {
     "name": "stdout",
     "output_type": "stream",
     "text": [
      "a가 실행됐다.\n"
     ]
    }
   ],
   "source": [
    "def decorator(original_function):  # 오리지널 펑션을 오브젝트형태로 가져왔음\n",
    "    \n",
    "    def wrapper():\n",
    "        \n",
    "        return original_function()  # 위에서는 오브젝트 형태로 가져왔으니까 () 를 붙여서 함수형태로 리턴했음\n",
    "    \n",
    "    return wrapper\n",
    "\n",
    "def a():\n",
    "    print ('a가 실행됐다.')\n",
    "\n",
    "decorated_a = decorator(a)\n",
    "\n",
    "decorated_a()"
   ]
  },
  {
   "cell_type": "markdown",
   "metadata": {},
   "source": [
    "내가 느끼기에 뭔 느낌이냐면,\n",
    "\n",
    "decorator(a)를 하고 decorator가 wrapper함수를 반환 함으로써 a를 갖고? 있는 wrapper 상태로 decorated_a에 저장된다.\n",
    "\n",
    "그래서 실행하면 a를 담고 있던 wrapper가 a함수를 반환해서 a가 실행되는듯"
   ]
  },
  {
   "cell_type": "markdown",
   "metadata": {},
   "source": [
    "###### 이쯤에서 이해가 된? 것\n",
    "\n",
    "return으로 오브젝트를 리턴하는데, 나는 리턴하는 오브젝트가 함수였다면, 실행되고 함수가 리턴될 줄 알았다.\n",
    "\n",
    "즉 위의 코드에서 return wrapper()한다면, decorator의 return값이 original_function()이 된다는 뜻이였다.\n",
    "\n",
    "그런데 이게 아니라 리턴은 그것을 리턴하는데 리턴 할 것을 실행해야 하기 때문에, 현재의 상태를 어디에 저장해놓고 실행시킨다면,\n",
    "그제야 저장해놓은 그 상태 그대로의 함수를 실행하게 되는것이다!!\n",
    "\n",
    "처음에 생각했던 코드가 있다."
   ]
  },
  {
   "cell_type": "code",
   "execution_count": 11,
   "metadata": {},
   "outputs": [
    {
     "ename": "UnboundLocalError",
     "evalue": "local variable 'i' referenced before assignment",
     "output_type": "error",
     "traceback": [
      "\u001b[1;31m---------------------------------------------------------------------------\u001b[0m",
      "\u001b[1;31mUnboundLocalError\u001b[0m                         Traceback (most recent call last)",
      "\u001b[1;32m<ipython-input-11-7624b73225bb>\u001b[0m in \u001b[0;36m<module>\u001b[1;34m\u001b[0m\n\u001b[0;32m      6\u001b[0m     \u001b[1;32mreturn\u001b[0m \u001b[0mb\u001b[0m\u001b[1;33m(\u001b[0m\u001b[1;33m)\u001b[0m\u001b[1;33m\u001b[0m\u001b[1;33m\u001b[0m\u001b[0m\n\u001b[0;32m      7\u001b[0m \u001b[1;33m\u001b[0m\u001b[0m\n\u001b[1;32m----> 8\u001b[1;33m \u001b[0ma\u001b[0m\u001b[1;33m(\u001b[0m\u001b[1;33m)\u001b[0m\u001b[1;33m\u001b[0m\u001b[1;33m\u001b[0m\u001b[0m\n\u001b[0m",
      "\u001b[1;32m<ipython-input-11-7624b73225bb>\u001b[0m in \u001b[0;36ma\u001b[1;34m()\u001b[0m\n\u001b[0;32m      4\u001b[0m         \u001b[0mi\u001b[0m\u001b[1;33m*=\u001b[0m\u001b[1;36m2\u001b[0m\u001b[1;33m\u001b[0m\u001b[1;33m\u001b[0m\u001b[0m\n\u001b[0;32m      5\u001b[0m         \u001b[0mprint\u001b[0m\u001b[1;33m(\u001b[0m\u001b[0mi\u001b[0m\u001b[1;33m)\u001b[0m\u001b[1;33m\u001b[0m\u001b[1;33m\u001b[0m\u001b[0m\n\u001b[1;32m----> 6\u001b[1;33m     \u001b[1;32mreturn\u001b[0m \u001b[0mb\u001b[0m\u001b[1;33m(\u001b[0m\u001b[1;33m)\u001b[0m\u001b[1;33m\u001b[0m\u001b[1;33m\u001b[0m\u001b[0m\n\u001b[0m\u001b[0;32m      7\u001b[0m \u001b[1;33m\u001b[0m\u001b[0m\n\u001b[0;32m      8\u001b[0m \u001b[0ma\u001b[0m\u001b[1;33m(\u001b[0m\u001b[1;33m)\u001b[0m\u001b[1;33m\u001b[0m\u001b[1;33m\u001b[0m\u001b[0m\n",
      "\u001b[1;32m<ipython-input-11-7624b73225bb>\u001b[0m in \u001b[0;36mb\u001b[1;34m()\u001b[0m\n\u001b[0;32m      2\u001b[0m     \u001b[0mi\u001b[0m\u001b[1;33m=\u001b[0m\u001b[1;36m5\u001b[0m\u001b[1;33m\u001b[0m\u001b[1;33m\u001b[0m\u001b[0m\n\u001b[0;32m      3\u001b[0m     \u001b[1;32mdef\u001b[0m \u001b[0mb\u001b[0m\u001b[1;33m(\u001b[0m\u001b[1;33m)\u001b[0m\u001b[1;33m:\u001b[0m\u001b[1;33m\u001b[0m\u001b[1;33m\u001b[0m\u001b[0m\n\u001b[1;32m----> 4\u001b[1;33m         \u001b[0mi\u001b[0m\u001b[1;33m*=\u001b[0m\u001b[1;36m2\u001b[0m\u001b[1;33m\u001b[0m\u001b[1;33m\u001b[0m\u001b[0m\n\u001b[0m\u001b[0;32m      5\u001b[0m         \u001b[0mprint\u001b[0m\u001b[1;33m(\u001b[0m\u001b[0mi\u001b[0m\u001b[1;33m)\u001b[0m\u001b[1;33m\u001b[0m\u001b[1;33m\u001b[0m\u001b[0m\n\u001b[0;32m      6\u001b[0m     \u001b[1;32mreturn\u001b[0m \u001b[0mb\u001b[0m\u001b[1;33m(\u001b[0m\u001b[1;33m)\u001b[0m\u001b[1;33m\u001b[0m\u001b[1;33m\u001b[0m\u001b[0m\n",
      "\u001b[1;31mUnboundLocalError\u001b[0m: local variable 'i' referenced before assignment"
     ]
    }
   ],
   "source": [
    "def a():\n",
    "    i=5\n",
    "    def b():\n",
    "        i*=2\n",
    "        print(i)\n",
    "    return b()\n",
    "\n",
    "a()"
   ]
  },
  {
   "cell_type": "markdown",
   "metadata": {},
   "source": [
    "위의 코드이다. 이게 왜 안될까... 하면서 고민하다가 끝내 유추만 할 뿐이지 정확하게 이유를 알지 못했다.\n",
    "\n",
    "이제와서 보면, 실제 실행은 a() 하고 끝이지만 내부? 동작은\n",
    "\n",
    "1. 메인에서 a가 호출된다.\n",
    "2. i = 5이다.\n",
    "3. b를 선언하고 b를 리턴한다.\n",
    "4. b를 리턴했는데 함수 or 오브젝트 형태이기 때문에 일단 리턴은 해야겠고, 함수를 실행? 을해야되겠으니, 함수의 상태를 저장하고, 리턴한다.\n",
    "5. 메인에서 리턴된 b()를 실행한다.\n",
    "6. 저장되어있던 b의 상태를 불러와서 5의 값을 가지고 있는 i에 2를 곱해보려고 하니까 i의 값은 5다는 정보는 있는데, i가 할당되어있지는 않아서 곱할 수 없는것이다.\n",
    "\n",
    "라고 생각이 든다. \n",
    "\n",
    "추가로 데코레이터를 쓰는 이유는, 만들어져 있는 기존의 코드를 수정하지 않고도, wrapper함수를 이용하여 여러가지 기능을 추가할 수가 있기때문에 사용한다."
   ]
  },
  {
   "cell_type": "code",
   "execution_count": null,
   "metadata": {},
   "outputs": [],
   "source": [
    "def decorator(original_function):\n",
    "    \n",
    "    def wrapper():\n",
    "        print ('{} 함수가 호출되기전 입니다.'.format(original_function.__name__))\n",
    "        \n",
    "        return original_function()\n",
    "    \n",
    "    return wrapper\n",
    "\n",
    "\n",
    "def display_1():\n",
    "    print ('display_1 함수가 실행됐습니다.')\n",
    "\n",
    "\n",
    "def display_2():\n",
    "    print ('display_2 함수가 실행됐습니다.')\n",
    "\n",
    "display_1 = decorator(display_1)   # 이거랑\n",
    "display_2 = decorator(display_2)   # 이거\n",
    "\n",
    "display_1()\n",
    "print()\n",
    "display_2()"
   ]
  },
  {
   "cell_type": "markdown",
   "metadata": {},
   "source": [
    "이렇게 사용하는데! 위에 주석으로 이거랑 이거라고 해놓은 부분 대신 아래와 같이 쓴다."
   ]
  },
  {
   "cell_type": "code",
   "execution_count": null,
   "metadata": {},
   "outputs": [],
   "source": [
    "def decorator(original_function):\n",
    "    \n",
    "    def wrapper():\n",
    "        print ('{} 함수가 호출되기전 입니다.'.format(original_function.__name__))\n",
    "        \n",
    "        return original_function()\n",
    "    \n",
    "    return wrapper\n",
    "\n",
    "\n",
    "@decorator\n",
    "def display_1():\n",
    "    print ('display_1 함수가 실행됐습니다.')\n",
    "\n",
    "\n",
    "@decorator\n",
    "def display_2():\n",
    "    print ('display_2 함수가 실행됐습니다.')\n",
    "\n",
    "display_1()\n",
    "print()\n",
    "display_2()"
   ]
  },
  {
   "cell_type": "markdown",
   "metadata": {},
   "source": [
    "그런데, 인수를 가진 함수를 데코레이팅하고 싶을 때는 어떻게 할까?"
   ]
  },
  {
   "cell_type": "code",
   "execution_count": null,
   "metadata": {},
   "outputs": [],
   "source": [
    "def decorator(original_function):\n",
    "    \n",
    "    def wrapper():\n",
    "        print ('{} 함수가 호출되기전 입니다.'.format(original_function.__name__))\n",
    "        \n",
    "        return original_function()\n",
    "    \n",
    "    return wrapper\n",
    "\n",
    "\n",
    "@decorator\n",
    "def display():\n",
    "    print ('display 함수가 실행됐습니다.')\n",
    "\n",
    "\n",
    "@decorator\n",
    "def display_info(name, age):\n",
    "    print ('display_info({}, {}) 함수가 실행됐습니다.'.format(name, age))\n",
    "\n",
    "display()\n",
    "print()\n",
    "display_info('John', 25)"
   ]
  },
  {
   "cell_type": "markdown",
   "metadata": {},
   "source": [
    "wrapper_function은 0개의 매개변수를 받는데 2개를 줬다고 화낸다!\n",
    "\n",
    "그래서 아래와 같이 코드를 수정하면 해결된다."
   ]
  },
  {
   "cell_type": "code",
   "execution_count": null,
   "metadata": {},
   "outputs": [],
   "source": [
    "def decorator(original_function):\n",
    "    \n",
    "    def wrapper(*args, **kwargs):\n",
    "        print ('{} 함수가 호출되기전 입니다.'.format(original_function.__name__))\n",
    "        \n",
    "        return original_function(*args, **kwargs)\n",
    "    \n",
    "    return wrapper\n",
    "\n",
    "\n",
    "@decorator\n",
    "def display():\n",
    "    print ('display 함수가 실행됐습니다.')\n",
    "\n",
    "\n",
    "@decorator\n",
    "def display_info(name, age):\n",
    "    print ('display_info({}, {}) 함수가 실행됐습니다.'.format(name, age))\n",
    "\n",
    "display()\n",
    "print()\n",
    "display_info('John', 25)"
   ]
  },
  {
   "cell_type": "code",
   "execution_count": null,
   "metadata": {},
   "outputs": [],
   "source": [
    "def a(**kwargs):\n",
    "    print(type(kwargs))\n",
    "    \n",
    "a(asdf = 2)"
   ]
  },
  {
   "cell_type": "code",
   "execution_count": null,
   "metadata": {},
   "outputs": [],
   "source": []
  }
 ],
 "metadata": {
  "kernelspec": {
   "display_name": "Python 3",
   "language": "python",
   "name": "python3"
  },
  "language_info": {
   "codemirror_mode": {
    "name": "ipython",
    "version": 3
   },
   "file_extension": ".py",
   "mimetype": "text/x-python",
   "name": "python",
   "nbconvert_exporter": "python",
   "pygments_lexer": "ipython3",
   "version": "3.7.3"
  }
 },
 "nbformat": 4,
 "nbformat_minor": 2
}
